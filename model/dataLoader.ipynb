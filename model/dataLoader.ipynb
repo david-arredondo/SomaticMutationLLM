{
 "cells": [
  {
   "cell_type": "code",
   "execution_count": 6,
   "metadata": {},
   "outputs": [],
   "source": [
    "from sklearn.preprocessing import LabelEncoder\n",
    "import pandas as pd\n",
    "import numpy as np\n",
    "import torch\n",
    "from torch.utils.data import Dataset, DataLoader\n",
    "from torch.nn.utils.rnn import pad_sequence\n",
    "from saveAndLoad import *\n",
    "\n",
    "canonical_mut_embeddings_esm2 = np.load('../aa/canonical_mut_embeddings_esm2.npy')\n",
    "\n",
    "labeled_data = pd.read_csv('../data_processing/cancer_type_detailed_data.csv')\n",
    "data = labeled_data['0'].values\n",
    "\n",
    "label_encoder = LabelEncoder()\n",
    "string_labels = labeled_data['1']\n",
    "labels = label_encoder.fit_transform(string_labels)\n",
    "labels = torch.tensor(labels,dtype=torch.long)\n",
    "\n",
    "class Dataset_MutationList(Dataset):\n",
    "    def __init__(self, data, labels, embeddings):\n",
    "        load_str = lambda x: list(map(int,x.split(',')))\n",
    "        self.data = [load_str(i) for i in data]\n",
    "        self.labels = labels\n",
    "        self.embeddings = embeddings\n",
    "\n",
    "    def __len__(self):\n",
    "        return len(self.data)\n",
    "\n",
    "    def __getitem__(self, idx):\n",
    "        idxs = self.data[idx]\n",
    "        emb = torch.stack([torch.tensor(self.embeddings[i],dtype=torch.float32) for i in idxs])\n",
    "        return emb, self.labels[idx]\n",
    "    \n",
    "def custom_collate(batch):\n",
    "    data = [item[0] for item in batch]\n",
    "    labels = [item[1] for item in batch]\n",
    "    data = pad_sequence(data, batch_first=True, padding_value=float('-inf'))\n",
    "    labels = torch.stack(labels)\n",
    "    return data, labels\n",
    "\n",
    "# Create dataset\n",
    "dataset = Dataset_MutationList(data, labels, canonical_mut_embeddings_esm2)\n",
    "\n",
    "# Create DataLoader\n",
    "dataloader = DataLoader(dataset, batch_size=2, shuffle=False, collate_fn=custom_collate)"
   ]
  }
 ],
 "metadata": {
  "kernelspec": {
   "display_name": "deepV_a100",
   "language": "python",
   "name": "python3"
  },
  "language_info": {
   "codemirror_mode": {
    "name": "ipython",
    "version": 3
   },
   "file_extension": ".py",
   "mimetype": "text/x-python",
   "name": "python",
   "nbconvert_exporter": "python",
   "pygments_lexer": "ipython3",
   "version": "3.10.12"
  }
 },
 "nbformat": 4,
 "nbformat_minor": 2
}
