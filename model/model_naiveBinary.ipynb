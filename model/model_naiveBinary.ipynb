{
 "cells": [
  {
   "cell_type": "code",
   "execution_count": 1,
   "metadata": {},
   "outputs": [
    {
     "name": "stderr",
     "output_type": "stream",
     "text": [
      "/home/dandreas/.conda/envs/deepV_a100/lib/python3.10/site-packages/pandas/core/arrays/masked.py:60: UserWarning: Pandas requires version '1.3.6' or newer of 'bottleneck' (version '1.3.5' currently installed).\n",
      "  from pandas.core import (\n",
      "/home/dandreas/.conda/envs/deepV_a100/lib/python3.10/site-packages/transformers/utils/generic.py:441: FutureWarning: `torch.utils._pytree._register_pytree_node` is deprecated. Please use `torch.utils._pytree.register_pytree_node` instead.\n",
      "  _torch_pytree._register_pytree_node(\n"
     ]
    },
    {
     "name": "stdout",
     "output_type": "stream",
     "text": [
      "0 \t data_0_00_survival_ratio1.csv\n",
      "1 \t data_0_00percentMinCancerType.csv\n",
      "2 \t data_0_10percentMinCancerType.csv\n",
      "4 \t data_1_00percentMinCancerType.csv\n",
      "3 \t label_mappings\n",
      "\n",
      " data_1_00percentMinCancerType.csv\n",
      "145518 samples\n"
     ]
    }
   ],
   "source": [
    "from custom_dataset import Dataset_Binary, custom_collate, Dataset_Binary_Survival\n",
    "from models import *\n",
    "\n",
    "# LOAD DATA\n",
    "data_dir = '../labeled_data/'\n",
    "labeled_data = os.listdir(data_dir)\n",
    "for ni,i in sorted(zip(labeled_data,range(len(labeled_data)))):print(i,'\\t',ni)\n",
    "\n",
    "data = labeled_data[4]\n",
    "print('\\n',data)\n",
    "data_df = pd.read_csv(data_dir+data)\n",
    "\n",
    "nlabels = len(data_df['CANCER_TYPE_INT'].unique())\n",
    "device = 'cuda:1'\n",
    "\n",
    "# Create dataset\n",
    "dataset = Dataset_Binary(data_df, 'CANCER_TYPE_INT', device)\n",
    "\n",
    "# Create DataLoader\n",
    "# dataloader = DataLoader(dataset, batch_size=100, shuffle=False, collate_fn=custom_collate)"
   ]
  },
  {
   "cell_type": "code",
   "execution_count": 2,
   "metadata": {},
   "outputs": [
    {
     "data": {
      "text/plain": [
       "(tensor([1., 1., 1.,  ..., 0., 0., 0.], device='cuda:1'),\n",
       " tensor(13, device='cuda:1'))"
      ]
     },
     "execution_count": 2,
     "metadata": {},
     "output_type": "execute_result"
    }
   ],
   "source": [
    "dataset[0]"
   ]
  },
  {
   "cell_type": "code",
   "execution_count": 3,
   "metadata": {},
   "outputs": [
    {
     "name": "stdout",
     "output_type": "stream",
     "text": [
      "n labels: 20\n"
     ]
    },
    {
     "name": "stderr",
     "output_type": "stream",
     "text": [
      "TRAINING: 100%|██████████| 1165/1165 [00:05<00:00, 210.41it/s, Epoch=1/5, Loss: 1.7822]\n",
      "TESTING: 100%|██████████| 292/292 [00:00<00:00, 299.72it/s]\n"
     ]
    },
    {
     "name": "stdout",
     "output_type": "stream",
     "text": [
      "Test Accuracy: 51.86%, (15094 of 29104)\n"
     ]
    },
    {
     "name": "stderr",
     "output_type": "stream",
     "text": [
      "TRAINING: 100%|██████████| 1165/1165 [00:05<00:00, 203.45it/s, Epoch=2/5, Loss: 2.2148]\n",
      "TESTING: 100%|██████████| 292/292 [00:00<00:00, 303.91it/s]\n"
     ]
    },
    {
     "name": "stdout",
     "output_type": "stream",
     "text": [
      "Test Accuracy: 53.09%, (15451 of 29104)\n"
     ]
    },
    {
     "name": "stderr",
     "output_type": "stream",
     "text": [
      "TRAINING: 100%|██████████| 1165/1165 [00:06<00:00, 192.34it/s, Epoch=3/5, Loss: 0.9644]\n",
      "TESTING: 100%|██████████| 292/292 [00:00<00:00, 302.21it/s]\n"
     ]
    },
    {
     "name": "stdout",
     "output_type": "stream",
     "text": [
      "Test Accuracy: 52.93%, (15406 of 29104)\n"
     ]
    },
    {
     "name": "stderr",
     "output_type": "stream",
     "text": [
      "TRAINING: 100%|██████████| 1165/1165 [00:05<00:00, 210.17it/s, Epoch=4/5, Loss: 1.5195]\n",
      "TESTING: 100%|██████████| 292/292 [00:00<00:00, 304.48it/s]\n"
     ]
    },
    {
     "name": "stdout",
     "output_type": "stream",
     "text": [
      "Test Accuracy: 52.82%, (15374 of 29104)\n"
     ]
    },
    {
     "name": "stderr",
     "output_type": "stream",
     "text": [
      "TRAINING: 100%|██████████| 1165/1165 [00:05<00:00, 205.46it/s, Epoch=5/5, Loss: 1.1391]\n",
      "TESTING: 100%|██████████| 292/292 [00:01<00:00, 291.73it/s]"
     ]
    },
    {
     "name": "stdout",
     "output_type": "stream",
     "text": [
      "Test Accuracy: 51.99%, (15131 of 29104)\n",
      "Best Accuracy: 53.09% at epoch 1\n"
     ]
    },
    {
     "name": "stderr",
     "output_type": "stream",
     "text": [
      "\n"
     ]
    }
   ],
   "source": [
    "\n",
    "train_loader, test_loader = getTrainTestLoaders(dataset)\n",
    "class Config:\n",
    "    input_dim: int = 1448\n",
    "    bias: bool = False\n",
    "    n_labels: int = 17\n",
    "\n",
    "print('n labels:',nlabels)\n",
    "config = Config()\n",
    "config.n_labels = nlabels\n",
    "\n",
    "model = MLPClassifier(config)\n",
    "model.to(device)\n",
    "\n",
    "num_epochs = 5\n",
    "learning_rate = 0.001\n",
    "\n",
    "train(model,num_epochs,train_loader,test_loader)"
   ]
  },
  {
   "cell_type": "code",
   "execution_count": 11,
   "metadata": {},
   "outputs": [
    {
     "name": "stdout",
     "output_type": "stream",
     "text": [
      "n labels: 20\n"
     ]
    },
    {
     "name": "stderr",
     "output_type": "stream",
     "text": [
      "TRAINING: 100%|██████████| 1110/1110 [00:05<00:00, 220.96it/s, Epoch=1/3, Loss: 2.1026]\n",
      "TESTING: 100%|██████████| 278/278 [00:00<00:00, 306.20it/s]\n"
     ]
    },
    {
     "name": "stdout",
     "output_type": "stream",
     "text": [
      "Test Accuracy: 44.91%, (12458 of 27743)\n"
     ]
    },
    {
     "name": "stderr",
     "output_type": "stream",
     "text": [
      "TRAINING: 100%|██████████| 1110/1110 [00:05<00:00, 215.92it/s, Epoch=2/3, Loss: 1.8632]\n",
      "TESTING: 100%|██████████| 278/278 [00:01<00:00, 223.23it/s]\n"
     ]
    },
    {
     "name": "stdout",
     "output_type": "stream",
     "text": [
      "Test Accuracy: 48.83%, (13546 of 27743)\n"
     ]
    },
    {
     "name": "stderr",
     "output_type": "stream",
     "text": [
      "TRAINING: 100%|██████████| 1110/1110 [00:15<00:00, 73.85it/s, Epoch=3/3, Loss: 1.5989] \n",
      "TESTING: 100%|██████████| 278/278 [00:01<00:00, 232.61it/s]"
     ]
    },
    {
     "name": "stdout",
     "output_type": "stream",
     "text": [
      "Test Accuracy: 50.11%, (13903 of 27743)\n"
     ]
    },
    {
     "name": "stderr",
     "output_type": "stream",
     "text": [
      "\n"
     ]
    }
   ],
   "source": [
    "import torch.optim as optim\n",
    "from tqdm import tqdm\n",
    "\n",
    "class Config:\n",
    "    input_dim: int = 1448\n",
    "    n_labels: int = 17\n",
    "\n",
    "print('n labels:',nlabels)\n",
    "config = Config()\n",
    "config.n_labels = nlabels\n",
    "\n",
    "model = LRClassifier(config)\n",
    "model.to(device)\n",
    "\n",
    "num_epochs = 3\n",
    "learning_rate = 0.001\n",
    "\n",
    "train(model,num_epochs,train_loader,test_loader)"
   ]
  },
  {
   "cell_type": "code",
   "execution_count": 13,
   "metadata": {},
   "outputs": [
    {
     "data": {
      "text/plain": [
       "99"
      ]
     },
     "execution_count": 13,
     "metadata": {},
     "output_type": "execute_result"
    }
   ],
   "source": [
    "# #bug report\n",
    "# #len(genes) should be 100\n",
    "# #len(unique_idxs) for data_df_bin is 100\n",
    "# #likely, there are None mut embeddings mapping to the same gene in ref_map\n",
    "# flatten = lambda x: [i for j in x for i in j]\n",
    "# load_str = lambda x: list(map(int,x.split(',')))\n",
    "# data = [load_str(i) for i in data_df_emb['idxs'].values]\n",
    "# ref_map = {i[5]:i[4] for j in tumors.values() for i in j for k in i}\n",
    "# unique_idxs = list(set(flatten(data)))\n",
    "# genes = list(set([ref_map[i] for i in unique_idxs]))\n",
    "# len(genes)"
   ]
  },
  {
   "cell_type": "code",
   "execution_count": 2,
   "metadata": {},
   "outputs": [
    {
     "name": "stdout",
     "output_type": "stream",
     "text": [
      "loading data from ../aa/tumors.pkl\n",
      "top100_BINARYdata_CANCER_TYPE_3MinMutations_160MinCancerType.csv\n",
      "top100_data_CANCER_TYPE_3MinMutations_160MinCancerType.csv\n"
     ]
    }
   ],
   "source": [
    "#4,9\n",
    "from custom_dataset import Dataset_TopN_emb\n",
    "# mut_embeddings = np.load('../aa/canonical_mut_embeddings_esm2.npy')\n",
    "mut_embeddings = np.load('../aa/canonical_mut_average_embeddings_esm2.npy')\n",
    "ref_embeddings = np.load('../aa/canonical_ref_embeddings_esm2.npy')\n",
    "tumors = pickleLoad('../aa/tumors.pkl')\n",
    "data_bin = labeled_data[0]\n",
    "data_emb = labeled_data[31]\n",
    "print(data_bin)\n",
    "print(data_emb)\n",
    "data_df_bin = pd.read_csv(data_dir+data_bin)\n",
    "data_df_emb = pd.read_csv(data_dir+data_emb)"
   ]
  },
  {
   "cell_type": "code",
   "execution_count": 3,
   "metadata": {},
   "outputs": [
    {
     "name": "stdout",
     "output_type": "stream",
     "text": [
      "210100 unique mutations\n",
      "99 genes\n",
      "210100 unique mutations\n",
      "99 genes\n",
      "51 51\n"
     ]
    }
   ],
   "source": [
    "dataset_bin = Dataset_Binary(data_df_bin, device)\n",
    "train_loader_bin, test_loader_bin = getTrainTestLoaders(dataset_bin, batch_size = 1000)\n",
    "dataset_emb = Dataset_TopN_emb(data_df_emb, mut_embeddings, ref_embeddings, tumors, device, pca=64)\n",
    "train_loader_emb, test_loader_emb = getTrainTestLoaders(dataset_emb, batch_size = 1000)\n",
    "dataset_att = Dataset_TopN_emb(data_df_emb, mut_embeddings, ref_embeddings, tumors, device, flat = False)\n",
    "train_loader_att, test_loader_att = getTrainTestLoaders(dataset_att, batch_size = 1000, collate=custom_collate)\n",
    "nlabels_bin = len(data_df_bin['int_label'].unique())\n",
    "nlabels_emb = len(data_df_emb['int_label'].unique())\n",
    "print(nlabels_bin,nlabels_emb)\n",
    "\n",
    "\n",
    "## HYPERPARAMS\n",
    "num_epochs = 10\n",
    "learning_rate = 0.001\n"
   ]
  },
  {
   "cell_type": "code",
   "execution_count": null,
   "metadata": {},
   "outputs": [],
   "source": [
    "## ATTENTION MODEL WITH POSITION EMBEDDING\n",
    "class Config_Att:\n",
    "    n_layer: int = 3\n",
    "    input_dim: int = 640\n",
    "    dropout: float = 0.0\n",
    "    bias: bool = False\n",
    "    n_labels: int = 17\n",
    "    pooling : str = 'mean'\n",
    "    norm_fn: nn.Module = nn.LayerNorm\n",
    "    max_len : int = 99\n",
    "    position_embedding: bool = True\n",
    "\n",
    "config_att = Config_Att()\n",
    "config_att.n_labels = nlabels_emb\n",
    "\n",
    "model_att = Classifier(config_att)\n",
    "model_att.to(device)\n",
    "\n",
    "num_epochs = 15\n",
    "train(model_att,num_epochs,train_loader_att,test_loader_att)"
   ]
  },
  {
   "cell_type": "code",
   "execution_count": null,
   "metadata": {},
   "outputs": [],
   "source": [
    "## ATTENTION MODEL WITHOUT POSITION EMBEDDING\n",
    "class Config_Att:\n",
    "    n_layer: int = 3\n",
    "    input_dim: int = 640\n",
    "    dropout: float = 0.0\n",
    "    bias: bool = False\n",
    "    n_labels: int = 17\n",
    "    pooling : str = 'mean'\n",
    "    norm_fn: nn.Module = nn.LayerNorm\n",
    "    position_embedding: bool = False\n",
    "    max_len : int = 100\n",
    "\n",
    "config_att = Config_Att()\n",
    "config_att.n_labels = nlabels_emb\n",
    "\n",
    "model_att = Classifier(config_att)\n",
    "model_att.to(device)\n",
    "\n",
    "train(model_att,num_epochs,train_loader_att,test_loader_att)"
   ]
  },
  {
   "cell_type": "code",
   "execution_count": 5,
   "metadata": {},
   "outputs": [
    {
     "name": "stdout",
     "output_type": "stream",
     "text": [
      "n labels: 53\n"
     ]
    },
    {
     "name": "stderr",
     "output_type": "stream",
     "text": [
      "TRAINING: 100%|██████████| 705/705 [00:09<00:00, 76.51it/s, Epoch=1/10, Loss: 1.8023]\n",
      "TESTING: 100%|██████████| 177/177 [00:01<00:00, 101.91it/s]\n"
     ]
    },
    {
     "name": "stdout",
     "output_type": "stream",
     "text": [
      "Test Accuracy: 52.28%, (9202 of 17603)\n"
     ]
    },
    {
     "name": "stderr",
     "output_type": "stream",
     "text": [
      "TRAINING: 100%|██████████| 705/705 [00:08<00:00, 79.30it/s, Epoch=2/10, Loss: 1.9257]\n",
      "TESTING: 100%|██████████| 177/177 [00:01<00:00, 104.57it/s]\n"
     ]
    },
    {
     "name": "stdout",
     "output_type": "stream",
     "text": [
      "Test Accuracy: 53.14%, (9355 of 17603)\n"
     ]
    },
    {
     "name": "stderr",
     "output_type": "stream",
     "text": [
      "TRAINING: 100%|██████████| 705/705 [00:08<00:00, 80.64it/s, Epoch=3/10, Loss: 1.5475]\n",
      "TESTING: 100%|██████████| 177/177 [00:01<00:00, 105.79it/s]\n"
     ]
    },
    {
     "name": "stdout",
     "output_type": "stream",
     "text": [
      "Test Accuracy: 52.67%, (9272 of 17603)\n"
     ]
    },
    {
     "name": "stderr",
     "output_type": "stream",
     "text": [
      "TRAINING: 100%|██████████| 705/705 [00:08<00:00, 80.75it/s, Epoch=4/10, Loss: 1.0615]\n",
      "TESTING: 100%|██████████| 177/177 [00:01<00:00, 106.80it/s]\n"
     ]
    },
    {
     "name": "stdout",
     "output_type": "stream",
     "text": [
      "Test Accuracy: 52.34%, (9214 of 17603)\n"
     ]
    },
    {
     "name": "stderr",
     "output_type": "stream",
     "text": [
      "TRAINING: 100%|██████████| 705/705 [00:08<00:00, 80.64it/s, Epoch=5/10, Loss: 1.5861]\n",
      "TESTING: 100%|██████████| 177/177 [00:01<00:00, 107.10it/s]\n"
     ]
    },
    {
     "name": "stdout",
     "output_type": "stream",
     "text": [
      "Test Accuracy: 52.17%, (9184 of 17603)\n"
     ]
    },
    {
     "name": "stderr",
     "output_type": "stream",
     "text": [
      "TRAINING: 100%|██████████| 705/705 [00:08<00:00, 80.71it/s, Epoch=6/10, Loss: 1.5529]\n",
      "TESTING: 100%|██████████| 177/177 [00:01<00:00, 105.95it/s]\n"
     ]
    },
    {
     "name": "stdout",
     "output_type": "stream",
     "text": [
      "Test Accuracy: 51.27%, (9025 of 17603)\n"
     ]
    },
    {
     "name": "stderr",
     "output_type": "stream",
     "text": [
      "TRAINING: 100%|██████████| 705/705 [00:08<00:00, 81.29it/s, Epoch=7/10, Loss: 1.8256]\n",
      "TESTING: 100%|██████████| 177/177 [00:01<00:00, 105.39it/s]\n"
     ]
    },
    {
     "name": "stdout",
     "output_type": "stream",
     "text": [
      "Test Accuracy: 51.14%, (9002 of 17603)\n"
     ]
    },
    {
     "name": "stderr",
     "output_type": "stream",
     "text": [
      "TRAINING: 100%|██████████| 705/705 [00:08<00:00, 80.97it/s, Epoch=8/10, Loss: 1.6346]\n",
      "TESTING: 100%|██████████| 177/177 [00:01<00:00, 107.85it/s]\n"
     ]
    },
    {
     "name": "stdout",
     "output_type": "stream",
     "text": [
      "Test Accuracy: 50.97%, (8973 of 17603)\n"
     ]
    },
    {
     "name": "stderr",
     "output_type": "stream",
     "text": [
      "TRAINING: 100%|██████████| 705/705 [00:08<00:00, 81.24it/s, Epoch=9/10, Loss: 0.7138]\n",
      "TESTING: 100%|██████████| 177/177 [00:01<00:00, 105.16it/s]\n"
     ]
    },
    {
     "name": "stdout",
     "output_type": "stream",
     "text": [
      "Test Accuracy: 50.36%, (8864 of 17603)\n"
     ]
    },
    {
     "name": "stderr",
     "output_type": "stream",
     "text": [
      "TRAINING: 100%|██████████| 705/705 [00:08<00:00, 81.32it/s, Epoch=10/10, Loss: 1.0940]\n",
      "TESTING: 100%|██████████| 177/177 [00:01<00:00, 107.97it/s]"
     ]
    },
    {
     "name": "stdout",
     "output_type": "stream",
     "text": [
      "Test Accuracy: 50.08%, (8815 of 17603)\n"
     ]
    },
    {
     "name": "stderr",
     "output_type": "stream",
     "text": [
      "\n"
     ]
    }
   ],
   "source": [
    "##EMBEDDING MODEL\n",
    "class Config_Emb:\n",
    "    input_dim: int = 6272 #98 instead of 100 for some reason\n",
    "    bias: bool = False\n",
    "    n_labels: int\n",
    "\n",
    "print('n labels:',nlabels)\n",
    "config_emb = Config_Emb()\n",
    "config_emb.n_labels = nlabels_emb\n",
    "\n",
    "model_emb = BigMLP(config_emb)\n",
    "model_emb.to(device)\n",
    "\n",
    "train(model_emb,num_epochs,train_loader_emb,test_loader_emb)"
   ]
  },
  {
   "cell_type": "code",
   "execution_count": 4,
   "metadata": {},
   "outputs": [
    {
     "name": "stderr",
     "output_type": "stream",
     "text": [
      "TRAINING: 100%|██████████| 73/73 [00:02<00:00, 32.38it/s, Epoch=1/10, Loss: 2.5820]\n",
      "TESTING: 100%|██████████| 19/19 [00:00<00:00, 36.46it/s]\n"
     ]
    },
    {
     "name": "stdout",
     "output_type": "stream",
     "text": [
      "Test Accuracy: 31.78%, (5786 of 18209)\n"
     ]
    },
    {
     "name": "stderr",
     "output_type": "stream",
     "text": [
      "TRAINING: 100%|██████████| 73/73 [00:02<00:00, 33.27it/s, Epoch=2/10, Loss: 2.2532]\n",
      "TESTING: 100%|██████████| 19/19 [00:00<00:00, 37.97it/s]\n"
     ]
    },
    {
     "name": "stdout",
     "output_type": "stream",
     "text": [
      "Test Accuracy: 45.18%, (8227 of 18209)\n"
     ]
    },
    {
     "name": "stderr",
     "output_type": "stream",
     "text": [
      "TRAINING: 100%|██████████| 73/73 [00:02<00:00, 33.39it/s, Epoch=3/10, Loss: 2.0070]\n",
      "TESTING: 100%|██████████| 19/19 [00:00<00:00, 37.75it/s]\n"
     ]
    },
    {
     "name": "stdout",
     "output_type": "stream",
     "text": [
      "Test Accuracy: 46.59%, (8484 of 18209)\n"
     ]
    },
    {
     "name": "stderr",
     "output_type": "stream",
     "text": [
      "TRAINING: 100%|██████████| 73/73 [00:02<00:00, 33.18it/s, Epoch=4/10, Loss: 1.9867]\n",
      "TESTING: 100%|██████████| 19/19 [00:00<00:00, 37.91it/s]\n"
     ]
    },
    {
     "name": "stdout",
     "output_type": "stream",
     "text": [
      "Test Accuracy: 47.17%, (8590 of 18209)\n"
     ]
    },
    {
     "name": "stderr",
     "output_type": "stream",
     "text": [
      "TRAINING: 100%|██████████| 73/73 [00:02<00:00, 33.11it/s, Epoch=5/10, Loss: 1.9407]\n",
      "TESTING: 100%|██████████| 19/19 [00:00<00:00, 38.06it/s]\n"
     ]
    },
    {
     "name": "stdout",
     "output_type": "stream",
     "text": [
      "Test Accuracy: 48.05%, (8750 of 18209)\n"
     ]
    },
    {
     "name": "stderr",
     "output_type": "stream",
     "text": [
      "TRAINING: 100%|██████████| 73/73 [00:02<00:00, 33.38it/s, Epoch=6/10, Loss: 1.9732]\n",
      "TESTING: 100%|██████████| 19/19 [00:00<00:00, 38.00it/s]\n"
     ]
    },
    {
     "name": "stdout",
     "output_type": "stream",
     "text": [
      "Test Accuracy: 48.03%, (8746 of 18209)\n"
     ]
    },
    {
     "name": "stderr",
     "output_type": "stream",
     "text": [
      "TRAINING: 100%|██████████| 73/73 [00:02<00:00, 33.46it/s, Epoch=7/10, Loss: 1.8917]\n",
      "TESTING: 100%|██████████| 19/19 [00:00<00:00, 37.94it/s]\n"
     ]
    },
    {
     "name": "stdout",
     "output_type": "stream",
     "text": [
      "Test Accuracy: 48.44%, (8820 of 18209)\n"
     ]
    },
    {
     "name": "stderr",
     "output_type": "stream",
     "text": [
      "TRAINING: 100%|██████████| 73/73 [00:02<00:00, 27.00it/s, Epoch=8/10, Loss: 1.8689]\n",
      "TESTING: 100%|██████████| 19/19 [00:00<00:00, 37.90it/s]\n"
     ]
    },
    {
     "name": "stdout",
     "output_type": "stream",
     "text": [
      "Test Accuracy: 48.78%, (8883 of 18209)\n"
     ]
    },
    {
     "name": "stderr",
     "output_type": "stream",
     "text": [
      "TRAINING: 100%|██████████| 73/73 [00:02<00:00, 33.51it/s, Epoch=9/10, Loss: 1.9086]\n",
      "TESTING: 100%|██████████| 19/19 [00:00<00:00, 38.00it/s]\n"
     ]
    },
    {
     "name": "stdout",
     "output_type": "stream",
     "text": [
      "Test Accuracy: 48.78%, (8882 of 18209)\n"
     ]
    },
    {
     "name": "stderr",
     "output_type": "stream",
     "text": [
      "TRAINING: 100%|██████████| 73/73 [00:02<00:00, 33.26it/s, Epoch=10/10, Loss: 1.8793]\n",
      "TESTING: 100%|██████████| 19/19 [00:00<00:00, 37.95it/s]"
     ]
    },
    {
     "name": "stdout",
     "output_type": "stream",
     "text": [
      "Test Accuracy: 49.38%, (8992 of 18209)\n"
     ]
    },
    {
     "name": "stderr",
     "output_type": "stream",
     "text": [
      "\n"
     ]
    }
   ],
   "source": [
    "## BINARY MODEL\n",
    "class Config_Bin:\n",
    "    input_dim: int = 1448\n",
    "    bias: bool = False\n",
    "    n_labels: int\n",
    "config_bin = Config_Bin()\n",
    "config_bin.n_labels = nlabels_bin\n",
    "\n",
    "model_bin = MLPClassifier(config_bin)\n",
    "model_bin.to(device)\n",
    "\n",
    "train(model_bin,num_epochs,train_loader_bin,test_loader_bin)"
   ]
  },
  {
   "cell_type": "code",
   "execution_count": 2,
   "metadata": {},
   "outputs": [
    {
     "name": "stdout",
     "output_type": "stream",
     "text": [
      "dropped 17712 nan samples (11.07%)\n",
      "20563 samples\n",
      "19511 unique patients\n"
     ]
    },
    {
     "name": "stderr",
     "output_type": "stream",
     "text": [
      "TRAINING: 100%|██████████| 17/17 [00:03<00:00,  5.60it/s, Epoch=1/10, Loss: 5.0910]\n",
      "TESTING: 100%|██████████| 5/5 [00:00<00:00, 19.47it/s]\n"
     ]
    },
    {
     "name": "stdout",
     "output_type": "stream",
     "text": [
      "Saved ./best_models/model_binary_survival_uncensored.pt at epoch 0\n",
      "C-Index: 0.5686\n"
     ]
    },
    {
     "name": "stderr",
     "output_type": "stream",
     "text": [
      "TRAINING: 100%|██████████| 17/17 [00:02<00:00,  7.68it/s, Epoch=2/10, Loss: 5.0840]\n",
      "TESTING: 100%|██████████| 5/5 [00:00<00:00, 19.56it/s]\n"
     ]
    },
    {
     "name": "stdout",
     "output_type": "stream",
     "text": [
      "C-Index: 0.5650\n"
     ]
    },
    {
     "name": "stderr",
     "output_type": "stream",
     "text": [
      "TRAINING: 100%|██████████| 17/17 [00:02<00:00,  7.75it/s, Epoch=3/10, Loss: 5.0655]\n",
      "TESTING: 100%|██████████| 5/5 [00:00<00:00, 18.91it/s]\n"
     ]
    },
    {
     "name": "stdout",
     "output_type": "stream",
     "text": [
      "C-Index: 0.5672\n"
     ]
    },
    {
     "name": "stderr",
     "output_type": "stream",
     "text": [
      "TRAINING: 100%|██████████| 17/17 [00:02<00:00,  7.68it/s, Epoch=4/10, Loss: 5.0326]\n",
      "TESTING: 100%|██████████| 5/5 [00:00<00:00, 17.77it/s]\n"
     ]
    },
    {
     "name": "stdout",
     "output_type": "stream",
     "text": [
      "C-Index: 0.5662\n"
     ]
    },
    {
     "name": "stderr",
     "output_type": "stream",
     "text": [
      "TRAINING: 100%|██████████| 17/17 [00:02<00:00,  7.54it/s, Epoch=5/10, Loss: 4.9918]\n",
      "TESTING: 100%|██████████| 5/5 [00:01<00:00,  3.61it/s]\n"
     ]
    },
    {
     "name": "stdout",
     "output_type": "stream",
     "text": [
      "C-Index: 0.5626\n"
     ]
    },
    {
     "name": "stderr",
     "output_type": "stream",
     "text": [
      "TRAINING: 100%|██████████| 17/17 [00:01<00:00, 15.73it/s, Epoch=6/10, Loss: 4.9221]\n",
      "TESTING: 100%|██████████| 5/5 [00:01<00:00,  3.61it/s]\n"
     ]
    },
    {
     "name": "stdout",
     "output_type": "stream",
     "text": [
      "C-Index: 0.5629\n"
     ]
    },
    {
     "name": "stderr",
     "output_type": "stream",
     "text": [
      "TRAINING: 100%|██████████| 17/17 [00:01<00:00, 16.08it/s, Epoch=7/10, Loss: 4.7587]\n",
      "TESTING: 100%|██████████| 5/5 [00:01<00:00,  3.63it/s]\n"
     ]
    },
    {
     "name": "stdout",
     "output_type": "stream",
     "text": [
      "C-Index: 0.5602\n"
     ]
    },
    {
     "name": "stderr",
     "output_type": "stream",
     "text": [
      "TRAINING: 100%|██████████| 17/17 [00:02<00:00,  7.72it/s, Epoch=8/10, Loss: 4.7439]\n",
      "TESTING: 100%|██████████| 5/5 [00:00<00:00, 19.69it/s]\n"
     ]
    },
    {
     "name": "stdout",
     "output_type": "stream",
     "text": [
      "C-Index: 0.5582\n"
     ]
    },
    {
     "name": "stderr",
     "output_type": "stream",
     "text": [
      "TRAINING: 100%|██████████| 17/17 [00:02<00:00,  7.75it/s, Epoch=9/10, Loss: 4.6600]\n",
      "TESTING: 100%|██████████| 5/5 [00:00<00:00, 19.47it/s]\n"
     ]
    },
    {
     "name": "stdout",
     "output_type": "stream",
     "text": [
      "C-Index: 0.5544\n"
     ]
    },
    {
     "name": "stderr",
     "output_type": "stream",
     "text": [
      "TRAINING: 100%|██████████| 17/17 [00:02<00:00,  7.72it/s, Epoch=10/10, Loss: 4.6212]\n",
      "TESTING: 100%|██████████| 5/5 [00:00<00:00, 19.32it/s]"
     ]
    },
    {
     "name": "stdout",
     "output_type": "stream",
     "text": [
      "C-Index: 0.5532\n",
      "Best C-Index: 0.5686 at epoch 0\n"
     ]
    },
    {
     "name": "stderr",
     "output_type": "stream",
     "text": [
      "\n"
     ]
    }
   ],
   "source": [
    "dataset_binary_survival = Dataset_Binary_Survival(data_df, device, uncensored_only=True)\n",
    "train_loader_survival, test_loader_survival = getTrainTestLoaders(dataset_binary_survival, batch_size = 1000)\n",
    "\n",
    "## BINARY SURVIVAL MODEL\n",
    "class Config_Bin:\n",
    "    input_dim: int = 1448\n",
    "    bias: bool = False\n",
    "    n_labels: int = 1\n",
    "\n",
    "config = Config_Bin()\n",
    "model = MLPClassifier(config)\n",
    "model.to(device)\n",
    "num_epochs = 10\n",
    "\n",
    "optimizer = optim.Adam(model.parameters(), lr=.001, weight_decay=1e-4)\n",
    "criterion = negative_log_partial_likelihood\n",
    "train_binary_survival(model,num_epochs,train_loader_survival,test_loader_survival, criterion, optimizer, saveName = './best_models/model_binary_survival_uncensored.pt')"
   ]
  },
  {
   "cell_type": "code",
   "execution_count": null,
   "metadata": {},
   "outputs": [],
   "source": []
  }
 ],
 "metadata": {
  "kernelspec": {
   "display_name": "deepV_a100",
   "language": "python",
   "name": "python3"
  },
  "language_info": {
   "codemirror_mode": {
    "name": "ipython",
    "version": 3
   },
   "file_extension": ".py",
   "mimetype": "text/x-python",
   "name": "python",
   "nbconvert_exporter": "python",
   "pygments_lexer": "ipython3",
   "version": "3.10.12"
  }
 },
 "nbformat": 4,
 "nbformat_minor": 2
}
