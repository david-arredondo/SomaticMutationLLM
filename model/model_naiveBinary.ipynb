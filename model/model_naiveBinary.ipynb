{
 "cells": [
  {
   "cell_type": "code",
   "execution_count": 1,
   "metadata": {},
   "outputs": [
    {
     "name": "stdout",
     "output_type": "stream",
     "text": [
      "37 \t BINARYdata_CANCER_TYPE_0MinMutations_1696MinCancerType.csv\n",
      "24 \t BINARYdata_CANCER_TYPE_0MinMutations_169MinCancerType.csv\n",
      "1 \t BINARYdata_CANCER_TYPE_3MinMutations_1696MinCancerType.csv\n",
      "32 \t BINARYdata_CANCER_TYPE_3MinMutations_169MinCancerType.csv\n",
      "12 \t BINARYdata_CANCER_TYPE_DETAILED_0MinMutations_1696MinCancerType.csv\n",
      "26 \t BINARYdata_CANCER_TYPE_DETAILED_0MinMutations_169MinCancerType.csv\n",
      "10 \t BINARYdata_CANCER_TYPE_DETAILED_3MinMutations_1696MinCancerType.csv\n",
      "30 \t BINARYdata_CANCER_TYPE_DETAILED_3MinMutations_169MinCancerType.csv\n",
      "23 \t data_CANCER_TYPE_0MinMutations_1696MinCancerType.csv\n",
      "25 \t data_CANCER_TYPE_0MinMutations_169MinCancerType.csv\n",
      "41 \t data_CANCER_TYPE_3MinMutations_1696MinCancerType.csv\n",
      "17 \t data_CANCER_TYPE_3MinMutations_169MinCancerType.csv\n",
      "11 \t data_CANCER_TYPE_DETAILED_0MinMutations_1696MinCancerType.csv\n",
      "28 \t data_CANCER_TYPE_DETAILED_0MinMutations_169MinCancerType.csv\n",
      "4 \t data_CANCER_TYPE_DETAILED_3MinMutations_1696MinCancerType.csv\n",
      "47 \t data_CANCER_TYPE_DETAILED_3MinMutations_169MinCancerType.csv\n",
      "35 \t label_mappings\n",
      "45 \t top100_BINARYdata_CANCER_TYPE_0MinMutations_1604MinCancerType.csv\n",
      "22 \t top100_BINARYdata_CANCER_TYPE_0MinMutations_160MinCancerType.csv\n",
      "33 \t top100_BINARYdata_CANCER_TYPE_3MinMutations_1604MinCancerType.csv\n",
      "0 \t top100_BINARYdata_CANCER_TYPE_3MinMutations_160MinCancerType.csv\n",
      "2 \t top100_BINARYdata_CANCER_TYPE_DETAILED_0MinMutations_1604MinCancerType.csv\n",
      "43 \t top100_BINARYdata_CANCER_TYPE_DETAILED_0MinMutations_160MinCancerType.csv\n",
      "6 \t top100_BINARYdata_CANCER_TYPE_DETAILED_3MinMutations_1604MinCancerType.csv\n",
      "21 \t top100_BINARYdata_CANCER_TYPE_DETAILED_3MinMutations_160MinCancerType.csv\n",
      "38 \t top100_data_CANCER_TYPE_0MinMutations_1604MinCancerType.csv\n",
      "40 \t top100_data_CANCER_TYPE_0MinMutations_160MinCancerType.csv\n",
      "36 \t top100_data_CANCER_TYPE_3MinMutations_1604MinCancerType.csv\n",
      "31 \t top100_data_CANCER_TYPE_3MinMutations_160MinCancerType.csv\n",
      "3 \t top100_data_CANCER_TYPE_DETAILED_0MinMutations_1604MinCancerType.csv\n",
      "20 \t top100_data_CANCER_TYPE_DETAILED_0MinMutations_160MinCancerType.csv\n",
      "44 \t top100_data_CANCER_TYPE_DETAILED_3MinMutations_1604MinCancerType.csv\n",
      "16 \t top100_data_CANCER_TYPE_DETAILED_3MinMutations_160MinCancerType.csv\n",
      "34 \t top10_BINARYdata_CANCER_TYPE_0MinMutations_1213MinCancerType.csv\n",
      "46 \t top10_BINARYdata_CANCER_TYPE_0MinMutations_121MinCancerType.csv\n",
      "15 \t top10_BINARYdata_CANCER_TYPE_3MinMutations_1213MinCancerType.csv\n",
      "29 \t top10_BINARYdata_CANCER_TYPE_3MinMutations_121MinCancerType.csv\n",
      "48 \t top10_BINARYdata_CANCER_TYPE_DETAILED_0MinMutations_1213MinCancerType.csv\n",
      "42 \t top10_BINARYdata_CANCER_TYPE_DETAILED_0MinMutations_121MinCancerType.csv\n",
      "19 \t top10_BINARYdata_CANCER_TYPE_DETAILED_3MinMutations_1213MinCancerType.csv\n",
      "8 \t top10_BINARYdata_CANCER_TYPE_DETAILED_3MinMutations_121MinCancerType.csv\n",
      "39 \t top10_data_CANCER_TYPE_0MinMutations_1696MinCancerType.csv\n",
      "9 \t top10_data_CANCER_TYPE_0MinMutations_169MinCancerType.csv\n",
      "14 \t top10_data_CANCER_TYPE_3MinMutations_1696MinCancerType.csv\n",
      "7 \t top10_data_CANCER_TYPE_3MinMutations_169MinCancerType.csv\n",
      "5 \t top10_data_CANCER_TYPE_DETAILED_0MinMutations_1696MinCancerType.csv\n",
      "27 \t top10_data_CANCER_TYPE_DETAILED_0MinMutations_169MinCancerType.csv\n",
      "18 \t top10_data_CANCER_TYPE_DETAILED_3MinMutations_1696MinCancerType.csv\n",
      "13 \t top10_data_CANCER_TYPE_DETAILED_3MinMutations_169MinCancerType.csv\n",
      "\n",
      " top10_data_CANCER_TYPE_0MinMutations_1696MinCancerType.csv\n"
     ]
    }
   ],
   "source": [
    "from custom_dataset import Dataset_Binary, custom_collate\n",
    "from models import *\n",
    "\n",
    "# LOAD DATA\n",
    "data_dir = '../labeled_data/'\n",
    "labeled_data = os.listdir(data_dir)\n",
    "for ni,i in sorted(zip(labeled_data,range(len(labeled_data)))):print(i,'\\t',ni)\n",
    "\n",
    "data = labeled_data[39]\n",
    "print('\\n',data)\n",
    "data_df = pd.read_csv(data_dir+data)\n",
    "\n",
    "nlabels = len(data_df['int_label'].unique())\n",
    "device = 'cuda:1'\n",
    "\n",
    "# Create dataset\n",
    "dataset = Dataset_Binary(data_df, device)\n",
    "\n",
    "# Create DataLoader\n",
    "# dataloader = DataLoader(dataset, batch_size=100, shuffle=False, collate_fn=custom_collate)"
   ]
  },
  {
   "cell_type": "code",
   "execution_count": 2,
   "metadata": {},
   "outputs": [
    {
     "data": {
      "text/plain": [
       "(tensor([1., 1., 1.,  ..., 0., 0., 0.], device='cuda:1'),\n",
       " tensor(34, device='cuda:1'))"
      ]
     },
     "execution_count": 2,
     "metadata": {},
     "output_type": "execute_result"
    }
   ],
   "source": [
    "dataset[0]"
   ]
  },
  {
   "cell_type": "code",
   "execution_count": 3,
   "metadata": {},
   "outputs": [
    {
     "name": "stdout",
     "output_type": "stream",
     "text": [
      "n labels: 53\n"
     ]
    },
    {
     "name": "stderr",
     "output_type": "stream",
     "text": [
      "TRAINING: 100%|██████████| 920/920 [00:26<00:00, 35.04it/s, Epoch=1/3, Loss: 1.6244] \n",
      "TESTING: 100%|██████████| 230/230 [00:03<00:00, 66.06it/s] \n"
     ]
    },
    {
     "name": "stdout",
     "output_type": "stream",
     "text": [
      "Test Accuracy: 48.66%, (11187 of 22990)\n"
     ]
    },
    {
     "name": "stderr",
     "output_type": "stream",
     "text": [
      "TRAINING: 100%|██████████| 920/920 [00:28<00:00, 32.12it/s, Epoch=2/3, Loss: 1.7669] \n",
      "TESTING: 100%|██████████| 230/230 [00:07<00:00, 32.67it/s] \n"
     ]
    },
    {
     "name": "stdout",
     "output_type": "stream",
     "text": [
      "Test Accuracy: 50.07%, (11510 of 22990)\n"
     ]
    },
    {
     "name": "stderr",
     "output_type": "stream",
     "text": [
      "TRAINING: 100%|██████████| 920/920 [00:28<00:00, 32.76it/s, Epoch=3/3, Loss: 1.9747] \n",
      "TESTING: 100%|██████████| 230/230 [00:00<00:00, 317.23it/s]"
     ]
    },
    {
     "name": "stdout",
     "output_type": "stream",
     "text": [
      "Test Accuracy: 50.00%, (11495 of 22990)\n"
     ]
    },
    {
     "name": "stderr",
     "output_type": "stream",
     "text": [
      "\n"
     ]
    }
   ],
   "source": [
    "\n",
    "train_loader, test_loader = getTrainTestLoaders(dataset)\n",
    "class Config:\n",
    "    input_dim: int = 1448\n",
    "    bias: bool = False\n",
    "    n_labels: int = 17\n",
    "\n",
    "print('n labels:',nlabels)\n",
    "config = Config()\n",
    "config.n_labels = nlabels\n",
    "\n",
    "model = MLPClassifier(config)\n",
    "model.to(device)\n",
    "\n",
    "num_epochs = 3\n",
    "learning_rate = 0.001\n",
    "\n",
    "train(model,num_epochs,train_loader,test_loader)"
   ]
  },
  {
   "cell_type": "code",
   "execution_count": 4,
   "metadata": {},
   "outputs": [
    {
     "name": "stdout",
     "output_type": "stream",
     "text": [
      "n labels: 53\n"
     ]
    },
    {
     "name": "stderr",
     "output_type": "stream",
     "text": [
      "TRAINING: 100%|██████████| 920/920 [00:36<00:00, 25.12it/s, Epoch=1/3, Loss: 2.4114] \n",
      "TESTING: 100%|██████████| 230/230 [00:00<00:00, 317.43it/s]\n"
     ]
    },
    {
     "name": "stdout",
     "output_type": "stream",
     "text": [
      "Test Accuracy: 41.04%, (9434 of 22990)\n"
     ]
    },
    {
     "name": "stderr",
     "output_type": "stream",
     "text": [
      "TRAINING: 100%|██████████| 920/920 [00:23<00:00, 38.41it/s, Epoch=2/3, Loss: 2.3260] \n",
      "TESTING: 100%|██████████| 230/230 [00:07<00:00, 32.81it/s]\n"
     ]
    },
    {
     "name": "stdout",
     "output_type": "stream",
     "text": [
      "Test Accuracy: 46.43%, (10675 of 22990)\n"
     ]
    },
    {
     "name": "stderr",
     "output_type": "stream",
     "text": [
      "TRAINING: 100%|██████████| 920/920 [00:21<00:00, 42.45it/s, Epoch=3/3, Loss: 2.0314] \n",
      "TESTING: 100%|██████████| 230/230 [00:03<00:00, 61.53it/s] "
     ]
    },
    {
     "name": "stdout",
     "output_type": "stream",
     "text": [
      "Test Accuracy: 48.00%, (11035 of 22990)\n"
     ]
    },
    {
     "name": "stderr",
     "output_type": "stream",
     "text": [
      "\n"
     ]
    }
   ],
   "source": [
    "import torch.optim as optim\n",
    "from tqdm import tqdm\n",
    "\n",
    "class Config:\n",
    "    input_dim: int = 1448\n",
    "    n_labels: int = 17\n",
    "\n",
    "print('n labels:',nlabels)\n",
    "config = Config()\n",
    "config.n_labels = nlabels\n",
    "\n",
    "model = LRClassifier(config)\n",
    "model.to(device)\n",
    "\n",
    "num_epochs = 3\n",
    "learning_rate = 0.001\n",
    "\n",
    "train(model,num_epochs,train_loader,test_loader)"
   ]
  },
  {
   "cell_type": "code",
   "execution_count": 13,
   "metadata": {},
   "outputs": [
    {
     "data": {
      "text/plain": [
       "99"
      ]
     },
     "execution_count": 13,
     "metadata": {},
     "output_type": "execute_result"
    }
   ],
   "source": [
    "# #bug report\n",
    "# #len(genes) should be 100\n",
    "# #len(unique_idxs) for data_df_bin is 100\n",
    "# #likely, there are None mut embeddings mapping to the same gene in ref_map\n",
    "# flatten = lambda x: [i for j in x for i in j]\n",
    "# load_str = lambda x: list(map(int,x.split(',')))\n",
    "# data = [load_str(i) for i in data_df_emb['idxs'].values]\n",
    "# ref_map = {i[5]:i[4] for j in tumors.values() for i in j for k in i}\n",
    "# unique_idxs = list(set(flatten(data)))\n",
    "# genes = list(set([ref_map[i] for i in unique_idxs]))\n",
    "# len(genes)"
   ]
  },
  {
   "cell_type": "code",
   "execution_count": 2,
   "metadata": {},
   "outputs": [
    {
     "name": "stdout",
     "output_type": "stream",
     "text": [
      "loading data from ../aa/tumors.pkl\n",
      "top100_BINARYdata_CANCER_TYPE_3MinMutations_160MinCancerType.csv\n",
      "top100_data_CANCER_TYPE_3MinMutations_160MinCancerType.csv\n"
     ]
    }
   ],
   "source": [
    "#4,9\n",
    "from custom_dataset import Dataset_TopN_emb\n",
    "# mut_embeddings = np.load('../aa/canonical_mut_embeddings_esm2.npy')\n",
    "mut_embeddings = np.load('../aa/canonical_mut_average_embeddings_esm2.npy')\n",
    "ref_embeddings = np.load('../aa/canonical_ref_embeddings_esm2.npy')\n",
    "tumors = pickleLoad('../aa/tumors.pkl')\n",
    "data_bin = labeled_data[0]\n",
    "data_emb = labeled_data[31]\n",
    "print(data_bin)\n",
    "print(data_emb)\n",
    "data_df_bin = pd.read_csv(data_dir+data_bin)\n",
    "data_df_emb = pd.read_csv(data_dir+data_emb)"
   ]
  },
  {
   "cell_type": "code",
   "execution_count": 3,
   "metadata": {},
   "outputs": [
    {
     "name": "stdout",
     "output_type": "stream",
     "text": [
      "210100 unique mutations\n",
      "99 genes\n",
      "210100 unique mutations\n",
      "99 genes\n",
      "51 51\n"
     ]
    }
   ],
   "source": [
    "dataset_bin = Dataset_Binary(data_df_bin, device)\n",
    "train_loader_bin, test_loader_bin = getTrainTestLoaders(dataset_bin, batch_size = 1000)\n",
    "dataset_emb = Dataset_TopN_emb(data_df_emb, mut_embeddings, ref_embeddings, tumors, device, pca=64)\n",
    "train_loader_emb, test_loader_emb = getTrainTestLoaders(dataset_emb, batch_size = 1000)\n",
    "dataset_att = Dataset_TopN_emb(data_df_emb, mut_embeddings, ref_embeddings, tumors, device, flat = False)\n",
    "train_loader_att, test_loader_att = getTrainTestLoaders(dataset_att, batch_size = 1000, collate=custom_collate)\n",
    "nlabels_bin = len(data_df_bin['int_label'].unique())\n",
    "nlabels_emb = len(data_df_emb['int_label'].unique())\n",
    "print(nlabels_bin,nlabels_emb)\n",
    "\n",
    "\n",
    "## HYPERPARAMS\n",
    "num_epochs = 10\n",
    "learning_rate = 0.001\n"
   ]
  },
  {
   "cell_type": "code",
   "execution_count": 5,
   "metadata": {},
   "outputs": [
    {
     "name": "stderr",
     "output_type": "stream",
     "text": [
      "TRAINING:   6%|▌         | 4/71 [00:05<01:31,  1.37s/it, Epoch=1/15, Loss: 5.3506]\n"
     ]
    },
    {
     "ename": "KeyboardInterrupt",
     "evalue": "",
     "output_type": "error",
     "traceback": [
      "\u001b[0;31m---------------------------------------------------------------------------\u001b[0m",
      "\u001b[0;31mKeyboardInterrupt\u001b[0m                         Traceback (most recent call last)",
      "Cell \u001b[0;32mIn[5], line 20\u001b[0m\n\u001b[1;32m     17\u001b[0m model_att\u001b[38;5;241m.\u001b[39mto(device)\n\u001b[1;32m     19\u001b[0m num_epochs \u001b[38;5;241m=\u001b[39m \u001b[38;5;241m15\u001b[39m\n\u001b[0;32m---> 20\u001b[0m \u001b[43mtrain\u001b[49m\u001b[43m(\u001b[49m\u001b[43mmodel_att\u001b[49m\u001b[43m,\u001b[49m\u001b[43mnum_epochs\u001b[49m\u001b[43m,\u001b[49m\u001b[43mtrain_loader_att\u001b[49m\u001b[43m,\u001b[49m\u001b[43mtest_loader_att\u001b[49m\u001b[43m)\u001b[49m\n",
      "File \u001b[0;32m~/SomaticMutationLLM/model/models.py:295\u001b[0m, in \u001b[0;36mtrain\u001b[0;34m(model, num_epochs, train_loader, test_loader, learning_rate)\u001b[0m\n\u001b[1;32m    293\u001b[0m model\u001b[38;5;241m.\u001b[39mtrain()\n\u001b[1;32m    294\u001b[0m \u001b[38;5;28;01mwith\u001b[39;00m tqdm(\u001b[38;5;28menumerate\u001b[39m(train_loader), total\u001b[38;5;241m=\u001b[39m\u001b[38;5;28mlen\u001b[39m(train_loader),desc\u001b[38;5;241m=\u001b[39m\u001b[38;5;124m'\u001b[39m\u001b[38;5;124mTRAINING\u001b[39m\u001b[38;5;124m'\u001b[39m) \u001b[38;5;28;01mas\u001b[39;00m pbar:\n\u001b[0;32m--> 295\u001b[0m     \u001b[38;5;28;01mfor\u001b[39;00m batch_idx, (data, target) \u001b[38;5;129;01min\u001b[39;00m pbar:\n\u001b[1;32m    296\u001b[0m         optimizer\u001b[38;5;241m.\u001b[39mzero_grad()\n\u001b[1;32m    297\u001b[0m         output \u001b[38;5;241m=\u001b[39m model(data)\n",
      "File \u001b[0;32m~/.conda/envs/deepV_a100/lib/python3.10/site-packages/tqdm/std.py:1178\u001b[0m, in \u001b[0;36mtqdm.__iter__\u001b[0;34m(self)\u001b[0m\n\u001b[1;32m   1175\u001b[0m time \u001b[38;5;241m=\u001b[39m \u001b[38;5;28mself\u001b[39m\u001b[38;5;241m.\u001b[39m_time\n\u001b[1;32m   1177\u001b[0m \u001b[38;5;28;01mtry\u001b[39;00m:\n\u001b[0;32m-> 1178\u001b[0m     \u001b[38;5;28;01mfor\u001b[39;00m obj \u001b[38;5;129;01min\u001b[39;00m iterable:\n\u001b[1;32m   1179\u001b[0m         \u001b[38;5;28;01myield\u001b[39;00m obj\n\u001b[1;32m   1180\u001b[0m         \u001b[38;5;66;03m# Update and possibly print the progressbar.\u001b[39;00m\n\u001b[1;32m   1181\u001b[0m         \u001b[38;5;66;03m# Note: does not call self.update(1) for speed optimisation.\u001b[39;00m\n",
      "File \u001b[0;32m~/.conda/envs/deepV_a100/lib/python3.10/site-packages/torch/utils/data/dataloader.py:630\u001b[0m, in \u001b[0;36m_BaseDataLoaderIter.__next__\u001b[0;34m(self)\u001b[0m\n\u001b[1;32m    627\u001b[0m \u001b[38;5;28;01mif\u001b[39;00m \u001b[38;5;28mself\u001b[39m\u001b[38;5;241m.\u001b[39m_sampler_iter \u001b[38;5;129;01mis\u001b[39;00m \u001b[38;5;28;01mNone\u001b[39;00m:\n\u001b[1;32m    628\u001b[0m     \u001b[38;5;66;03m# TODO(https://github.com/pytorch/pytorch/issues/76750)\u001b[39;00m\n\u001b[1;32m    629\u001b[0m     \u001b[38;5;28mself\u001b[39m\u001b[38;5;241m.\u001b[39m_reset()  \u001b[38;5;66;03m# type: ignore[call-arg]\u001b[39;00m\n\u001b[0;32m--> 630\u001b[0m data \u001b[38;5;241m=\u001b[39m \u001b[38;5;28;43mself\u001b[39;49m\u001b[38;5;241;43m.\u001b[39;49m\u001b[43m_next_data\u001b[49m\u001b[43m(\u001b[49m\u001b[43m)\u001b[49m\n\u001b[1;32m    631\u001b[0m \u001b[38;5;28mself\u001b[39m\u001b[38;5;241m.\u001b[39m_num_yielded \u001b[38;5;241m+\u001b[39m\u001b[38;5;241m=\u001b[39m \u001b[38;5;241m1\u001b[39m\n\u001b[1;32m    632\u001b[0m \u001b[38;5;28;01mif\u001b[39;00m \u001b[38;5;28mself\u001b[39m\u001b[38;5;241m.\u001b[39m_dataset_kind \u001b[38;5;241m==\u001b[39m _DatasetKind\u001b[38;5;241m.\u001b[39mIterable \u001b[38;5;129;01mand\u001b[39;00m \\\n\u001b[1;32m    633\u001b[0m         \u001b[38;5;28mself\u001b[39m\u001b[38;5;241m.\u001b[39m_IterableDataset_len_called \u001b[38;5;129;01mis\u001b[39;00m \u001b[38;5;129;01mnot\u001b[39;00m \u001b[38;5;28;01mNone\u001b[39;00m \u001b[38;5;129;01mand\u001b[39;00m \\\n\u001b[1;32m    634\u001b[0m         \u001b[38;5;28mself\u001b[39m\u001b[38;5;241m.\u001b[39m_num_yielded \u001b[38;5;241m>\u001b[39m \u001b[38;5;28mself\u001b[39m\u001b[38;5;241m.\u001b[39m_IterableDataset_len_called:\n",
      "File \u001b[0;32m~/.conda/envs/deepV_a100/lib/python3.10/site-packages/torch/utils/data/dataloader.py:674\u001b[0m, in \u001b[0;36m_SingleProcessDataLoaderIter._next_data\u001b[0;34m(self)\u001b[0m\n\u001b[1;32m    672\u001b[0m \u001b[38;5;28;01mdef\u001b[39;00m \u001b[38;5;21m_next_data\u001b[39m(\u001b[38;5;28mself\u001b[39m):\n\u001b[1;32m    673\u001b[0m     index \u001b[38;5;241m=\u001b[39m \u001b[38;5;28mself\u001b[39m\u001b[38;5;241m.\u001b[39m_next_index()  \u001b[38;5;66;03m# may raise StopIteration\u001b[39;00m\n\u001b[0;32m--> 674\u001b[0m     data \u001b[38;5;241m=\u001b[39m \u001b[38;5;28;43mself\u001b[39;49m\u001b[38;5;241;43m.\u001b[39;49m\u001b[43m_dataset_fetcher\u001b[49m\u001b[38;5;241;43m.\u001b[39;49m\u001b[43mfetch\u001b[49m\u001b[43m(\u001b[49m\u001b[43mindex\u001b[49m\u001b[43m)\u001b[49m  \u001b[38;5;66;03m# may raise StopIteration\u001b[39;00m\n\u001b[1;32m    675\u001b[0m     \u001b[38;5;28;01mif\u001b[39;00m \u001b[38;5;28mself\u001b[39m\u001b[38;5;241m.\u001b[39m_pin_memory:\n\u001b[1;32m    676\u001b[0m         data \u001b[38;5;241m=\u001b[39m _utils\u001b[38;5;241m.\u001b[39mpin_memory\u001b[38;5;241m.\u001b[39mpin_memory(data, \u001b[38;5;28mself\u001b[39m\u001b[38;5;241m.\u001b[39m_pin_memory_device)\n",
      "File \u001b[0;32m~/.conda/envs/deepV_a100/lib/python3.10/site-packages/torch/utils/data/_utils/fetch.py:49\u001b[0m, in \u001b[0;36m_MapDatasetFetcher.fetch\u001b[0;34m(self, possibly_batched_index)\u001b[0m\n\u001b[1;32m     47\u001b[0m \u001b[38;5;28;01mif\u001b[39;00m \u001b[38;5;28mself\u001b[39m\u001b[38;5;241m.\u001b[39mauto_collation:\n\u001b[1;32m     48\u001b[0m     \u001b[38;5;28;01mif\u001b[39;00m \u001b[38;5;28mhasattr\u001b[39m(\u001b[38;5;28mself\u001b[39m\u001b[38;5;241m.\u001b[39mdataset, \u001b[38;5;124m\"\u001b[39m\u001b[38;5;124m__getitems__\u001b[39m\u001b[38;5;124m\"\u001b[39m) \u001b[38;5;129;01mand\u001b[39;00m \u001b[38;5;28mself\u001b[39m\u001b[38;5;241m.\u001b[39mdataset\u001b[38;5;241m.\u001b[39m__getitems__:\n\u001b[0;32m---> 49\u001b[0m         data \u001b[38;5;241m=\u001b[39m \u001b[38;5;28;43mself\u001b[39;49m\u001b[38;5;241;43m.\u001b[39;49m\u001b[43mdataset\u001b[49m\u001b[38;5;241;43m.\u001b[39;49m\u001b[43m__getitems__\u001b[49m\u001b[43m(\u001b[49m\u001b[43mpossibly_batched_index\u001b[49m\u001b[43m)\u001b[49m\n\u001b[1;32m     50\u001b[0m     \u001b[38;5;28;01melse\u001b[39;00m:\n\u001b[1;32m     51\u001b[0m         data \u001b[38;5;241m=\u001b[39m [\u001b[38;5;28mself\u001b[39m\u001b[38;5;241m.\u001b[39mdataset[idx] \u001b[38;5;28;01mfor\u001b[39;00m idx \u001b[38;5;129;01min\u001b[39;00m possibly_batched_index]\n",
      "File \u001b[0;32m~/.conda/envs/deepV_a100/lib/python3.10/site-packages/torch/utils/data/dataset.py:364\u001b[0m, in \u001b[0;36mSubset.__getitems__\u001b[0;34m(self, indices)\u001b[0m\n\u001b[1;32m    362\u001b[0m     \u001b[38;5;28;01mreturn\u001b[39;00m \u001b[38;5;28mself\u001b[39m\u001b[38;5;241m.\u001b[39mdataset\u001b[38;5;241m.\u001b[39m__getitems__([\u001b[38;5;28mself\u001b[39m\u001b[38;5;241m.\u001b[39mindices[idx] \u001b[38;5;28;01mfor\u001b[39;00m idx \u001b[38;5;129;01min\u001b[39;00m indices])  \u001b[38;5;66;03m# type: ignore[attr-defined]\u001b[39;00m\n\u001b[1;32m    363\u001b[0m \u001b[38;5;28;01melse\u001b[39;00m:\n\u001b[0;32m--> 364\u001b[0m     \u001b[38;5;28;01mreturn\u001b[39;00m [\u001b[38;5;28mself\u001b[39m\u001b[38;5;241m.\u001b[39mdataset[\u001b[38;5;28mself\u001b[39m\u001b[38;5;241m.\u001b[39mindices[idx]] \u001b[38;5;28;01mfor\u001b[39;00m idx \u001b[38;5;129;01min\u001b[39;00m indices]\n",
      "File \u001b[0;32m~/.conda/envs/deepV_a100/lib/python3.10/site-packages/torch/utils/data/dataset.py:364\u001b[0m, in \u001b[0;36m<listcomp>\u001b[0;34m(.0)\u001b[0m\n\u001b[1;32m    362\u001b[0m     \u001b[38;5;28;01mreturn\u001b[39;00m \u001b[38;5;28mself\u001b[39m\u001b[38;5;241m.\u001b[39mdataset\u001b[38;5;241m.\u001b[39m__getitems__([\u001b[38;5;28mself\u001b[39m\u001b[38;5;241m.\u001b[39mindices[idx] \u001b[38;5;28;01mfor\u001b[39;00m idx \u001b[38;5;129;01min\u001b[39;00m indices])  \u001b[38;5;66;03m# type: ignore[attr-defined]\u001b[39;00m\n\u001b[1;32m    363\u001b[0m \u001b[38;5;28;01melse\u001b[39;00m:\n\u001b[0;32m--> 364\u001b[0m     \u001b[38;5;28;01mreturn\u001b[39;00m [\u001b[38;5;28;43mself\u001b[39;49m\u001b[38;5;241;43m.\u001b[39;49m\u001b[43mdataset\u001b[49m\u001b[43m[\u001b[49m\u001b[38;5;28;43mself\u001b[39;49m\u001b[38;5;241;43m.\u001b[39;49m\u001b[43mindices\u001b[49m\u001b[43m[\u001b[49m\u001b[43midx\u001b[49m\u001b[43m]\u001b[49m\u001b[43m]\u001b[49m \u001b[38;5;28;01mfor\u001b[39;00m idx \u001b[38;5;129;01min\u001b[39;00m indices]\n",
      "File \u001b[0;32m~/SomaticMutationLLM/model/custom_dataset.py:97\u001b[0m, in \u001b[0;36mDataset_TopN_emb.__getitem__\u001b[0;34m(self, idx)\u001b[0m\n\u001b[1;32m     95\u001b[0m order \u001b[38;5;241m=\u001b[39m [\u001b[38;5;28mself\u001b[39m\u001b[38;5;241m.\u001b[39mgene_order[\u001b[38;5;28mself\u001b[39m\u001b[38;5;241m.\u001b[39mref_map[i]] \u001b[38;5;28;01mfor\u001b[39;00m i \u001b[38;5;129;01min\u001b[39;00m idxs \u001b[38;5;28;01mif\u001b[39;00m \u001b[38;5;28mall\u001b[39m(\u001b[38;5;28mself\u001b[39m\u001b[38;5;241m.\u001b[39mmut_embeddings[i]\u001b[38;5;241m!=\u001b[39m\u001b[38;5;241m0\u001b[39m)] \n\u001b[1;32m     96\u001b[0m \u001b[38;5;66;03m# print(order)\u001b[39;00m\n\u001b[0;32m---> 97\u001b[0m emb_ \u001b[38;5;241m=\u001b[39m torch\u001b[38;5;241m.\u001b[39mstack([torch\u001b[38;5;241m.\u001b[39mtensor(\u001b[38;5;28mself\u001b[39m\u001b[38;5;241m.\u001b[39mmut_embeddings[i],dtype\u001b[38;5;241m=\u001b[39mtorch\u001b[38;5;241m.\u001b[39mfloat32) \u001b[38;5;28;01mfor\u001b[39;00m i \u001b[38;5;129;01min\u001b[39;00m idxs \u001b[38;5;28;01mif\u001b[39;00m \u001b[38;5;28mall\u001b[39m(\u001b[38;5;28mself\u001b[39m\u001b[38;5;241m.\u001b[39mmut_embeddings[i]\u001b[38;5;241m!=\u001b[39m\u001b[38;5;241m0\u001b[39m)])\n\u001b[1;32m     98\u001b[0m emb[order] \u001b[38;5;241m=\u001b[39m emb_\n\u001b[1;32m     99\u001b[0m \u001b[38;5;66;03m# print(emb)\u001b[39;00m\n",
      "File \u001b[0;32m~/SomaticMutationLLM/model/custom_dataset.py:97\u001b[0m, in \u001b[0;36m<listcomp>\u001b[0;34m(.0)\u001b[0m\n\u001b[1;32m     95\u001b[0m order \u001b[38;5;241m=\u001b[39m [\u001b[38;5;28mself\u001b[39m\u001b[38;5;241m.\u001b[39mgene_order[\u001b[38;5;28mself\u001b[39m\u001b[38;5;241m.\u001b[39mref_map[i]] \u001b[38;5;28;01mfor\u001b[39;00m i \u001b[38;5;129;01min\u001b[39;00m idxs \u001b[38;5;28;01mif\u001b[39;00m \u001b[38;5;28mall\u001b[39m(\u001b[38;5;28mself\u001b[39m\u001b[38;5;241m.\u001b[39mmut_embeddings[i]\u001b[38;5;241m!=\u001b[39m\u001b[38;5;241m0\u001b[39m)] \n\u001b[1;32m     96\u001b[0m \u001b[38;5;66;03m# print(order)\u001b[39;00m\n\u001b[0;32m---> 97\u001b[0m emb_ \u001b[38;5;241m=\u001b[39m torch\u001b[38;5;241m.\u001b[39mstack([torch\u001b[38;5;241m.\u001b[39mtensor(\u001b[38;5;28mself\u001b[39m\u001b[38;5;241m.\u001b[39mmut_embeddings[i],dtype\u001b[38;5;241m=\u001b[39mtorch\u001b[38;5;241m.\u001b[39mfloat32) \u001b[38;5;28;01mfor\u001b[39;00m i \u001b[38;5;129;01min\u001b[39;00m idxs \u001b[38;5;28;01mif\u001b[39;00m \u001b[38;5;28;43mall\u001b[39;49m\u001b[43m(\u001b[49m\u001b[38;5;28;43mself\u001b[39;49m\u001b[38;5;241;43m.\u001b[39;49m\u001b[43mmut_embeddings\u001b[49m\u001b[43m[\u001b[49m\u001b[43mi\u001b[49m\u001b[43m]\u001b[49m\u001b[38;5;241;43m!=\u001b[39;49m\u001b[38;5;241;43m0\u001b[39;49m\u001b[43m)\u001b[49m])\n\u001b[1;32m     98\u001b[0m emb[order] \u001b[38;5;241m=\u001b[39m emb_\n\u001b[1;32m     99\u001b[0m \u001b[38;5;66;03m# print(emb)\u001b[39;00m\n",
      "\u001b[0;31mKeyboardInterrupt\u001b[0m: "
     ]
    }
   ],
   "source": [
    "## ATTENTION MODEL WITH POSITION EMBEDDING\n",
    "class Config_Att:\n",
    "    n_layer: int = 3\n",
    "    input_dim: int = 640\n",
    "    dropout: float = 0.0\n",
    "    bias: bool = False\n",
    "    n_labels: int = 17\n",
    "    pooling : str = 'mean'\n",
    "    norm_fn: nn.Module = nn.LayerNorm\n",
    "    max_len : int = 99\n",
    "    position_embedding: bool = True\n",
    "\n",
    "config_att = Config_Att()\n",
    "config_att.n_labels = nlabels_emb\n",
    "\n",
    "model_att = Classifier(config_att)\n",
    "model_att.to(device)\n",
    "\n",
    "num_epochs = 15\n",
    "train(model_att,num_epochs,train_loader_att,test_loader_att)"
   ]
  },
  {
   "cell_type": "code",
   "execution_count": 4,
   "metadata": {},
   "outputs": [
    {
     "name": "stderr",
     "output_type": "stream",
     "text": [
      "TRAINING:  35%|███▌      | 25/71 [00:33<01:01,  1.34s/it, Epoch=1/10, Loss: 3.1559]\n"
     ]
    },
    {
     "ename": "KeyboardInterrupt",
     "evalue": "",
     "output_type": "error",
     "traceback": [
      "\u001b[0;31m---------------------------------------------------------------------------\u001b[0m",
      "\u001b[0;31mKeyboardInterrupt\u001b[0m                         Traceback (most recent call last)",
      "Cell \u001b[0;32mIn[4], line 19\u001b[0m\n\u001b[1;32m     16\u001b[0m model_att \u001b[38;5;241m=\u001b[39m Classifier(config_att)\n\u001b[1;32m     17\u001b[0m model_att\u001b[38;5;241m.\u001b[39mto(device)\n\u001b[0;32m---> 19\u001b[0m \u001b[43mtrain\u001b[49m\u001b[43m(\u001b[49m\u001b[43mmodel_att\u001b[49m\u001b[43m,\u001b[49m\u001b[43mnum_epochs\u001b[49m\u001b[43m,\u001b[49m\u001b[43mtrain_loader_att\u001b[49m\u001b[43m,\u001b[49m\u001b[43mtest_loader_att\u001b[49m\u001b[43m)\u001b[49m\n",
      "File \u001b[0;32m~/SomaticMutationLLM/model/models.py:295\u001b[0m, in \u001b[0;36mtrain\u001b[0;34m(model, num_epochs, train_loader, test_loader, learning_rate)\u001b[0m\n\u001b[1;32m    293\u001b[0m model\u001b[38;5;241m.\u001b[39mtrain()\n\u001b[1;32m    294\u001b[0m \u001b[38;5;28;01mwith\u001b[39;00m tqdm(\u001b[38;5;28menumerate\u001b[39m(train_loader), total\u001b[38;5;241m=\u001b[39m\u001b[38;5;28mlen\u001b[39m(train_loader),desc\u001b[38;5;241m=\u001b[39m\u001b[38;5;124m'\u001b[39m\u001b[38;5;124mTRAINING\u001b[39m\u001b[38;5;124m'\u001b[39m) \u001b[38;5;28;01mas\u001b[39;00m pbar:\n\u001b[0;32m--> 295\u001b[0m     \u001b[38;5;28;01mfor\u001b[39;00m batch_idx, (data, target) \u001b[38;5;129;01min\u001b[39;00m pbar:\n\u001b[1;32m    296\u001b[0m         optimizer\u001b[38;5;241m.\u001b[39mzero_grad()\n\u001b[1;32m    297\u001b[0m         output \u001b[38;5;241m=\u001b[39m model(data)\n",
      "File \u001b[0;32m~/.conda/envs/deepV_a100/lib/python3.10/site-packages/tqdm/std.py:1178\u001b[0m, in \u001b[0;36mtqdm.__iter__\u001b[0;34m(self)\u001b[0m\n\u001b[1;32m   1175\u001b[0m time \u001b[38;5;241m=\u001b[39m \u001b[38;5;28mself\u001b[39m\u001b[38;5;241m.\u001b[39m_time\n\u001b[1;32m   1177\u001b[0m \u001b[38;5;28;01mtry\u001b[39;00m:\n\u001b[0;32m-> 1178\u001b[0m     \u001b[38;5;28;01mfor\u001b[39;00m obj \u001b[38;5;129;01min\u001b[39;00m iterable:\n\u001b[1;32m   1179\u001b[0m         \u001b[38;5;28;01myield\u001b[39;00m obj\n\u001b[1;32m   1180\u001b[0m         \u001b[38;5;66;03m# Update and possibly print the progressbar.\u001b[39;00m\n\u001b[1;32m   1181\u001b[0m         \u001b[38;5;66;03m# Note: does not call self.update(1) for speed optimisation.\u001b[39;00m\n",
      "File \u001b[0;32m~/.conda/envs/deepV_a100/lib/python3.10/site-packages/torch/utils/data/dataloader.py:630\u001b[0m, in \u001b[0;36m_BaseDataLoaderIter.__next__\u001b[0;34m(self)\u001b[0m\n\u001b[1;32m    627\u001b[0m \u001b[38;5;28;01mif\u001b[39;00m \u001b[38;5;28mself\u001b[39m\u001b[38;5;241m.\u001b[39m_sampler_iter \u001b[38;5;129;01mis\u001b[39;00m \u001b[38;5;28;01mNone\u001b[39;00m:\n\u001b[1;32m    628\u001b[0m     \u001b[38;5;66;03m# TODO(https://github.com/pytorch/pytorch/issues/76750)\u001b[39;00m\n\u001b[1;32m    629\u001b[0m     \u001b[38;5;28mself\u001b[39m\u001b[38;5;241m.\u001b[39m_reset()  \u001b[38;5;66;03m# type: ignore[call-arg]\u001b[39;00m\n\u001b[0;32m--> 630\u001b[0m data \u001b[38;5;241m=\u001b[39m \u001b[38;5;28;43mself\u001b[39;49m\u001b[38;5;241;43m.\u001b[39;49m\u001b[43m_next_data\u001b[49m\u001b[43m(\u001b[49m\u001b[43m)\u001b[49m\n\u001b[1;32m    631\u001b[0m \u001b[38;5;28mself\u001b[39m\u001b[38;5;241m.\u001b[39m_num_yielded \u001b[38;5;241m+\u001b[39m\u001b[38;5;241m=\u001b[39m \u001b[38;5;241m1\u001b[39m\n\u001b[1;32m    632\u001b[0m \u001b[38;5;28;01mif\u001b[39;00m \u001b[38;5;28mself\u001b[39m\u001b[38;5;241m.\u001b[39m_dataset_kind \u001b[38;5;241m==\u001b[39m _DatasetKind\u001b[38;5;241m.\u001b[39mIterable \u001b[38;5;129;01mand\u001b[39;00m \\\n\u001b[1;32m    633\u001b[0m         \u001b[38;5;28mself\u001b[39m\u001b[38;5;241m.\u001b[39m_IterableDataset_len_called \u001b[38;5;129;01mis\u001b[39;00m \u001b[38;5;129;01mnot\u001b[39;00m \u001b[38;5;28;01mNone\u001b[39;00m \u001b[38;5;129;01mand\u001b[39;00m \\\n\u001b[1;32m    634\u001b[0m         \u001b[38;5;28mself\u001b[39m\u001b[38;5;241m.\u001b[39m_num_yielded \u001b[38;5;241m>\u001b[39m \u001b[38;5;28mself\u001b[39m\u001b[38;5;241m.\u001b[39m_IterableDataset_len_called:\n",
      "File \u001b[0;32m~/.conda/envs/deepV_a100/lib/python3.10/site-packages/torch/utils/data/dataloader.py:674\u001b[0m, in \u001b[0;36m_SingleProcessDataLoaderIter._next_data\u001b[0;34m(self)\u001b[0m\n\u001b[1;32m    672\u001b[0m \u001b[38;5;28;01mdef\u001b[39;00m \u001b[38;5;21m_next_data\u001b[39m(\u001b[38;5;28mself\u001b[39m):\n\u001b[1;32m    673\u001b[0m     index \u001b[38;5;241m=\u001b[39m \u001b[38;5;28mself\u001b[39m\u001b[38;5;241m.\u001b[39m_next_index()  \u001b[38;5;66;03m# may raise StopIteration\u001b[39;00m\n\u001b[0;32m--> 674\u001b[0m     data \u001b[38;5;241m=\u001b[39m \u001b[38;5;28;43mself\u001b[39;49m\u001b[38;5;241;43m.\u001b[39;49m\u001b[43m_dataset_fetcher\u001b[49m\u001b[38;5;241;43m.\u001b[39;49m\u001b[43mfetch\u001b[49m\u001b[43m(\u001b[49m\u001b[43mindex\u001b[49m\u001b[43m)\u001b[49m  \u001b[38;5;66;03m# may raise StopIteration\u001b[39;00m\n\u001b[1;32m    675\u001b[0m     \u001b[38;5;28;01mif\u001b[39;00m \u001b[38;5;28mself\u001b[39m\u001b[38;5;241m.\u001b[39m_pin_memory:\n\u001b[1;32m    676\u001b[0m         data \u001b[38;5;241m=\u001b[39m _utils\u001b[38;5;241m.\u001b[39mpin_memory\u001b[38;5;241m.\u001b[39mpin_memory(data, \u001b[38;5;28mself\u001b[39m\u001b[38;5;241m.\u001b[39m_pin_memory_device)\n",
      "File \u001b[0;32m~/.conda/envs/deepV_a100/lib/python3.10/site-packages/torch/utils/data/_utils/fetch.py:49\u001b[0m, in \u001b[0;36m_MapDatasetFetcher.fetch\u001b[0;34m(self, possibly_batched_index)\u001b[0m\n\u001b[1;32m     47\u001b[0m \u001b[38;5;28;01mif\u001b[39;00m \u001b[38;5;28mself\u001b[39m\u001b[38;5;241m.\u001b[39mauto_collation:\n\u001b[1;32m     48\u001b[0m     \u001b[38;5;28;01mif\u001b[39;00m \u001b[38;5;28mhasattr\u001b[39m(\u001b[38;5;28mself\u001b[39m\u001b[38;5;241m.\u001b[39mdataset, \u001b[38;5;124m\"\u001b[39m\u001b[38;5;124m__getitems__\u001b[39m\u001b[38;5;124m\"\u001b[39m) \u001b[38;5;129;01mand\u001b[39;00m \u001b[38;5;28mself\u001b[39m\u001b[38;5;241m.\u001b[39mdataset\u001b[38;5;241m.\u001b[39m__getitems__:\n\u001b[0;32m---> 49\u001b[0m         data \u001b[38;5;241m=\u001b[39m \u001b[38;5;28;43mself\u001b[39;49m\u001b[38;5;241;43m.\u001b[39;49m\u001b[43mdataset\u001b[49m\u001b[38;5;241;43m.\u001b[39;49m\u001b[43m__getitems__\u001b[49m\u001b[43m(\u001b[49m\u001b[43mpossibly_batched_index\u001b[49m\u001b[43m)\u001b[49m\n\u001b[1;32m     50\u001b[0m     \u001b[38;5;28;01melse\u001b[39;00m:\n\u001b[1;32m     51\u001b[0m         data \u001b[38;5;241m=\u001b[39m [\u001b[38;5;28mself\u001b[39m\u001b[38;5;241m.\u001b[39mdataset[idx] \u001b[38;5;28;01mfor\u001b[39;00m idx \u001b[38;5;129;01min\u001b[39;00m possibly_batched_index]\n",
      "File \u001b[0;32m~/.conda/envs/deepV_a100/lib/python3.10/site-packages/torch/utils/data/dataset.py:364\u001b[0m, in \u001b[0;36mSubset.__getitems__\u001b[0;34m(self, indices)\u001b[0m\n\u001b[1;32m    362\u001b[0m     \u001b[38;5;28;01mreturn\u001b[39;00m \u001b[38;5;28mself\u001b[39m\u001b[38;5;241m.\u001b[39mdataset\u001b[38;5;241m.\u001b[39m__getitems__([\u001b[38;5;28mself\u001b[39m\u001b[38;5;241m.\u001b[39mindices[idx] \u001b[38;5;28;01mfor\u001b[39;00m idx \u001b[38;5;129;01min\u001b[39;00m indices])  \u001b[38;5;66;03m# type: ignore[attr-defined]\u001b[39;00m\n\u001b[1;32m    363\u001b[0m \u001b[38;5;28;01melse\u001b[39;00m:\n\u001b[0;32m--> 364\u001b[0m     \u001b[38;5;28;01mreturn\u001b[39;00m [\u001b[38;5;28mself\u001b[39m\u001b[38;5;241m.\u001b[39mdataset[\u001b[38;5;28mself\u001b[39m\u001b[38;5;241m.\u001b[39mindices[idx]] \u001b[38;5;28;01mfor\u001b[39;00m idx \u001b[38;5;129;01min\u001b[39;00m indices]\n",
      "File \u001b[0;32m~/.conda/envs/deepV_a100/lib/python3.10/site-packages/torch/utils/data/dataset.py:364\u001b[0m, in \u001b[0;36m<listcomp>\u001b[0;34m(.0)\u001b[0m\n\u001b[1;32m    362\u001b[0m     \u001b[38;5;28;01mreturn\u001b[39;00m \u001b[38;5;28mself\u001b[39m\u001b[38;5;241m.\u001b[39mdataset\u001b[38;5;241m.\u001b[39m__getitems__([\u001b[38;5;28mself\u001b[39m\u001b[38;5;241m.\u001b[39mindices[idx] \u001b[38;5;28;01mfor\u001b[39;00m idx \u001b[38;5;129;01min\u001b[39;00m indices])  \u001b[38;5;66;03m# type: ignore[attr-defined]\u001b[39;00m\n\u001b[1;32m    363\u001b[0m \u001b[38;5;28;01melse\u001b[39;00m:\n\u001b[0;32m--> 364\u001b[0m     \u001b[38;5;28;01mreturn\u001b[39;00m [\u001b[38;5;28;43mself\u001b[39;49m\u001b[38;5;241;43m.\u001b[39;49m\u001b[43mdataset\u001b[49m\u001b[43m[\u001b[49m\u001b[38;5;28;43mself\u001b[39;49m\u001b[38;5;241;43m.\u001b[39;49m\u001b[43mindices\u001b[49m\u001b[43m[\u001b[49m\u001b[43midx\u001b[49m\u001b[43m]\u001b[49m\u001b[43m]\u001b[49m \u001b[38;5;28;01mfor\u001b[39;00m idx \u001b[38;5;129;01min\u001b[39;00m indices]\n",
      "File \u001b[0;32m~/SomaticMutationLLM/model/custom_dataset.py:101\u001b[0m, in \u001b[0;36mDataset_TopN_emb.__getitem__\u001b[0;34m(self, idx)\u001b[0m\n\u001b[1;32m     99\u001b[0m \u001b[38;5;66;03m# print(emb)\u001b[39;00m\n\u001b[1;32m    100\u001b[0m \u001b[38;5;28;01mif\u001b[39;00m \u001b[38;5;28mself\u001b[39m\u001b[38;5;241m.\u001b[39mflat: emb \u001b[38;5;241m=\u001b[39m emb\u001b[38;5;241m.\u001b[39mflatten()\n\u001b[0;32m--> 101\u001b[0m \u001b[38;5;28;01mreturn\u001b[39;00m emb\u001b[38;5;241m.\u001b[39mto(\u001b[38;5;28mself\u001b[39m\u001b[38;5;241m.\u001b[39mdevice), \u001b[38;5;28;43mself\u001b[39;49m\u001b[38;5;241;43m.\u001b[39;49m\u001b[43mlabels\u001b[49m\u001b[43m[\u001b[49m\u001b[43midx\u001b[49m\u001b[43m]\u001b[49m\u001b[38;5;241;43m.\u001b[39;49m\u001b[43mto\u001b[49m\u001b[43m(\u001b[49m\u001b[38;5;28;43mself\u001b[39;49m\u001b[38;5;241;43m.\u001b[39;49m\u001b[43mdevice\u001b[49m\u001b[43m)\u001b[49m\n",
      "\u001b[0;31mKeyboardInterrupt\u001b[0m: "
     ]
    }
   ],
   "source": [
    "## ATTENTION MODEL WITHOUT POSITION EMBEDDING\n",
    "class Config_Att:\n",
    "    n_layer: int = 3\n",
    "    input_dim: int = 640\n",
    "    dropout: float = 0.0\n",
    "    bias: bool = False\n",
    "    n_labels: int = 17\n",
    "    pooling : str = 'mean'\n",
    "    norm_fn: nn.Module = nn.LayerNorm\n",
    "    position_embedding: bool = False\n",
    "    max_len : int = 100\n",
    "\n",
    "config_att = Config_Att()\n",
    "config_att.n_labels = nlabels_emb\n",
    "\n",
    "model_att = Classifier(config_att)\n",
    "model_att.to(device)\n",
    "\n",
    "train(model_att,num_epochs,train_loader_att,test_loader_att)"
   ]
  },
  {
   "cell_type": "code",
   "execution_count": 5,
   "metadata": {},
   "outputs": [
    {
     "name": "stdout",
     "output_type": "stream",
     "text": [
      "n labels: 53\n"
     ]
    },
    {
     "name": "stderr",
     "output_type": "stream",
     "text": [
      "TRAINING: 100%|██████████| 705/705 [00:09<00:00, 76.51it/s, Epoch=1/10, Loss: 1.8023]\n",
      "TESTING: 100%|██████████| 177/177 [00:01<00:00, 101.91it/s]\n"
     ]
    },
    {
     "name": "stdout",
     "output_type": "stream",
     "text": [
      "Test Accuracy: 52.28%, (9202 of 17603)\n"
     ]
    },
    {
     "name": "stderr",
     "output_type": "stream",
     "text": [
      "TRAINING: 100%|██████████| 705/705 [00:08<00:00, 79.30it/s, Epoch=2/10, Loss: 1.9257]\n",
      "TESTING: 100%|██████████| 177/177 [00:01<00:00, 104.57it/s]\n"
     ]
    },
    {
     "name": "stdout",
     "output_type": "stream",
     "text": [
      "Test Accuracy: 53.14%, (9355 of 17603)\n"
     ]
    },
    {
     "name": "stderr",
     "output_type": "stream",
     "text": [
      "TRAINING: 100%|██████████| 705/705 [00:08<00:00, 80.64it/s, Epoch=3/10, Loss: 1.5475]\n",
      "TESTING: 100%|██████████| 177/177 [00:01<00:00, 105.79it/s]\n"
     ]
    },
    {
     "name": "stdout",
     "output_type": "stream",
     "text": [
      "Test Accuracy: 52.67%, (9272 of 17603)\n"
     ]
    },
    {
     "name": "stderr",
     "output_type": "stream",
     "text": [
      "TRAINING: 100%|██████████| 705/705 [00:08<00:00, 80.75it/s, Epoch=4/10, Loss: 1.0615]\n",
      "TESTING: 100%|██████████| 177/177 [00:01<00:00, 106.80it/s]\n"
     ]
    },
    {
     "name": "stdout",
     "output_type": "stream",
     "text": [
      "Test Accuracy: 52.34%, (9214 of 17603)\n"
     ]
    },
    {
     "name": "stderr",
     "output_type": "stream",
     "text": [
      "TRAINING: 100%|██████████| 705/705 [00:08<00:00, 80.64it/s, Epoch=5/10, Loss: 1.5861]\n",
      "TESTING: 100%|██████████| 177/177 [00:01<00:00, 107.10it/s]\n"
     ]
    },
    {
     "name": "stdout",
     "output_type": "stream",
     "text": [
      "Test Accuracy: 52.17%, (9184 of 17603)\n"
     ]
    },
    {
     "name": "stderr",
     "output_type": "stream",
     "text": [
      "TRAINING: 100%|██████████| 705/705 [00:08<00:00, 80.71it/s, Epoch=6/10, Loss: 1.5529]\n",
      "TESTING: 100%|██████████| 177/177 [00:01<00:00, 105.95it/s]\n"
     ]
    },
    {
     "name": "stdout",
     "output_type": "stream",
     "text": [
      "Test Accuracy: 51.27%, (9025 of 17603)\n"
     ]
    },
    {
     "name": "stderr",
     "output_type": "stream",
     "text": [
      "TRAINING: 100%|██████████| 705/705 [00:08<00:00, 81.29it/s, Epoch=7/10, Loss: 1.8256]\n",
      "TESTING: 100%|██████████| 177/177 [00:01<00:00, 105.39it/s]\n"
     ]
    },
    {
     "name": "stdout",
     "output_type": "stream",
     "text": [
      "Test Accuracy: 51.14%, (9002 of 17603)\n"
     ]
    },
    {
     "name": "stderr",
     "output_type": "stream",
     "text": [
      "TRAINING: 100%|██████████| 705/705 [00:08<00:00, 80.97it/s, Epoch=8/10, Loss: 1.6346]\n",
      "TESTING: 100%|██████████| 177/177 [00:01<00:00, 107.85it/s]\n"
     ]
    },
    {
     "name": "stdout",
     "output_type": "stream",
     "text": [
      "Test Accuracy: 50.97%, (8973 of 17603)\n"
     ]
    },
    {
     "name": "stderr",
     "output_type": "stream",
     "text": [
      "TRAINING: 100%|██████████| 705/705 [00:08<00:00, 81.24it/s, Epoch=9/10, Loss: 0.7138]\n",
      "TESTING: 100%|██████████| 177/177 [00:01<00:00, 105.16it/s]\n"
     ]
    },
    {
     "name": "stdout",
     "output_type": "stream",
     "text": [
      "Test Accuracy: 50.36%, (8864 of 17603)\n"
     ]
    },
    {
     "name": "stderr",
     "output_type": "stream",
     "text": [
      "TRAINING: 100%|██████████| 705/705 [00:08<00:00, 81.32it/s, Epoch=10/10, Loss: 1.0940]\n",
      "TESTING: 100%|██████████| 177/177 [00:01<00:00, 107.97it/s]"
     ]
    },
    {
     "name": "stdout",
     "output_type": "stream",
     "text": [
      "Test Accuracy: 50.08%, (8815 of 17603)\n"
     ]
    },
    {
     "name": "stderr",
     "output_type": "stream",
     "text": [
      "\n"
     ]
    }
   ],
   "source": [
    "##EMBEDDING MODEL\n",
    "class Config_Emb:\n",
    "    input_dim: int = 6272 #98 instead of 100 for some reason\n",
    "    bias: bool = False\n",
    "    n_labels: int\n",
    "\n",
    "print('n labels:',nlabels)\n",
    "config_emb = Config_Emb()\n",
    "config_emb.n_labels = nlabels_emb\n",
    "\n",
    "model_emb = BigMLP(config_emb)\n",
    "model_emb.to(device)\n",
    "\n",
    "train(model_emb,num_epochs,train_loader_emb,test_loader_emb)"
   ]
  },
  {
   "cell_type": "code",
   "execution_count": 4,
   "metadata": {},
   "outputs": [
    {
     "name": "stderr",
     "output_type": "stream",
     "text": [
      "TRAINING: 100%|██████████| 73/73 [00:02<00:00, 32.38it/s, Epoch=1/10, Loss: 2.5820]\n",
      "TESTING: 100%|██████████| 19/19 [00:00<00:00, 36.46it/s]\n"
     ]
    },
    {
     "name": "stdout",
     "output_type": "stream",
     "text": [
      "Test Accuracy: 31.78%, (5786 of 18209)\n"
     ]
    },
    {
     "name": "stderr",
     "output_type": "stream",
     "text": [
      "TRAINING: 100%|██████████| 73/73 [00:02<00:00, 33.27it/s, Epoch=2/10, Loss: 2.2532]\n",
      "TESTING: 100%|██████████| 19/19 [00:00<00:00, 37.97it/s]\n"
     ]
    },
    {
     "name": "stdout",
     "output_type": "stream",
     "text": [
      "Test Accuracy: 45.18%, (8227 of 18209)\n"
     ]
    },
    {
     "name": "stderr",
     "output_type": "stream",
     "text": [
      "TRAINING: 100%|██████████| 73/73 [00:02<00:00, 33.39it/s, Epoch=3/10, Loss: 2.0070]\n",
      "TESTING: 100%|██████████| 19/19 [00:00<00:00, 37.75it/s]\n"
     ]
    },
    {
     "name": "stdout",
     "output_type": "stream",
     "text": [
      "Test Accuracy: 46.59%, (8484 of 18209)\n"
     ]
    },
    {
     "name": "stderr",
     "output_type": "stream",
     "text": [
      "TRAINING: 100%|██████████| 73/73 [00:02<00:00, 33.18it/s, Epoch=4/10, Loss: 1.9867]\n",
      "TESTING: 100%|██████████| 19/19 [00:00<00:00, 37.91it/s]\n"
     ]
    },
    {
     "name": "stdout",
     "output_type": "stream",
     "text": [
      "Test Accuracy: 47.17%, (8590 of 18209)\n"
     ]
    },
    {
     "name": "stderr",
     "output_type": "stream",
     "text": [
      "TRAINING: 100%|██████████| 73/73 [00:02<00:00, 33.11it/s, Epoch=5/10, Loss: 1.9407]\n",
      "TESTING: 100%|██████████| 19/19 [00:00<00:00, 38.06it/s]\n"
     ]
    },
    {
     "name": "stdout",
     "output_type": "stream",
     "text": [
      "Test Accuracy: 48.05%, (8750 of 18209)\n"
     ]
    },
    {
     "name": "stderr",
     "output_type": "stream",
     "text": [
      "TRAINING: 100%|██████████| 73/73 [00:02<00:00, 33.38it/s, Epoch=6/10, Loss: 1.9732]\n",
      "TESTING: 100%|██████████| 19/19 [00:00<00:00, 38.00it/s]\n"
     ]
    },
    {
     "name": "stdout",
     "output_type": "stream",
     "text": [
      "Test Accuracy: 48.03%, (8746 of 18209)\n"
     ]
    },
    {
     "name": "stderr",
     "output_type": "stream",
     "text": [
      "TRAINING: 100%|██████████| 73/73 [00:02<00:00, 33.46it/s, Epoch=7/10, Loss: 1.8917]\n",
      "TESTING: 100%|██████████| 19/19 [00:00<00:00, 37.94it/s]\n"
     ]
    },
    {
     "name": "stdout",
     "output_type": "stream",
     "text": [
      "Test Accuracy: 48.44%, (8820 of 18209)\n"
     ]
    },
    {
     "name": "stderr",
     "output_type": "stream",
     "text": [
      "TRAINING: 100%|██████████| 73/73 [00:02<00:00, 27.00it/s, Epoch=8/10, Loss: 1.8689]\n",
      "TESTING: 100%|██████████| 19/19 [00:00<00:00, 37.90it/s]\n"
     ]
    },
    {
     "name": "stdout",
     "output_type": "stream",
     "text": [
      "Test Accuracy: 48.78%, (8883 of 18209)\n"
     ]
    },
    {
     "name": "stderr",
     "output_type": "stream",
     "text": [
      "TRAINING: 100%|██████████| 73/73 [00:02<00:00, 33.51it/s, Epoch=9/10, Loss: 1.9086]\n",
      "TESTING: 100%|██████████| 19/19 [00:00<00:00, 38.00it/s]\n"
     ]
    },
    {
     "name": "stdout",
     "output_type": "stream",
     "text": [
      "Test Accuracy: 48.78%, (8882 of 18209)\n"
     ]
    },
    {
     "name": "stderr",
     "output_type": "stream",
     "text": [
      "TRAINING: 100%|██████████| 73/73 [00:02<00:00, 33.26it/s, Epoch=10/10, Loss: 1.8793]\n",
      "TESTING: 100%|██████████| 19/19 [00:00<00:00, 37.95it/s]"
     ]
    },
    {
     "name": "stdout",
     "output_type": "stream",
     "text": [
      "Test Accuracy: 49.38%, (8992 of 18209)\n"
     ]
    },
    {
     "name": "stderr",
     "output_type": "stream",
     "text": [
      "\n"
     ]
    }
   ],
   "source": [
    "## BINARY MODEL\n",
    "class Config_Bin:\n",
    "    input_dim: int = 1448\n",
    "    bias: bool = False\n",
    "    n_labels: int\n",
    "config_bin = Config_Bin()\n",
    "config_bin.n_labels = nlabels_bin\n",
    "\n",
    "model_bin = MLPClassifier(config_bin)\n",
    "model_bin.to(device)\n",
    "\n",
    "train(model_bin,num_epochs,train_loader_bin,test_loader_bin)"
   ]
  },
  {
   "cell_type": "code",
   "execution_count": null,
   "metadata": {},
   "outputs": [],
   "source": []
  }
 ],
 "metadata": {
  "kernelspec": {
   "display_name": "deepV_a100",
   "language": "python",
   "name": "python3"
  },
  "language_info": {
   "codemirror_mode": {
    "name": "ipython",
    "version": 3
   },
   "file_extension": ".py",
   "mimetype": "text/x-python",
   "name": "python",
   "nbconvert_exporter": "python",
   "pygments_lexer": "ipython3",
   "version": "3.10.12"
  }
 },
 "nbformat": 4,
 "nbformat_minor": 2
}
