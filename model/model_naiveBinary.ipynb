{
 "cells": [
  {
   "cell_type": "code",
   "execution_count": 1,
   "metadata": {},
   "outputs": [
    {
     "name": "stdout",
     "output_type": "stream",
     "text": [
      "36 \t BINARYdata_CANCER_TYPE_0MinMutations_1696MinCancerType.csv\n",
      "24 \t BINARYdata_CANCER_TYPE_0MinMutations_169MinCancerType.csv\n",
      "2 \t BINARYdata_CANCER_TYPE_3MinMutations_1696MinCancerType.csv\n",
      "32 \t BINARYdata_CANCER_TYPE_3MinMutations_169MinCancerType.csv\n",
      "13 \t BINARYdata_CANCER_TYPE_DETAILED_0MinMutations_1696MinCancerType.csv\n",
      "26 \t BINARYdata_CANCER_TYPE_DETAILED_0MinMutations_169MinCancerType.csv\n",
      "11 \t BINARYdata_CANCER_TYPE_DETAILED_3MinMutations_1696MinCancerType.csv\n",
      "30 \t BINARYdata_CANCER_TYPE_DETAILED_3MinMutations_169MinCancerType.csv\n",
      "40 \t canonical_ref_barcode_refIdxs_map.pkl\n",
      "23 \t data_CANCER_TYPE_0MinMutations_1696MinCancerType.csv\n",
      "25 \t data_CANCER_TYPE_0MinMutations_169MinCancerType.csv\n",
      "44 \t data_CANCER_TYPE_3MinMutations_1696MinCancerType.csv\n",
      "18 \t data_CANCER_TYPE_3MinMutations_169MinCancerType.csv\n",
      "12 \t data_CANCER_TYPE_DETAILED_0MinMutations_1696MinCancerType.csv\n",
      "28 \t data_CANCER_TYPE_DETAILED_0MinMutations_169MinCancerType.csv\n",
      "3 \t data_CANCER_TYPE_DETAILED_3MinMutations_1696MinCancerType.csv\n",
      "48 \t data_CANCER_TYPE_DETAILED_3MinMutations_169MinCancerType.csv\n",
      "34 \t label_mappings\n",
      "31 \t top100_BINARYdata_CANCER_TYPE_0MinMutations_1603MinCancerType.csv\n",
      "22 \t top100_BINARYdata_CANCER_TYPE_0MinMutations_160MinCancerType.csv\n",
      "43 \t top100_BINARYdata_CANCER_TYPE_3MinMutations_1603MinCancerType.csv\n",
      "0 \t top100_BINARYdata_CANCER_TYPE_3MinMutations_160MinCancerType.csv\n",
      "6 \t top100_BINARYdata_CANCER_TYPE_DETAILED_0MinMutations_1603MinCancerType.csv\n",
      "46 \t top100_BINARYdata_CANCER_TYPE_DETAILED_0MinMutations_160MinCancerType.csv\n",
      "1 \t top100_BINARYdata_CANCER_TYPE_DETAILED_3MinMutations_1603MinCancerType.csv\n",
      "21 \t top100_BINARYdata_CANCER_TYPE_DETAILED_3MinMutations_160MinCancerType.csv\n",
      "39 \t top100_data_CANCER_TYPE_0MinMutations_1696MinCancerType.csv\n",
      "15 \t top100_data_CANCER_TYPE_0MinMutations_169MinCancerType.csv\n",
      "42 \t top100_data_CANCER_TYPE_3MinMutations_1696MinCancerType.csv\n",
      "41 \t top100_data_CANCER_TYPE_3MinMutations_169MinCancerType.csv\n",
      "8 \t top100_data_CANCER_TYPE_DETAILED_0MinMutations_1696MinCancerType.csv\n",
      "5 \t top100_data_CANCER_TYPE_DETAILED_0MinMutations_169MinCancerType.csv\n",
      "35 \t top100_data_CANCER_TYPE_DETAILED_3MinMutations_1696MinCancerType.csv\n",
      "37 \t top100_data_CANCER_TYPE_DETAILED_3MinMutations_169MinCancerType.csv\n",
      "33 \t top10_BINARYdata_CANCER_TYPE_0MinMutations_1213MinCancerType.csv\n",
      "47 \t top10_BINARYdata_CANCER_TYPE_0MinMutations_121MinCancerType.csv\n",
      "17 \t top10_BINARYdata_CANCER_TYPE_3MinMutations_1213MinCancerType.csv\n",
      "29 \t top10_BINARYdata_CANCER_TYPE_3MinMutations_121MinCancerType.csv\n",
      "49 \t top10_BINARYdata_CANCER_TYPE_DETAILED_0MinMutations_1213MinCancerType.csv\n",
      "45 \t top10_BINARYdata_CANCER_TYPE_DETAILED_0MinMutations_121MinCancerType.csv\n",
      "20 \t top10_BINARYdata_CANCER_TYPE_DETAILED_3MinMutations_1213MinCancerType.csv\n",
      "9 \t top10_BINARYdata_CANCER_TYPE_DETAILED_3MinMutations_121MinCancerType.csv\n",
      "38 \t top10_data_CANCER_TYPE_0MinMutations_1696MinCancerType.csv\n",
      "10 \t top10_data_CANCER_TYPE_0MinMutations_169MinCancerType.csv\n",
      "16 \t top10_data_CANCER_TYPE_3MinMutations_1696MinCancerType.csv\n",
      "7 \t top10_data_CANCER_TYPE_3MinMutations_169MinCancerType.csv\n",
      "4 \t top10_data_CANCER_TYPE_DETAILED_0MinMutations_1696MinCancerType.csv\n",
      "27 \t top10_data_CANCER_TYPE_DETAILED_0MinMutations_169MinCancerType.csv\n",
      "19 \t top10_data_CANCER_TYPE_DETAILED_3MinMutations_1696MinCancerType.csv\n",
      "14 \t top10_data_CANCER_TYPE_DETAILED_3MinMutations_169MinCancerType.csv\n",
      "\n",
      " top100_data_CANCER_TYPE_3MinMutations_169MinCancerType.csv\n"
     ]
    }
   ],
   "source": [
    "from custom_dataset import Dataset_Binary, custom_collate\n",
    "from models import *\n",
    "\n",
    "# LOAD DATA\n",
    "data_dir = '../labeled_data/'\n",
    "labeled_data = os.listdir(data_dir)\n",
    "for ni,i in sorted(zip(labeled_data,range(len(labeled_data)))):print(i,'\\t',ni)\n",
    "\n",
    "data = labeled_data[41]\n",
    "print('\\n',data)\n",
    "data_df = pd.read_csv(data_dir+data)\n",
    "\n",
    "nlabels = len(data_df['int_label'].unique())\n",
    "device = 'cuda:1'\n",
    "\n",
    "# Create dataset\n",
    "dataset = Dataset_Binary(data_df, device)\n",
    "\n",
    "# Create DataLoader\n",
    "# dataloader = DataLoader(dataset, batch_size=100, shuffle=False, collate_fn=custom_collate)"
   ]
  },
  {
   "cell_type": "code",
   "execution_count": 2,
   "metadata": {},
   "outputs": [
    {
     "data": {
      "text/plain": [
       "(tensor([0., 0., 0.,  ..., 0., 0., 0.], device='cuda:1'),\n",
       " tensor(34, device='cuda:1'))"
      ]
     },
     "execution_count": 2,
     "metadata": {},
     "output_type": "execute_result"
    }
   ],
   "source": [
    "dataset[0]"
   ]
  },
  {
   "cell_type": "code",
   "execution_count": 4,
   "metadata": {},
   "outputs": [
    {
     "name": "stdout",
     "output_type": "stream",
     "text": [
      "n labels: 53\n"
     ]
    },
    {
     "name": "stderr",
     "output_type": "stream",
     "text": [
      "TRAINING: 100%|██████████| 920/920 [00:04<00:00, 227.35it/s, Epoch=1/3, Loss: 2.1524]\n",
      "TESTING: 100%|██████████| 230/230 [00:00<00:00, 319.50it/s]\n"
     ]
    },
    {
     "name": "stdout",
     "output_type": "stream",
     "text": [
      "Test Accuracy: 48.54%, (11159 of 22990)\n"
     ]
    },
    {
     "name": "stderr",
     "output_type": "stream",
     "text": [
      "TRAINING: 100%|██████████| 920/920 [00:04<00:00, 214.05it/s, Epoch=2/3, Loss: 1.9187]\n",
      "TESTING: 100%|██████████| 230/230 [00:00<00:00, 324.29it/s]\n"
     ]
    },
    {
     "name": "stdout",
     "output_type": "stream",
     "text": [
      "Test Accuracy: 50.03%, (11501 of 22990)\n"
     ]
    },
    {
     "name": "stderr",
     "output_type": "stream",
     "text": [
      "TRAINING: 100%|██████████| 920/920 [00:04<00:00, 210.82it/s, Epoch=3/3, Loss: 1.8025]\n",
      "TESTING: 100%|██████████| 230/230 [00:00<00:00, 322.93it/s]"
     ]
    },
    {
     "name": "stdout",
     "output_type": "stream",
     "text": [
      "Test Accuracy: 49.83%, (11456 of 22990)\n"
     ]
    },
    {
     "name": "stderr",
     "output_type": "stream",
     "text": [
      "\n"
     ]
    }
   ],
   "source": [
    "\n",
    "train_loader, test_loader = getTrainTestLoaders(dataset)\n",
    "class Config:\n",
    "    input_dim: int = 1448\n",
    "    bias: bool = False\n",
    "    n_labels: int = 17\n",
    "\n",
    "print('n labels:',nlabels)\n",
    "config = Config()\n",
    "config.n_labels = nlabels\n",
    "\n",
    "model = MLPClassifier(config)\n",
    "model.to(device)\n",
    "\n",
    "num_epochs = 3\n",
    "learning_rate = 0.001\n",
    "\n",
    "train(model,num_epochs,train_loader,test_loader)"
   ]
  },
  {
   "cell_type": "code",
   "execution_count": 5,
   "metadata": {},
   "outputs": [
    {
     "name": "stdout",
     "output_type": "stream",
     "text": [
      "n labels: 53\n"
     ]
    },
    {
     "name": "stderr",
     "output_type": "stream",
     "text": [
      "TRAINING: 100%|██████████| 920/920 [00:03<00:00, 230.58it/s, Epoch=1/3, Loss: 2.3659]\n",
      "TESTING: 100%|██████████| 230/230 [00:00<00:00, 322.15it/s]\n"
     ]
    },
    {
     "name": "stdout",
     "output_type": "stream",
     "text": [
      "Test Accuracy: 41.02%, (9430 of 22990)\n"
     ]
    },
    {
     "name": "stderr",
     "output_type": "stream",
     "text": [
      "TRAINING: 100%|██████████| 920/920 [00:04<00:00, 229.91it/s, Epoch=2/3, Loss: 2.1861]\n",
      "TESTING: 100%|██████████| 230/230 [00:00<00:00, 329.68it/s]\n"
     ]
    },
    {
     "name": "stdout",
     "output_type": "stream",
     "text": [
      "Test Accuracy: 46.49%, (10687 of 22990)\n"
     ]
    },
    {
     "name": "stderr",
     "output_type": "stream",
     "text": [
      "TRAINING: 100%|██████████| 920/920 [00:03<00:00, 230.16it/s, Epoch=3/3, Loss: 1.9447]\n",
      "TESTING: 100%|██████████| 230/230 [00:00<00:00, 328.98it/s]"
     ]
    },
    {
     "name": "stdout",
     "output_type": "stream",
     "text": [
      "Test Accuracy: 47.84%, (10998 of 22990)\n"
     ]
    },
    {
     "name": "stderr",
     "output_type": "stream",
     "text": [
      "\n"
     ]
    }
   ],
   "source": [
    "import torch.optim as optim\n",
    "from tqdm import tqdm\n",
    "\n",
    "class Config:\n",
    "    input_dim: int = 1448\n",
    "    n_labels: int = 17\n",
    "\n",
    "print('n labels:',nlabels)\n",
    "config = Config()\n",
    "config.n_labels = nlabels\n",
    "\n",
    "model = LRClassifier(config)\n",
    "model.to(device)\n",
    "\n",
    "num_epochs = 3\n",
    "learning_rate = 0.001\n",
    "\n",
    "train(model,num_epochs,train_loader,test_loader)"
   ]
  },
  {
   "cell_type": "code",
   "execution_count": 7,
   "metadata": {},
   "outputs": [],
   "source": [
    "# #bug report\n",
    "# #len(genes) should be 100\n",
    "# #len(unique_idxs) for data_df_bin is 100\n",
    "# #likely, there are None mut embeddings mapping to the same gene in ref_map\n",
    "# flatten = lambda x: [i for j in x for i in j]\n",
    "# load_str = lambda x: list(map(int,x.split(',')))\n",
    "# data = [load_str(i) for i in data_df_emb['idxs'].values]\n",
    "# ref_map = {i[5]:i[4] for j in tumors.values() for i in j for k in i}\n",
    "# unique_idxs = list(set(flatten(data)))\n",
    "# genes = list(set([ref_map[i] for i in unique_idxs]))\n",
    "# len(genes)"
   ]
  },
  {
   "cell_type": "code",
   "execution_count": 2,
   "metadata": {},
   "outputs": [
    {
     "name": "stdout",
     "output_type": "stream",
     "text": [
      "loading data from ../aa/tumors.pkl\n",
      "top100_BINARYdata_CANCER_TYPE_3MinMutations_160MinCancerType.csv\n",
      "top100_data_CANCER_TYPE_3MinMutations_169MinCancerType.csv\n"
     ]
    }
   ],
   "source": [
    "#4,9\n",
    "from custom_dataset import Dataset_TopN_emb\n",
    "# mut_embeddings = np.load('../aa/canonical_mut_embeddings_esm2.npy')\n",
    "mut_embeddings = np.load('../aa/canonical_mut_average_embeddings_esm2.npy')\n",
    "ref_embeddings = np.load('../aa/canonical_ref_embeddings_esm2.npy')\n",
    "tumors = pickleLoad('../aa/tumors.pkl')\n",
    "data_bin = labeled_data[0]\n",
    "data_emb = labeled_data[41]\n",
    "print(data_bin)\n",
    "print(data_emb)\n",
    "data_df_bin = pd.read_csv(data_dir+data_bin)\n",
    "data_df_emb = pd.read_csv(data_dir+data_emb)"
   ]
  },
  {
   "cell_type": "code",
   "execution_count": 3,
   "metadata": {},
   "outputs": [
    {
     "name": "stdout",
     "output_type": "stream",
     "text": [
      "209182 unique mutations\n",
      "98 genes\n",
      "209182 unique mutations\n",
      "98 genes\n",
      "51 53\n"
     ]
    }
   ],
   "source": [
    "dataset_bin = Dataset_Binary(data_df_bin, device)\n",
    "train_loader_bin, test_loader_bin = getTrainTestLoaders(dataset_bin, batch_size = 1000)\n",
    "dataset_emb = Dataset_TopN_emb(data_df_emb, mut_embeddings, ref_embeddings, tumors, device, pca=64)\n",
    "train_loader_emb, test_loader_emb = getTrainTestLoaders(dataset_emb, batch_size = 1000)\n",
    "dataset_att = Dataset_TopN_emb(data_df_emb, mut_embeddings, ref_embeddings, tumors, device, flat = False)\n",
    "train_loader_att, test_loader_att = getTrainTestLoaders(dataset_att, batch_size = 1000, collate=custom_collate)\n",
    "nlabels_bin = len(data_df_bin['int_label'].unique())\n",
    "nlabels_emb = len(data_df_emb['int_label'].unique())\n",
    "print(nlabels_bin,nlabels_emb)\n",
    "\n",
    "\n",
    "## HYPERPARAMS\n",
    "num_epochs = 10\n",
    "learning_rate = 0.001\n"
   ]
  },
  {
   "cell_type": "code",
   "execution_count": 10,
   "metadata": {},
   "outputs": [
    {
     "name": "stderr",
     "output_type": "stream",
     "text": [
      "TRAINING: 100%|██████████| 71/71 [00:46<00:00,  1.52it/s, Epoch=1/15, Loss: 2.2883]\n",
      "TESTING: 100%|██████████| 18/18 [00:08<00:00,  2.17it/s]\n"
     ]
    },
    {
     "name": "stdout",
     "output_type": "stream",
     "text": [
      "Test Accuracy: 38.75%, (6822 of 17603)\n"
     ]
    },
    {
     "name": "stderr",
     "output_type": "stream",
     "text": [
      "TRAINING: 100%|██████████| 71/71 [00:46<00:00,  1.52it/s, Epoch=2/15, Loss: 2.0411]\n",
      "TESTING: 100%|██████████| 18/18 [00:08<00:00,  2.13it/s]\n"
     ]
    },
    {
     "name": "stdout",
     "output_type": "stream",
     "text": [
      "Test Accuracy: 46.30%, (8150 of 17603)\n"
     ]
    },
    {
     "name": "stderr",
     "output_type": "stream",
     "text": [
      "TRAINING: 100%|██████████| 71/71 [00:46<00:00,  1.51it/s, Epoch=3/15, Loss: 1.8634]\n",
      "TESTING: 100%|██████████| 18/18 [00:08<00:00,  2.15it/s]\n"
     ]
    },
    {
     "name": "stdout",
     "output_type": "stream",
     "text": [
      "Test Accuracy: 48.39%, (8518 of 17603)\n"
     ]
    },
    {
     "name": "stderr",
     "output_type": "stream",
     "text": [
      "TRAINING: 100%|██████████| 71/71 [00:47<00:00,  1.50it/s, Epoch=4/15, Loss: 1.9723]\n",
      "TESTING: 100%|██████████| 18/18 [00:08<00:00,  2.15it/s]\n"
     ]
    },
    {
     "name": "stdout",
     "output_type": "stream",
     "text": [
      "Test Accuracy: 49.62%, (8734 of 17603)\n"
     ]
    },
    {
     "name": "stderr",
     "output_type": "stream",
     "text": [
      "TRAINING: 100%|██████████| 71/71 [00:46<00:00,  1.52it/s, Epoch=5/15, Loss: 1.8535]\n",
      "TESTING: 100%|██████████| 18/18 [00:08<00:00,  2.14it/s]\n"
     ]
    },
    {
     "name": "stdout",
     "output_type": "stream",
     "text": [
      "Test Accuracy: 51.38%, (9045 of 17603)\n"
     ]
    },
    {
     "name": "stderr",
     "output_type": "stream",
     "text": [
      "TRAINING: 100%|██████████| 71/71 [00:46<00:00,  1.52it/s, Epoch=6/15, Loss: 1.6997]\n",
      "TESTING: 100%|██████████| 18/18 [00:08<00:00,  2.13it/s]\n"
     ]
    },
    {
     "name": "stdout",
     "output_type": "stream",
     "text": [
      "Test Accuracy: 51.54%, (9072 of 17603)\n"
     ]
    },
    {
     "name": "stderr",
     "output_type": "stream",
     "text": [
      "TRAINING: 100%|██████████| 71/71 [00:46<00:00,  1.52it/s, Epoch=7/15, Loss: 1.8407]\n",
      "TESTING: 100%|██████████| 18/18 [00:08<00:00,  2.14it/s]\n"
     ]
    },
    {
     "name": "stdout",
     "output_type": "stream",
     "text": [
      "Test Accuracy: 51.64%, (9090 of 17603)\n"
     ]
    },
    {
     "name": "stderr",
     "output_type": "stream",
     "text": [
      "TRAINING: 100%|██████████| 71/71 [00:47<00:00,  1.50it/s, Epoch=8/15, Loss: 1.8876]\n",
      "TESTING: 100%|██████████| 18/18 [00:08<00:00,  2.11it/s]\n"
     ]
    },
    {
     "name": "stdout",
     "output_type": "stream",
     "text": [
      "Test Accuracy: 52.18%, (9185 of 17603)\n"
     ]
    },
    {
     "name": "stderr",
     "output_type": "stream",
     "text": [
      "TRAINING: 100%|██████████| 71/71 [00:47<00:00,  1.51it/s, Epoch=9/15, Loss: 1.8129]\n",
      "TESTING: 100%|██████████| 18/18 [00:08<00:00,  2.11it/s]\n"
     ]
    },
    {
     "name": "stdout",
     "output_type": "stream",
     "text": [
      "Test Accuracy: 52.75%, (9286 of 17603)\n"
     ]
    },
    {
     "name": "stderr",
     "output_type": "stream",
     "text": [
      "TRAINING: 100%|██████████| 71/71 [00:46<00:00,  1.52it/s, Epoch=10/15, Loss: 1.6048]\n",
      "TESTING: 100%|██████████| 18/18 [00:08<00:00,  2.15it/s]\n"
     ]
    },
    {
     "name": "stdout",
     "output_type": "stream",
     "text": [
      "Test Accuracy: 52.78%, (9291 of 17603)\n"
     ]
    },
    {
     "name": "stderr",
     "output_type": "stream",
     "text": [
      "TRAINING: 100%|██████████| 71/71 [00:46<00:00,  1.51it/s, Epoch=11/15, Loss: 1.6034]\n",
      "TESTING: 100%|██████████| 18/18 [00:08<00:00,  2.12it/s]\n"
     ]
    },
    {
     "name": "stdout",
     "output_type": "stream",
     "text": [
      "Test Accuracy: 53.93%, (9493 of 17603)\n"
     ]
    },
    {
     "name": "stderr",
     "output_type": "stream",
     "text": [
      "TRAINING: 100%|██████████| 71/71 [00:46<00:00,  1.52it/s, Epoch=12/15, Loss: 1.5809]\n",
      "TESTING: 100%|██████████| 18/18 [00:08<00:00,  2.15it/s]\n"
     ]
    },
    {
     "name": "stdout",
     "output_type": "stream",
     "text": [
      "Test Accuracy: 53.42%, (9403 of 17603)\n"
     ]
    },
    {
     "name": "stderr",
     "output_type": "stream",
     "text": [
      "TRAINING: 100%|██████████| 71/71 [00:46<00:00,  1.51it/s, Epoch=13/15, Loss: 1.7156]\n",
      "TESTING: 100%|██████████| 18/18 [00:08<00:00,  2.13it/s]\n"
     ]
    },
    {
     "name": "stdout",
     "output_type": "stream",
     "text": [
      "Test Accuracy: 54.34%, (9566 of 17603)\n"
     ]
    },
    {
     "name": "stderr",
     "output_type": "stream",
     "text": [
      "TRAINING: 100%|██████████| 71/71 [00:47<00:00,  1.50it/s, Epoch=14/15, Loss: 1.7478]\n",
      "TESTING: 100%|██████████| 18/18 [00:08<00:00,  2.12it/s]\n"
     ]
    },
    {
     "name": "stdout",
     "output_type": "stream",
     "text": [
      "Test Accuracy: 54.00%, (9505 of 17603)\n"
     ]
    },
    {
     "name": "stderr",
     "output_type": "stream",
     "text": [
      "TRAINING: 100%|██████████| 71/71 [00:47<00:00,  1.50it/s, Epoch=15/15, Loss: 1.6889]\n",
      "TESTING: 100%|██████████| 18/18 [00:08<00:00,  2.09it/s]"
     ]
    },
    {
     "name": "stdout",
     "output_type": "stream",
     "text": [
      "Test Accuracy: 54.01%, (9508 of 17603)\n"
     ]
    },
    {
     "name": "stderr",
     "output_type": "stream",
     "text": [
      "\n"
     ]
    }
   ],
   "source": [
    "## ATTENTION MODEL WITH POSITION EMBEDDING\n",
    "class Config_Att:\n",
    "    n_layer: int = 3\n",
    "    input_dim: int = 640\n",
    "    dropout: float = 0.0\n",
    "    bias: bool = False\n",
    "    n_labels: int = 17\n",
    "    pooling : str = 'mean'\n",
    "    norm_fn: nn.Module = nn.LayerNorm\n",
    "    max_len : int = 98\n",
    "    position_embedding: bool = True\n",
    "\n",
    "config_att = Config_Att()\n",
    "config_att.n_labels = nlabels_emb\n",
    "\n",
    "model_att = Classifier(config_att)\n",
    "model_att.to(device)\n",
    "\n",
    "num_epochs = 15\n",
    "train(model_att,num_epochs,train_loader_att,test_loader_att)"
   ]
  },
  {
   "cell_type": "code",
   "execution_count": 6,
   "metadata": {},
   "outputs": [
    {
     "name": "stderr",
     "output_type": "stream",
     "text": [
      "TRAINING: 100%|██████████| 71/71 [00:43<00:00,  1.62it/s, Epoch=1/10, Loss: 2.5832]\n",
      "TESTING: 100%|██████████| 18/18 [00:07<00:00,  2.33it/s]\n"
     ]
    },
    {
     "name": "stdout",
     "output_type": "stream",
     "text": [
      "Test Accuracy: 31.05%, (5465 of 17603)\n"
     ]
    },
    {
     "name": "stderr",
     "output_type": "stream",
     "text": [
      "TRAINING: 100%|██████████| 71/71 [00:43<00:00,  1.65it/s, Epoch=2/10, Loss: 2.4622]\n",
      "TESTING: 100%|██████████| 18/18 [00:07<00:00,  2.41it/s]\n"
     ]
    },
    {
     "name": "stdout",
     "output_type": "stream",
     "text": [
      "Test Accuracy: 34.76%, (6118 of 17603)\n"
     ]
    },
    {
     "name": "stderr",
     "output_type": "stream",
     "text": [
      "TRAINING: 100%|██████████| 71/71 [00:42<00:00,  1.66it/s, Epoch=3/10, Loss: 2.1166]\n",
      "TESTING: 100%|██████████| 18/18 [00:07<00:00,  2.43it/s]\n"
     ]
    },
    {
     "name": "stdout",
     "output_type": "stream",
     "text": [
      "Test Accuracy: 42.40%, (7464 of 17603)\n"
     ]
    },
    {
     "name": "stderr",
     "output_type": "stream",
     "text": [
      "TRAINING: 100%|██████████| 71/71 [00:42<00:00,  1.65it/s, Epoch=4/10, Loss: 1.8819]\n",
      "TESTING: 100%|██████████| 18/18 [00:07<00:00,  2.39it/s]\n"
     ]
    },
    {
     "name": "stdout",
     "output_type": "stream",
     "text": [
      "Test Accuracy: 44.17%, (7776 of 17603)\n"
     ]
    },
    {
     "name": "stderr",
     "output_type": "stream",
     "text": [
      "TRAINING: 100%|██████████| 71/71 [00:43<00:00,  1.64it/s, Epoch=5/10, Loss: 1.9382]\n",
      "TESTING: 100%|██████████| 18/18 [00:07<00:00,  2.39it/s]\n"
     ]
    },
    {
     "name": "stdout",
     "output_type": "stream",
     "text": [
      "Test Accuracy: 46.25%, (8141 of 17603)\n"
     ]
    },
    {
     "name": "stderr",
     "output_type": "stream",
     "text": [
      "TRAINING: 100%|██████████| 71/71 [00:43<00:00,  1.64it/s, Epoch=6/10, Loss: 1.9195]\n",
      "TESTING: 100%|██████████| 18/18 [00:07<00:00,  2.38it/s]\n"
     ]
    },
    {
     "name": "stdout",
     "output_type": "stream",
     "text": [
      "Test Accuracy: 48.73%, (8578 of 17603)\n"
     ]
    },
    {
     "name": "stderr",
     "output_type": "stream",
     "text": [
      "TRAINING: 100%|██████████| 71/71 [00:43<00:00,  1.63it/s, Epoch=7/10, Loss: 1.9132]\n",
      "TESTING: 100%|██████████| 18/18 [00:07<00:00,  2.35it/s]\n"
     ]
    },
    {
     "name": "stdout",
     "output_type": "stream",
     "text": [
      "Test Accuracy: 51.34%, (9037 of 17603)\n"
     ]
    },
    {
     "name": "stderr",
     "output_type": "stream",
     "text": [
      "TRAINING: 100%|██████████| 71/71 [00:43<00:00,  1.63it/s, Epoch=8/10, Loss: 1.7860]\n",
      "TESTING: 100%|██████████| 18/18 [00:07<00:00,  2.37it/s]\n"
     ]
    },
    {
     "name": "stdout",
     "output_type": "stream",
     "text": [
      "Test Accuracy: 51.64%, (9091 of 17603)\n"
     ]
    },
    {
     "name": "stderr",
     "output_type": "stream",
     "text": [
      "TRAINING: 100%|██████████| 71/71 [00:43<00:00,  1.63it/s, Epoch=9/10, Loss: 1.6812]\n",
      "TESTING: 100%|██████████| 18/18 [00:08<00:00,  2.24it/s]\n"
     ]
    },
    {
     "name": "stdout",
     "output_type": "stream",
     "text": [
      "Test Accuracy: 52.48%, (9238 of 17603)\n"
     ]
    },
    {
     "name": "stderr",
     "output_type": "stream",
     "text": [
      "TRAINING: 100%|██████████| 71/71 [00:43<00:00,  1.64it/s, Epoch=10/10, Loss: 1.6132]\n",
      "TESTING: 100%|██████████| 18/18 [00:07<00:00,  2.41it/s]"
     ]
    },
    {
     "name": "stdout",
     "output_type": "stream",
     "text": [
      "Test Accuracy: 51.82%, (9121 of 17603)\n"
     ]
    },
    {
     "name": "stderr",
     "output_type": "stream",
     "text": [
      "\n"
     ]
    }
   ],
   "source": [
    "## ATTENTION MODEL WITHOUT POSITION EMBEDDING\n",
    "class Config_Att:\n",
    "    n_layer: int = 3\n",
    "    input_dim: int = 640\n",
    "    dropout: float = 0.0\n",
    "    bias: bool = False\n",
    "    n_labels: int = 17\n",
    "    pooling : str = 'mean'\n",
    "    norm_fn: nn.Module = nn.LayerNorm\n",
    "    position_embedding: bool = False\n",
    "    max_len : int = 100\n",
    "\n",
    "config_att = Config_Att()\n",
    "config_att.n_labels = nlabels_emb\n",
    "\n",
    "model_att = Classifier(config_att)\n",
    "model_att.to(device)\n",
    "\n",
    "train(model_att,num_epochs,train_loader_att,test_loader_att)"
   ]
  },
  {
   "cell_type": "code",
   "execution_count": 5,
   "metadata": {},
   "outputs": [
    {
     "name": "stdout",
     "output_type": "stream",
     "text": [
      "n labels: 53\n"
     ]
    },
    {
     "name": "stderr",
     "output_type": "stream",
     "text": [
      "TRAINING: 100%|██████████| 705/705 [00:09<00:00, 76.51it/s, Epoch=1/10, Loss: 1.8023]\n",
      "TESTING: 100%|██████████| 177/177 [00:01<00:00, 101.91it/s]\n"
     ]
    },
    {
     "name": "stdout",
     "output_type": "stream",
     "text": [
      "Test Accuracy: 52.28%, (9202 of 17603)\n"
     ]
    },
    {
     "name": "stderr",
     "output_type": "stream",
     "text": [
      "TRAINING: 100%|██████████| 705/705 [00:08<00:00, 79.30it/s, Epoch=2/10, Loss: 1.9257]\n",
      "TESTING: 100%|██████████| 177/177 [00:01<00:00, 104.57it/s]\n"
     ]
    },
    {
     "name": "stdout",
     "output_type": "stream",
     "text": [
      "Test Accuracy: 53.14%, (9355 of 17603)\n"
     ]
    },
    {
     "name": "stderr",
     "output_type": "stream",
     "text": [
      "TRAINING: 100%|██████████| 705/705 [00:08<00:00, 80.64it/s, Epoch=3/10, Loss: 1.5475]\n",
      "TESTING: 100%|██████████| 177/177 [00:01<00:00, 105.79it/s]\n"
     ]
    },
    {
     "name": "stdout",
     "output_type": "stream",
     "text": [
      "Test Accuracy: 52.67%, (9272 of 17603)\n"
     ]
    },
    {
     "name": "stderr",
     "output_type": "stream",
     "text": [
      "TRAINING: 100%|██████████| 705/705 [00:08<00:00, 80.75it/s, Epoch=4/10, Loss: 1.0615]\n",
      "TESTING: 100%|██████████| 177/177 [00:01<00:00, 106.80it/s]\n"
     ]
    },
    {
     "name": "stdout",
     "output_type": "stream",
     "text": [
      "Test Accuracy: 52.34%, (9214 of 17603)\n"
     ]
    },
    {
     "name": "stderr",
     "output_type": "stream",
     "text": [
      "TRAINING: 100%|██████████| 705/705 [00:08<00:00, 80.64it/s, Epoch=5/10, Loss: 1.5861]\n",
      "TESTING: 100%|██████████| 177/177 [00:01<00:00, 107.10it/s]\n"
     ]
    },
    {
     "name": "stdout",
     "output_type": "stream",
     "text": [
      "Test Accuracy: 52.17%, (9184 of 17603)\n"
     ]
    },
    {
     "name": "stderr",
     "output_type": "stream",
     "text": [
      "TRAINING: 100%|██████████| 705/705 [00:08<00:00, 80.71it/s, Epoch=6/10, Loss: 1.5529]\n",
      "TESTING: 100%|██████████| 177/177 [00:01<00:00, 105.95it/s]\n"
     ]
    },
    {
     "name": "stdout",
     "output_type": "stream",
     "text": [
      "Test Accuracy: 51.27%, (9025 of 17603)\n"
     ]
    },
    {
     "name": "stderr",
     "output_type": "stream",
     "text": [
      "TRAINING: 100%|██████████| 705/705 [00:08<00:00, 81.29it/s, Epoch=7/10, Loss: 1.8256]\n",
      "TESTING: 100%|██████████| 177/177 [00:01<00:00, 105.39it/s]\n"
     ]
    },
    {
     "name": "stdout",
     "output_type": "stream",
     "text": [
      "Test Accuracy: 51.14%, (9002 of 17603)\n"
     ]
    },
    {
     "name": "stderr",
     "output_type": "stream",
     "text": [
      "TRAINING: 100%|██████████| 705/705 [00:08<00:00, 80.97it/s, Epoch=8/10, Loss: 1.6346]\n",
      "TESTING: 100%|██████████| 177/177 [00:01<00:00, 107.85it/s]\n"
     ]
    },
    {
     "name": "stdout",
     "output_type": "stream",
     "text": [
      "Test Accuracy: 50.97%, (8973 of 17603)\n"
     ]
    },
    {
     "name": "stderr",
     "output_type": "stream",
     "text": [
      "TRAINING: 100%|██████████| 705/705 [00:08<00:00, 81.24it/s, Epoch=9/10, Loss: 0.7138]\n",
      "TESTING: 100%|██████████| 177/177 [00:01<00:00, 105.16it/s]\n"
     ]
    },
    {
     "name": "stdout",
     "output_type": "stream",
     "text": [
      "Test Accuracy: 50.36%, (8864 of 17603)\n"
     ]
    },
    {
     "name": "stderr",
     "output_type": "stream",
     "text": [
      "TRAINING: 100%|██████████| 705/705 [00:08<00:00, 81.32it/s, Epoch=10/10, Loss: 1.0940]\n",
      "TESTING: 100%|██████████| 177/177 [00:01<00:00, 107.97it/s]"
     ]
    },
    {
     "name": "stdout",
     "output_type": "stream",
     "text": [
      "Test Accuracy: 50.08%, (8815 of 17603)\n"
     ]
    },
    {
     "name": "stderr",
     "output_type": "stream",
     "text": [
      "\n"
     ]
    }
   ],
   "source": [
    "##EMBEDDING MODEL\n",
    "class Config_Emb:\n",
    "    input_dim: int = 6272 #98 instead of 100 for some reason\n",
    "    bias: bool = False\n",
    "    n_labels: int\n",
    "\n",
    "print('n labels:',nlabels)\n",
    "config_emb = Config_Emb()\n",
    "config_emb.n_labels = nlabels_emb\n",
    "\n",
    "model_emb = BigMLP(config_emb)\n",
    "model_emb.to(device)\n",
    "\n",
    "train(model_emb,num_epochs,train_loader_emb,test_loader_emb)"
   ]
  },
  {
   "cell_type": "code",
   "execution_count": 4,
   "metadata": {},
   "outputs": [
    {
     "name": "stderr",
     "output_type": "stream",
     "text": [
      "TRAINING: 100%|██████████| 73/73 [00:02<00:00, 32.38it/s, Epoch=1/10, Loss: 2.5820]\n",
      "TESTING: 100%|██████████| 19/19 [00:00<00:00, 36.46it/s]\n"
     ]
    },
    {
     "name": "stdout",
     "output_type": "stream",
     "text": [
      "Test Accuracy: 31.78%, (5786 of 18209)\n"
     ]
    },
    {
     "name": "stderr",
     "output_type": "stream",
     "text": [
      "TRAINING: 100%|██████████| 73/73 [00:02<00:00, 33.27it/s, Epoch=2/10, Loss: 2.2532]\n",
      "TESTING: 100%|██████████| 19/19 [00:00<00:00, 37.97it/s]\n"
     ]
    },
    {
     "name": "stdout",
     "output_type": "stream",
     "text": [
      "Test Accuracy: 45.18%, (8227 of 18209)\n"
     ]
    },
    {
     "name": "stderr",
     "output_type": "stream",
     "text": [
      "TRAINING: 100%|██████████| 73/73 [00:02<00:00, 33.39it/s, Epoch=3/10, Loss: 2.0070]\n",
      "TESTING: 100%|██████████| 19/19 [00:00<00:00, 37.75it/s]\n"
     ]
    },
    {
     "name": "stdout",
     "output_type": "stream",
     "text": [
      "Test Accuracy: 46.59%, (8484 of 18209)\n"
     ]
    },
    {
     "name": "stderr",
     "output_type": "stream",
     "text": [
      "TRAINING: 100%|██████████| 73/73 [00:02<00:00, 33.18it/s, Epoch=4/10, Loss: 1.9867]\n",
      "TESTING: 100%|██████████| 19/19 [00:00<00:00, 37.91it/s]\n"
     ]
    },
    {
     "name": "stdout",
     "output_type": "stream",
     "text": [
      "Test Accuracy: 47.17%, (8590 of 18209)\n"
     ]
    },
    {
     "name": "stderr",
     "output_type": "stream",
     "text": [
      "TRAINING: 100%|██████████| 73/73 [00:02<00:00, 33.11it/s, Epoch=5/10, Loss: 1.9407]\n",
      "TESTING: 100%|██████████| 19/19 [00:00<00:00, 38.06it/s]\n"
     ]
    },
    {
     "name": "stdout",
     "output_type": "stream",
     "text": [
      "Test Accuracy: 48.05%, (8750 of 18209)\n"
     ]
    },
    {
     "name": "stderr",
     "output_type": "stream",
     "text": [
      "TRAINING: 100%|██████████| 73/73 [00:02<00:00, 33.38it/s, Epoch=6/10, Loss: 1.9732]\n",
      "TESTING: 100%|██████████| 19/19 [00:00<00:00, 38.00it/s]\n"
     ]
    },
    {
     "name": "stdout",
     "output_type": "stream",
     "text": [
      "Test Accuracy: 48.03%, (8746 of 18209)\n"
     ]
    },
    {
     "name": "stderr",
     "output_type": "stream",
     "text": [
      "TRAINING: 100%|██████████| 73/73 [00:02<00:00, 33.46it/s, Epoch=7/10, Loss: 1.8917]\n",
      "TESTING: 100%|██████████| 19/19 [00:00<00:00, 37.94it/s]\n"
     ]
    },
    {
     "name": "stdout",
     "output_type": "stream",
     "text": [
      "Test Accuracy: 48.44%, (8820 of 18209)\n"
     ]
    },
    {
     "name": "stderr",
     "output_type": "stream",
     "text": [
      "TRAINING: 100%|██████████| 73/73 [00:02<00:00, 27.00it/s, Epoch=8/10, Loss: 1.8689]\n",
      "TESTING: 100%|██████████| 19/19 [00:00<00:00, 37.90it/s]\n"
     ]
    },
    {
     "name": "stdout",
     "output_type": "stream",
     "text": [
      "Test Accuracy: 48.78%, (8883 of 18209)\n"
     ]
    },
    {
     "name": "stderr",
     "output_type": "stream",
     "text": [
      "TRAINING: 100%|██████████| 73/73 [00:02<00:00, 33.51it/s, Epoch=9/10, Loss: 1.9086]\n",
      "TESTING: 100%|██████████| 19/19 [00:00<00:00, 38.00it/s]\n"
     ]
    },
    {
     "name": "stdout",
     "output_type": "stream",
     "text": [
      "Test Accuracy: 48.78%, (8882 of 18209)\n"
     ]
    },
    {
     "name": "stderr",
     "output_type": "stream",
     "text": [
      "TRAINING: 100%|██████████| 73/73 [00:02<00:00, 33.26it/s, Epoch=10/10, Loss: 1.8793]\n",
      "TESTING: 100%|██████████| 19/19 [00:00<00:00, 37.95it/s]"
     ]
    },
    {
     "name": "stdout",
     "output_type": "stream",
     "text": [
      "Test Accuracy: 49.38%, (8992 of 18209)\n"
     ]
    },
    {
     "name": "stderr",
     "output_type": "stream",
     "text": [
      "\n"
     ]
    }
   ],
   "source": [
    "## BINARY MODEL\n",
    "class Config_Bin:\n",
    "    input_dim: int = 1448\n",
    "    bias: bool = False\n",
    "    n_labels: int\n",
    "config_bin = Config_Bin()\n",
    "config_bin.n_labels = nlabels_bin\n",
    "\n",
    "model_bin = MLPClassifier(config_bin)\n",
    "model_bin.to(device)\n",
    "\n",
    "train(model_bin,num_epochs,train_loader_bin,test_loader_bin)"
   ]
  },
  {
   "cell_type": "code",
   "execution_count": null,
   "metadata": {},
   "outputs": [],
   "source": []
  }
 ],
 "metadata": {
  "kernelspec": {
   "display_name": "deepV_a100",
   "language": "python",
   "name": "python3"
  },
  "language_info": {
   "codemirror_mode": {
    "name": "ipython",
    "version": 3
   },
   "file_extension": ".py",
   "mimetype": "text/x-python",
   "name": "python",
   "nbconvert_exporter": "python",
   "pygments_lexer": "ipython3",
   "version": "3.10.12"
  }
 },
 "nbformat": 4,
 "nbformat_minor": 2
}
