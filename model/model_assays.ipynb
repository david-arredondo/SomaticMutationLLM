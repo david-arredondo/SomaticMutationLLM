{
 "cells": [
  {
   "cell_type": "code",
   "execution_count": 1,
   "metadata": {},
   "outputs": [
    {
     "name": "stderr",
     "output_type": "stream",
     "text": [
      "/home/dandreas/.conda/envs/deepV_a100/lib/python3.10/site-packages/pandas/core/arrays/masked.py:60: UserWarning: Pandas requires version '1.3.6' or newer of 'bottleneck' (version '1.3.5' currently installed).\n",
      "  from pandas.core import (\n",
      "/home/dandreas/.conda/envs/deepV_a100/lib/python3.10/site-packages/transformers/utils/generic.py:441: FutureWarning: `torch.utils._pytree._register_pytree_node` is deprecated. Please use `torch.utils._pytree.register_pytree_node` instead.\n",
      "  _torch_pytree._register_pytree_node(\n"
     ]
    },
    {
     "name": "stdout",
     "output_type": "stream",
     "text": [
      "0 \t data_0_00_survival_ratio1.csv\n",
      "1 \t data_0_00percentMinCancerType.csv\n",
      "2 \t data_0_10percentMinCancerType.csv\n",
      "5 \t data_1_00_survival_ratio1.csv\n",
      "4 \t data_1_00percentMinCancerType.csv\n",
      "3 \t label_mappings\n",
      "loading data from ../aa/tumors.pkl\n",
      "loading data from ../aa/assays.pkl\n"
     ]
    }
   ],
   "source": [
    "from custom_dataset import Dataset_Assay, Dataset_Assay_Survival, custom_collate_assay, custom_collate_assay_survival\n",
    "from models import *\n",
    "from saveAndLoad import *\n",
    "\n",
    "# LOAD DATA\n",
    "data_dir = '../labeled_data/'\n",
    "labeled_data = os.listdir(data_dir)\n",
    "for ni,i in sorted(zip(labeled_data,range(len(labeled_data)))):print(i,'\\t',ni)\n",
    "\n",
    "device = 'cuda:1'\n",
    "\n",
    "mut_embeddings = np.load('../aa/canonical_mut_average_embeddings_esm.npy')\n",
    "ref_embeddings = np.load('../aa/canonical_ref_embeddings_esm2.npy')\n",
    "tumors = pickleLoad('../aa/tumors.pkl')\n",
    "assays = pickleLoad('../aa/assays.pkl')"
   ]
  },
  {
   "cell_type": "code",
   "execution_count": 5,
   "metadata": {},
   "outputs": [
    {
     "name": "stdout",
     "output_type": "stream",
     "text": [
      "data_1_00percentMinCancerType.csv\n",
      "n labels: 20\n",
      "145508 samples\n",
      "131202 unique patients\n",
      "20 labels\n"
     ]
    }
   ],
   "source": [
    "data_emb = labeled_data[4]\n",
    "print(data_emb)\n",
    "data_df_emb = pd.read_csv(data_dir+data_emb)\n",
    "nlabels = len(data_df_emb['CANCER_TYPE_INT'].unique())\n",
    "print('n labels:',nlabels)\n",
    "\n",
    "dataset = Dataset_Assay(data_df_emb, 'CANCER_TYPE_INT', mut_embeddings, ref_embeddings, tumors, assays, device)\n",
    "train_loader, test_loader = getTrainTestLoaders(dataset, batch_size = 750, collate=custom_collate_assay)"
   ]
  },
  {
   "cell_type": "code",
   "execution_count": 6,
   "metadata": {},
   "outputs": [
    {
     "name": "stderr",
     "output_type": "stream",
     "text": [
      "TRAINING: 100%|██████████| 156/156 [06:47<00:00,  2.61s/it, Epoch=1/15, Loss: 1.8794]\n",
      "TESTING: 100%|██████████| 39/39 [01:05<00:00,  1.67s/it]\n"
     ]
    },
    {
     "name": "stdout",
     "output_type": "stream",
     "text": [
      "Test Accuracy: 41.06%, (11949 of 29102)\n"
     ]
    },
    {
     "name": "stderr",
     "output_type": "stream",
     "text": [
      "TRAINING: 100%|██████████| 156/156 [06:46<00:00,  2.61s/it, Epoch=2/15, Loss: 1.6754]\n",
      "TESTING: 100%|██████████| 39/39 [01:05<00:00,  1.67s/it]\n"
     ]
    },
    {
     "name": "stdout",
     "output_type": "stream",
     "text": [
      "Test Accuracy: 50.23%, (14619 of 29102)\n"
     ]
    },
    {
     "name": "stderr",
     "output_type": "stream",
     "text": [
      "TRAINING: 100%|██████████| 156/156 [06:45<00:00,  2.60s/it, Epoch=3/15, Loss: 1.5021]\n",
      "TESTING: 100%|██████████| 39/39 [01:05<00:00,  1.67s/it]\n"
     ]
    },
    {
     "name": "stdout",
     "output_type": "stream",
     "text": [
      "Test Accuracy: 53.48%, (15564 of 29102)\n"
     ]
    },
    {
     "name": "stderr",
     "output_type": "stream",
     "text": [
      "TRAINING: 100%|██████████| 156/156 [06:45<00:00,  2.60s/it, Epoch=4/15, Loss: 1.4304]\n",
      "TESTING: 100%|██████████| 39/39 [01:05<00:00,  1.67s/it]\n"
     ]
    },
    {
     "name": "stdout",
     "output_type": "stream",
     "text": [
      "Test Accuracy: 55.97%, (16288 of 29102)\n"
     ]
    },
    {
     "name": "stderr",
     "output_type": "stream",
     "text": [
      "TRAINING: 100%|██████████| 156/156 [06:45<00:00,  2.60s/it, Epoch=5/15, Loss: 1.4309]\n",
      "TESTING: 100%|██████████| 39/39 [01:05<00:00,  1.67s/it]\n"
     ]
    },
    {
     "name": "stdout",
     "output_type": "stream",
     "text": [
      "Test Accuracy: 56.37%, (16406 of 29102)\n"
     ]
    },
    {
     "name": "stderr",
     "output_type": "stream",
     "text": [
      "TRAINING: 100%|██████████| 156/156 [06:45<00:00,  2.60s/it, Epoch=6/15, Loss: 1.5651]\n",
      "TESTING: 100%|██████████| 39/39 [01:05<00:00,  1.67s/it]\n"
     ]
    },
    {
     "name": "stdout",
     "output_type": "stream",
     "text": [
      "Test Accuracy: 56.79%, (16527 of 29102)\n"
     ]
    },
    {
     "name": "stderr",
     "output_type": "stream",
     "text": [
      "TRAINING: 100%|██████████| 156/156 [06:46<00:00,  2.60s/it, Epoch=7/15, Loss: 1.5359]\n",
      "TESTING: 100%|██████████| 39/39 [01:05<00:00,  1.67s/it]\n"
     ]
    },
    {
     "name": "stdout",
     "output_type": "stream",
     "text": [
      "Test Accuracy: 57.09%, (16614 of 29102)\n"
     ]
    },
    {
     "name": "stderr",
     "output_type": "stream",
     "text": [
      "TRAINING: 100%|██████████| 156/156 [06:45<00:00,  2.60s/it, Epoch=8/15, Loss: 1.3064]\n",
      "TESTING: 100%|██████████| 39/39 [01:05<00:00,  1.68s/it]\n"
     ]
    },
    {
     "name": "stdout",
     "output_type": "stream",
     "text": [
      "Test Accuracy: 57.10%, (16617 of 29102)\n"
     ]
    },
    {
     "name": "stderr",
     "output_type": "stream",
     "text": [
      "TRAINING: 100%|██████████| 156/156 [06:46<00:00,  2.60s/it, Epoch=9/15, Loss: 1.2631]\n",
      "TESTING: 100%|██████████| 39/39 [01:05<00:00,  1.67s/it]\n"
     ]
    },
    {
     "name": "stdout",
     "output_type": "stream",
     "text": [
      "Test Accuracy: 57.77%, (16813 of 29102)\n"
     ]
    },
    {
     "name": "stderr",
     "output_type": "stream",
     "text": [
      "TRAINING: 100%|██████████| 156/156 [06:48<00:00,  2.62s/it, Epoch=10/15, Loss: 1.4164]\n",
      "TESTING: 100%|██████████| 39/39 [01:05<00:00,  1.67s/it]\n"
     ]
    },
    {
     "name": "stdout",
     "output_type": "stream",
     "text": [
      "Test Accuracy: 56.97%, (16579 of 29102)\n"
     ]
    },
    {
     "name": "stderr",
     "output_type": "stream",
     "text": [
      "TRAINING: 100%|██████████| 156/156 [06:57<00:00,  2.68s/it, Epoch=11/15, Loss: 1.2668]\n",
      "TESTING: 100%|██████████| 39/39 [01:10<00:00,  1.80s/it]\n"
     ]
    },
    {
     "name": "stdout",
     "output_type": "stream",
     "text": [
      "Test Accuracy: 57.74%, (16804 of 29102)\n"
     ]
    },
    {
     "name": "stderr",
     "output_type": "stream",
     "text": [
      "TRAINING: 100%|██████████| 156/156 [06:47<00:00,  2.61s/it, Epoch=12/15, Loss: 1.1815]\n",
      "TESTING: 100%|██████████| 39/39 [01:05<00:00,  1.67s/it]\n"
     ]
    },
    {
     "name": "stdout",
     "output_type": "stream",
     "text": [
      "Test Accuracy: 57.97%, (16869 of 29102)\n"
     ]
    },
    {
     "name": "stderr",
     "output_type": "stream",
     "text": [
      "TRAINING: 100%|██████████| 156/156 [06:49<00:00,  2.62s/it, Epoch=13/15, Loss: 1.5268]\n",
      "TESTING: 100%|██████████| 39/39 [01:05<00:00,  1.67s/it]\n"
     ]
    },
    {
     "name": "stdout",
     "output_type": "stream",
     "text": [
      "Test Accuracy: 57.59%, (16759 of 29102)\n"
     ]
    },
    {
     "name": "stderr",
     "output_type": "stream",
     "text": [
      "TRAINING: 100%|██████████| 156/156 [06:56<00:00,  2.67s/it, Epoch=14/15, Loss: 1.4692]\n",
      "TESTING: 100%|██████████| 39/39 [01:08<00:00,  1.75s/it]\n"
     ]
    },
    {
     "name": "stdout",
     "output_type": "stream",
     "text": [
      "Test Accuracy: 58.06%, (16898 of 29102)\n"
     ]
    },
    {
     "name": "stderr",
     "output_type": "stream",
     "text": [
      "TRAINING: 100%|██████████| 156/156 [06:54<00:00,  2.66s/it, Epoch=15/15, Loss: 1.2313]\n",
      "TESTING: 100%|██████████| 39/39 [01:06<00:00,  1.70s/it]"
     ]
    },
    {
     "name": "stdout",
     "output_type": "stream",
     "text": [
      "Test Accuracy: 58.19%, (16934 of 29102)\n",
      "Best Accuracy: 58.19% at epoch 14\n"
     ]
    },
    {
     "name": "stderr",
     "output_type": "stream",
     "text": [
      "\n"
     ]
    }
   ],
   "source": [
    "## ATTENTION MODEL WITH POSITION EMBEDDING\n",
    "class Config_Att:\n",
    "    n_layer: int = 3\n",
    "    input_dim: int = 640\n",
    "    dropout: float = 0.0\n",
    "    bias: bool = False\n",
    "    n_labels: int\n",
    "    pooling : str = 'mean'\n",
    "    norm_fn: nn.Module = nn.LayerNorm\n",
    "    max_len : int = 1448\n",
    "    position_embedding: bool = False\n",
    "    num_heads: int = 1\n",
    "\n",
    "config_att = Config_Att()\n",
    "config_att.n_labels = nlabels\n",
    "\n",
    "model = Classifier(config_att)\n",
    "model.to(device)\n",
    "\n",
    "num_epochs = 15\n",
    "criterion = nn.CrossEntropyLoss()\n",
    "optimizer = optim.Adam(model.parameters(), lr=.001)\n",
    "train_assay(model,num_epochs,train_loader,test_loader, criterion, optimizer)"
   ]
  },
  {
   "cell_type": "code",
   "execution_count": 3,
   "metadata": {},
   "outputs": [
    {
     "name": "stdout",
     "output_type": "stream",
     "text": [
      "data_0_00_survival_ratio1.csv\n",
      "43332 samples\n",
      "41544 unique patients\n",
      "89 cancer types\n",
      "620 detailed cancer types\n"
     ]
    }
   ],
   "source": [
    "data_emb = labeled_data[0]\n",
    "print(data_emb)\n",
    "data_df_emb = pd.read_csv(data_dir+data_emb)\n",
    "dataset = Dataset_Assay_Survival(data_df_emb,mut_embeddings, ref_embeddings, tumors, assays, device)\n",
    "train_loader, test_loader = getTrainTestLoaders(dataset, batch_size = 500, collate=custom_collate_assay_survival)"
   ]
  },
  {
   "cell_type": "code",
   "execution_count": 4,
   "metadata": {},
   "outputs": [
    {
     "name": "stderr",
     "output_type": "stream",
     "text": [
      "TRAINING: 100%|██████████| 70/70 [02:02<00:00,  1.75s/it, Epoch=1/5, Loss: 3.8442]\n",
      "TESTING: 100%|██████████| 18/18 [00:19<00:00,  1.07s/it]\n"
     ]
    },
    {
     "name": "stdout",
     "output_type": "stream",
     "text": [
      "C-Index: 0.7527\n"
     ]
    },
    {
     "name": "stderr",
     "output_type": "stream",
     "text": [
      "TRAINING: 100%|██████████| 70/70 [02:00<00:00,  1.72s/it, Epoch=2/5, Loss: 3.9807]\n",
      "TESTING: 100%|██████████| 18/18 [00:19<00:00,  1.07s/it]\n"
     ]
    },
    {
     "name": "stdout",
     "output_type": "stream",
     "text": [
      "C-Index: 0.7543\n"
     ]
    },
    {
     "name": "stderr",
     "output_type": "stream",
     "text": [
      "TRAINING: 100%|██████████| 70/70 [02:00<00:00,  1.72s/it, Epoch=3/5, Loss: 3.7388]\n",
      "TESTING: 100%|██████████| 18/18 [00:19<00:00,  1.07s/it]\n"
     ]
    },
    {
     "name": "stdout",
     "output_type": "stream",
     "text": [
      "C-Index: 0.7520\n"
     ]
    },
    {
     "name": "stderr",
     "output_type": "stream",
     "text": [
      "TRAINING: 100%|██████████| 70/70 [02:00<00:00,  1.72s/it, Epoch=4/5, Loss: 3.7013]\n",
      "TESTING: 100%|██████████| 18/18 [00:19<00:00,  1.06s/it]\n"
     ]
    },
    {
     "name": "stdout",
     "output_type": "stream",
     "text": [
      "C-Index: 0.7571\n"
     ]
    },
    {
     "name": "stderr",
     "output_type": "stream",
     "text": [
      "TRAINING: 100%|██████████| 70/70 [02:00<00:00,  1.72s/it, Epoch=5/5, Loss: 3.8915]\n",
      "TESTING: 100%|██████████| 18/18 [00:19<00:00,  1.06s/it]"
     ]
    },
    {
     "name": "stdout",
     "output_type": "stream",
     "text": [
      "C-Index: 0.7538\n",
      "Best C-Index: 0.7571 at epoch 3\n"
     ]
    },
    {
     "name": "stderr",
     "output_type": "stream",
     "text": [
      "\n"
     ]
    }
   ],
   "source": [
    "## ATTENTION MODEL WITH POSITION EMBEDDING\n",
    "class Config_Att:\n",
    "    n_layer: int = 3\n",
    "    input_dim: int = 640\n",
    "    dropout: float = 0.0\n",
    "    bias: bool = False\n",
    "    n_labels: int = 1\n",
    "    pooling : str = 'mean'\n",
    "    norm_fn: nn.Module = nn.LayerNorm\n",
    "    max_len : int = 1448\n",
    "    position_embedding: bool = False\n",
    "    num_heads: int = 1\n",
    "\n",
    "config_att = Config_Att()\n",
    "\n",
    "model = Classifier(config_att)\n",
    "model.to(device)\n",
    "\n",
    "num_epochs = 5\n",
    "optimizer = optim.Adam(model.parameters(), lr=.00001)\n",
    "criterion = negative_log_partial_likelihood\n",
    "# train_assay_survival(model,num_epochs,train_loader,test_loader, criterion, optimizer, saveName = './best_models/model_sha_survival_uncensored.pt')\n",
    "train_assay_survival(model,num_epochs,train_loader,test_loader, criterion, optimizer)"
   ]
  },
  {
   "cell_type": "code",
   "execution_count": null,
   "metadata": {},
   "outputs": [],
   "source": []
  }
 ],
 "metadata": {
  "kernelspec": {
   "display_name": "deepV_a100",
   "language": "python",
   "name": "python3"
  },
  "language_info": {
   "codemirror_mode": {
    "name": "ipython",
    "version": 3
   },
   "file_extension": ".py",
   "mimetype": "text/x-python",
   "name": "python",
   "nbconvert_exporter": "python",
   "pygments_lexer": "ipython3",
   "version": "3.10.12"
  }
 },
 "nbformat": 4,
 "nbformat_minor": 2
}
