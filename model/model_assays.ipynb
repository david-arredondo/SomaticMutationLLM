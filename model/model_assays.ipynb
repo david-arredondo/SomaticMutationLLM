{
 "cells": [
  {
   "cell_type": "code",
   "execution_count": 1,
   "metadata": {},
   "outputs": [
    {
     "name": "stdout",
     "output_type": "stream",
     "text": [
      "data_CANCER_TYPE_3MinMutations_169MinCancerType.csv\n",
      "n labels: 53\n",
      "loading data from ../aa/tumors.pkl\n",
      "loading data from ../aa/assays.pkl\n"
     ]
    }
   ],
   "source": [
    "from custom_dataset import Dataset_Assay, custom_collate_assay\n",
    "from models import *\n",
    "from saveAndLoad import *\n",
    "\n",
    "# LOAD DATA\n",
    "data_dir = '../labeled_data/'\n",
    "labeled_data = os.listdir(data_dir)\n",
    "# for ni,i in sorted(zip(labeled_data,range(len(labeled_data)))):print(i,'\\t',ni)\n",
    "data_emb = labeled_data[17]\n",
    "print(data_emb)\n",
    "data_df_emb = pd.read_csv(data_dir+data_emb)\n",
    "\n",
    "nlabels = len(data_df_emb['int_label'].unique())\n",
    "print('n labels:',nlabels)\n",
    "device = 'cuda:1'\n",
    "\n",
    "mut_embeddings = np.load('../aa/canonical_mut_average_embeddings_esm2.npy')\n",
    "ref_embeddings = np.load('../aa/canonical_ref_embeddings_esm2.npy')\n",
    "tumors = pickleLoad('../aa/tumors.pkl')\n",
    "assays = pickleLoad('../aa/assays.pkl')\n",
    "\n",
    "dataset = Dataset_Assay(data_df_emb, mut_embeddings, ref_embeddings, tumors, assays, device)\n",
    "train_loader, test_loader = getTrainTestLoaders(dataset, batch_size = 100, collate=custom_collate_assay)"
   ]
  },
  {
   "cell_type": "code",
   "execution_count": 2,
   "metadata": {},
   "outputs": [],
   "source": [
    "## HYPERPARAMS\n",
    "num_epochs = 10\n",
    "learning_rate = 0.001"
   ]
  },
  {
   "cell_type": "code",
   "execution_count": 3,
   "metadata": {},
   "outputs": [
    {
     "name": "stderr",
     "output_type": "stream",
     "text": [
      "TRAINING: 100%|██████████| 904/904 [13:23<00:00,  1.13it/s, Epoch=1/15, Loss: nan] \n",
      "TESTING: 100%|██████████| 226/226 [02:13<00:00,  1.69it/s]\n"
     ]
    },
    {
     "name": "stdout",
     "output_type": "stream",
     "text": [
      "Test Accuracy: 0.15%, (33 of 22592)\n"
     ]
    },
    {
     "name": "stderr",
     "output_type": "stream",
     "text": [
      "TRAINING: 100%|██████████| 904/904 [13:40<00:00,  1.10it/s, Epoch=2/15, Loss: nan]\n",
      "TESTING: 100%|██████████| 226/226 [02:25<00:00,  1.56it/s]\n"
     ]
    },
    {
     "name": "stdout",
     "output_type": "stream",
     "text": [
      "Test Accuracy: 0.15%, (33 of 22592)\n"
     ]
    },
    {
     "name": "stderr",
     "output_type": "stream",
     "text": [
      "TRAINING: 100%|██████████| 904/904 [12:34<00:00,  1.20it/s, Epoch=3/15, Loss: nan]\n",
      "TESTING: 100%|██████████| 226/226 [02:21<00:00,  1.60it/s]\n"
     ]
    },
    {
     "name": "stdout",
     "output_type": "stream",
     "text": [
      "Test Accuracy: 0.15%, (33 of 22592)\n"
     ]
    },
    {
     "name": "stderr",
     "output_type": "stream",
     "text": [
      "TRAINING: 100%|██████████| 904/904 [12:43<00:00,  1.18it/s, Epoch=4/15, Loss: nan]\n",
      "TESTING: 100%|██████████| 226/226 [02:21<00:00,  1.59it/s]\n"
     ]
    },
    {
     "name": "stdout",
     "output_type": "stream",
     "text": [
      "Test Accuracy: 0.15%, (33 of 22592)\n"
     ]
    },
    {
     "name": "stderr",
     "output_type": "stream",
     "text": [
      "TRAINING: 100%|██████████| 904/904 [11:10<00:00,  1.35it/s, Epoch=5/15, Loss: nan]\n",
      "TESTING: 100%|██████████| 226/226 [01:59<00:00,  1.88it/s]\n"
     ]
    },
    {
     "name": "stdout",
     "output_type": "stream",
     "text": [
      "Test Accuracy: 0.15%, (33 of 22592)\n"
     ]
    },
    {
     "name": "stderr",
     "output_type": "stream",
     "text": [
      "TRAINING: 100%|██████████| 904/904 [11:21<00:00,  1.33it/s, Epoch=6/15, Loss: nan]\n",
      "TESTING: 100%|██████████| 226/226 [02:10<00:00,  1.73it/s]\n"
     ]
    },
    {
     "name": "stdout",
     "output_type": "stream",
     "text": [
      "Test Accuracy: 0.15%, (33 of 22592)\n"
     ]
    },
    {
     "name": "stderr",
     "output_type": "stream",
     "text": [
      "TRAINING: 100%|██████████| 904/904 [11:26<00:00,  1.32it/s, Epoch=7/15, Loss: nan]\n",
      "TESTING: 100%|██████████| 226/226 [01:58<00:00,  1.91it/s]\n"
     ]
    },
    {
     "name": "stdout",
     "output_type": "stream",
     "text": [
      "Test Accuracy: 0.15%, (33 of 22592)\n"
     ]
    },
    {
     "name": "stderr",
     "output_type": "stream",
     "text": [
      "TRAINING: 100%|██████████| 904/904 [10:38<00:00,  1.42it/s, Epoch=8/15, Loss: nan]\n",
      "TESTING: 100%|██████████| 226/226 [01:35<00:00,  2.37it/s]\n"
     ]
    },
    {
     "name": "stdout",
     "output_type": "stream",
     "text": [
      "Test Accuracy: 0.15%, (33 of 22592)\n"
     ]
    },
    {
     "name": "stderr",
     "output_type": "stream",
     "text": [
      "TRAINING: 100%|██████████| 904/904 [10:49<00:00,  1.39it/s, Epoch=9/15, Loss: nan]\n",
      "TESTING: 100%|██████████| 226/226 [01:58<00:00,  1.90it/s]\n"
     ]
    },
    {
     "name": "stdout",
     "output_type": "stream",
     "text": [
      "Test Accuracy: 0.15%, (33 of 22592)\n"
     ]
    },
    {
     "name": "stderr",
     "output_type": "stream",
     "text": [
      "TRAINING: 100%|██████████| 904/904 [10:48<00:00,  1.40it/s, Epoch=10/15, Loss: nan]\n",
      "TESTING: 100%|██████████| 226/226 [01:53<00:00,  1.98it/s]\n"
     ]
    },
    {
     "name": "stdout",
     "output_type": "stream",
     "text": [
      "Test Accuracy: 0.15%, (33 of 22592)\n"
     ]
    },
    {
     "name": "stderr",
     "output_type": "stream",
     "text": [
      "TRAINING: 100%|██████████| 904/904 [11:27<00:00,  1.32it/s, Epoch=11/15, Loss: nan]\n",
      "TESTING: 100%|██████████| 226/226 [01:23<00:00,  2.72it/s]\n"
     ]
    },
    {
     "name": "stdout",
     "output_type": "stream",
     "text": [
      "Test Accuracy: 0.15%, (33 of 22592)\n"
     ]
    },
    {
     "name": "stderr",
     "output_type": "stream",
     "text": [
      "TRAINING: 100%|██████████| 904/904 [14:08<00:00,  1.07it/s, Epoch=12/15, Loss: nan]\n",
      "TESTING: 100%|██████████| 226/226 [02:53<00:00,  1.30it/s]\n"
     ]
    },
    {
     "name": "stdout",
     "output_type": "stream",
     "text": [
      "Test Accuracy: 0.15%, (33 of 22592)\n"
     ]
    },
    {
     "name": "stderr",
     "output_type": "stream",
     "text": [
      "TRAINING: 100%|██████████| 904/904 [15:34<00:00,  1.03s/it, Epoch=13/15, Loss: nan]\n",
      "TESTING: 100%|██████████| 226/226 [02:52<00:00,  1.31it/s]\n"
     ]
    },
    {
     "name": "stdout",
     "output_type": "stream",
     "text": [
      "Test Accuracy: 0.15%, (33 of 22592)\n"
     ]
    },
    {
     "name": "stderr",
     "output_type": "stream",
     "text": [
      "TRAINING: 100%|██████████| 904/904 [14:58<00:00,  1.01it/s, Epoch=14/15, Loss: nan]\n",
      "TESTING: 100%|██████████| 226/226 [02:53<00:00,  1.30it/s]\n"
     ]
    },
    {
     "name": "stdout",
     "output_type": "stream",
     "text": [
      "Test Accuracy: 0.15%, (33 of 22592)\n"
     ]
    },
    {
     "name": "stderr",
     "output_type": "stream",
     "text": [
      "TRAINING: 100%|██████████| 904/904 [15:17<00:00,  1.02s/it, Epoch=15/15, Loss: nan]\n",
      "TESTING: 100%|██████████| 226/226 [02:35<00:00,  1.45it/s]"
     ]
    },
    {
     "name": "stdout",
     "output_type": "stream",
     "text": [
      "Test Accuracy: 0.15%, (33 of 22592)\n"
     ]
    },
    {
     "name": "stderr",
     "output_type": "stream",
     "text": [
      "\n"
     ]
    }
   ],
   "source": [
    "## ATTENTION MODEL WITH POSITION EMBEDDING\n",
    "class Config_Att:\n",
    "    n_layer: int = 3\n",
    "    input_dim: int = 640\n",
    "    dropout: float = 0.0\n",
    "    bias: bool = False\n",
    "    n_labels: int = 17\n",
    "    pooling : str = 'mean'\n",
    "    norm_fn: nn.Module = nn.LayerNorm\n",
    "    max_len : int = 1448\n",
    "    position_embedding: bool = False\n",
    "\n",
    "config_att = Config_Att()\n",
    "config_att.n_labels = nlabels\n",
    "\n",
    "model = Classifier(config_att)\n",
    "model.to(device)\n",
    "\n",
    "num_epochs = 15\n",
    "train_assay(model,num_epochs,train_loader,test_loader)"
   ]
  },
  {
   "cell_type": "code",
   "execution_count": 4,
   "metadata": {},
   "outputs": [],
   "source": [
    "## BATCH SIZE > 1 IS CAUSING NAN LOSS"
   ]
  },
  {
   "cell_type": "code",
   "execution_count": null,
   "metadata": {},
   "outputs": [],
   "source": []
  }
 ],
 "metadata": {
  "kernelspec": {
   "display_name": "deepV_a100",
   "language": "python",
   "name": "python3"
  },
  "language_info": {
   "codemirror_mode": {
    "name": "ipython",
    "version": 3
   },
   "file_extension": ".py",
   "mimetype": "text/x-python",
   "name": "python",
   "nbconvert_exporter": "python",
   "pygments_lexer": "ipython3",
   "version": "3.10.12"
  }
 },
 "nbformat": 4,
 "nbformat_minor": 2
}
