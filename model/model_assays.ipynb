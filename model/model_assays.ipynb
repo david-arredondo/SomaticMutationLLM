{
 "cells": [
  {
   "cell_type": "code",
   "execution_count": 1,
   "metadata": {},
   "outputs": [
    {
     "name": "stderr",
     "output_type": "stream",
     "text": [
      "/home/dandreas/.conda/envs/deepV_a100/lib/python3.10/site-packages/pandas/core/arrays/masked.py:60: UserWarning: Pandas requires version '1.3.6' or newer of 'bottleneck' (version '1.3.5' currently installed).\n",
      "  from pandas.core import (\n",
      "/home/dandreas/.conda/envs/deepV_a100/lib/python3.10/site-packages/transformers/utils/generic.py:441: FutureWarning: `torch.utils._pytree._register_pytree_node` is deprecated. Please use `torch.utils._pytree.register_pytree_node` instead.\n",
      "  _torch_pytree._register_pytree_node(\n"
     ]
    },
    {
     "name": "stdout",
     "output_type": "stream",
     "text": [
      "0 \t BINARYdata_CANCER_TYPE_0_00percentMinCancerType.csv\n",
      "12 \t BINARYdata_CANCER_TYPE_0_10percentMinCancerType.csv\n",
      "2 \t BINARYdata_CANCER_TYPE_1_00percentMinCancerType.csv\n",
      "4 \t BINARYdata_CANCER_TYPE_DETAILED_0_00percentMinCancerType.csv\n",
      "11 \t BINARYdata_CANCER_TYPE_DETAILED_0_10percentMinCancerType.csv\n",
      "9 \t BINARYdata_CANCER_TYPE_DETAILED_1_00percentMinCancerType.csv\n",
      "6 \t data_CANCER_TYPE_0_00percentMinCancerType.csv\n",
      "5 \t data_CANCER_TYPE_0_10percentMinCancerType.csv\n",
      "10 \t data_CANCER_TYPE_1_00percentMinCancerType.csv\n",
      "1 \t data_CANCER_TYPE_DETAILED_0_00percentMinCancerType.csv\n",
      "3 \t data_CANCER_TYPE_DETAILED_0_10percentMinCancerType.csv\n",
      "7 \t data_CANCER_TYPE_DETAILED_1_00percentMinCancerType.csv\n",
      "8 \t label_mappings\n",
      "data_CANCER_TYPE_0_00percentMinCancerType.csv\n",
      "n labels: 108\n",
      "loading data from ../aa/tumors.pkl\n",
      "loading data from ../aa/assays.pkl\n"
     ]
    }
   ],
   "source": [
    "from custom_dataset import Dataset_Assay, Dataset_Assay_Survival, custom_collate_assay, custom_collate_assay_survival\n",
    "from models import *\n",
    "from saveAndLoad import *\n",
    "\n",
    "# LOAD DATA\n",
    "data_dir = '../labeled_data/'\n",
    "labeled_data = os.listdir(data_dir)\n",
    "for ni,i in sorted(zip(labeled_data,range(len(labeled_data)))):print(i,'\\t',ni)\n",
    "data_emb = labeled_data[6]\n",
    "print(data_emb)\n",
    "data_df_emb = pd.read_csv(data_dir+data_emb)\n",
    "\n",
    "nlabels = len(data_df_emb['int_label'].unique())\n",
    "print('n labels:',nlabels)\n",
    "device = 'cuda:1'\n",
    "\n",
    "mut_embeddings = np.load('../aa/canonical_mut_average_embeddings_esm2.npy')\n",
    "ref_embeddings = np.load('../aa/canonical_ref_embeddings_esm2.npy')\n",
    "tumors = pickleLoad('../aa/tumors.pkl')\n",
    "assays = pickleLoad('../aa/assays.pkl')"
   ]
  },
  {
   "cell_type": "code",
   "execution_count": 2,
   "metadata": {},
   "outputs": [
    {
     "name": "stdout",
     "output_type": "stream",
     "text": [
      "data_CANCER_TYPE_0_00percentMinCancerType.csv\n",
      "159445 samples\n",
      "142745 unique patients\n",
      "108 labels\n",
      "\n",
      "data_CANCER_TYPE_0_10percentMinCancerType.csv\n",
      "157887 samples\n",
      "141445 unique patients\n",
      "53 labels\n",
      "\n",
      "data_CANCER_TYPE_1_00percentMinCancerType.csv\n",
      "138303 samples\n",
      "124702 unique patients\n",
      "20 labels\n",
      "\n",
      "data_CANCER_TYPE_DETAILED_0_00percentMinCancerType.csv\n",
      "159445 samples\n",
      "142745 unique patients\n",
      "783 labels\n",
      "\n",
      "data_CANCER_TYPE_DETAILED_0_10percentMinCancerType.csv\n",
      "141057 samples\n",
      "127155 unique patients\n",
      "143 labels\n",
      "\n",
      "data_CANCER_TYPE_DETAILED_1_00percentMinCancerType.csv\n",
      "82664 samples\n",
      "75447 unique patients\n",
      "17 labels\n",
      "\n"
     ]
    }
   ],
   "source": [
    "for i in [6,5,10,1,3,7]:\n",
    "    print(labeled_data[i])\n",
    "    df = pd.read_csv(data_dir+labeled_data[i])\n",
    "    Dataset_Assay(df,mut_embeddings,ref_embeddings,tumors,assays,'cpu')\n",
    "    print('')"
   ]
  },
  {
   "cell_type": "code",
   "execution_count": 3,
   "metadata": {},
   "outputs": [
    {
     "name": "stdout",
     "output_type": "stream",
     "text": [
      "138303 samples\n",
      "124702 unique patients\n",
      "20 labels\n"
     ]
    }
   ],
   "source": [
    "dataset = Dataset_Assay(data_df_emb, mut_embeddings, ref_embeddings, tumors, assays, device)\n",
    "train_loader, test_loader = getTrainTestLoaders(dataset, batch_size = 750, collate=custom_collate_assay)"
   ]
  },
  {
   "cell_type": "code",
   "execution_count": null,
   "metadata": {},
   "outputs": [],
   "source": [
    "## ATTENTION MODEL WITH POSITION EMBEDDING\n",
    "class Config_Att:\n",
    "    n_layer: int = 3\n",
    "    input_dim: int = 640\n",
    "    dropout: float = 0.0\n",
    "    bias: bool = False\n",
    "    n_labels: int\n",
    "    pooling : str = 'mean'\n",
    "    norm_fn: nn.Module = nn.LayerNorm\n",
    "    max_len : int = 1448\n",
    "    position_embedding: bool = False\n",
    "    num_heads: int = 1\n",
    "\n",
    "config_att = Config_Att()\n",
    "config_att.n_labels = nlabels\n",
    "\n",
    "model = Classifier(config_att)\n",
    "model.to(device)\n",
    "\n",
    "num_epochs = 15\n",
    "criterion = nn.CrossEntropyLoss()\n",
    "optimizer = optim.Adam(model.parameters(), lr=.001)\n",
    "train_assay(model,num_epochs,train_loader,test_loader, criterion, optimizer)"
   ]
  },
  {
   "cell_type": "code",
   "execution_count": 4,
   "metadata": {},
   "outputs": [
    {
     "name": "stdout",
     "output_type": "stream",
     "text": [
      "dropped 17595 nan samples (11.04%)\n",
      "41026 samples\n",
      "39291 unique patients\n"
     ]
    }
   ],
   "source": [
    "dataset = Dataset_Assay_Survival(data_df_emb, mut_embeddings, ref_embeddings, tumors, assays, device, ratio=1)\n",
    "train_loader, test_loader = getTrainTestLoaders(dataset, batch_size = 500, collate=custom_collate_assay_survival)"
   ]
  },
  {
   "cell_type": "code",
   "execution_count": 6,
   "metadata": {},
   "outputs": [
    {
     "name": "stderr",
     "output_type": "stream",
     "text": [
      "TRAINING: 100%|██████████| 66/66 [02:10<00:00,  1.98s/it, Epoch=1/5, Loss: 4.3943]\n",
      "TESTING: 100%|██████████| 17/17 [00:21<00:00,  1.29s/it]\n"
     ]
    },
    {
     "name": "stdout",
     "output_type": "stream",
     "text": [
      "C-Index: 0.7578\n"
     ]
    },
    {
     "name": "stderr",
     "output_type": "stream",
     "text": [
      "TRAINING: 100%|██████████| 66/66 [02:10<00:00,  1.98s/it, Epoch=2/5, Loss: 4.4962]\n",
      "TESTING: 100%|██████████| 17/17 [00:21<00:00,  1.29s/it]\n"
     ]
    },
    {
     "name": "stdout",
     "output_type": "stream",
     "text": [
      "C-Index: 0.7645\n"
     ]
    },
    {
     "name": "stderr",
     "output_type": "stream",
     "text": [
      "TRAINING: 100%|██████████| 66/66 [02:13<00:00,  2.02s/it, Epoch=3/5, Loss: 4.3742]\n",
      "TESTING: 100%|██████████| 17/17 [00:30<00:00,  1.82s/it]\n"
     ]
    },
    {
     "name": "stdout",
     "output_type": "stream",
     "text": [
      "C-Index: 0.7679\n"
     ]
    },
    {
     "name": "stderr",
     "output_type": "stream",
     "text": [
      "TRAINING: 100%|██████████| 66/66 [02:48<00:00,  2.55s/it, Epoch=4/5, Loss: 4.5242]\n",
      "TESTING: 100%|██████████| 17/17 [00:22<00:00,  1.33s/it]\n"
     ]
    },
    {
     "name": "stdout",
     "output_type": "stream",
     "text": [
      "C-Index: 0.7685\n"
     ]
    },
    {
     "name": "stderr",
     "output_type": "stream",
     "text": [
      "TRAINING: 100%|██████████| 66/66 [02:18<00:00,  2.10s/it, Epoch=5/5, Loss: 4.4216]\n",
      "TESTING: 100%|██████████| 17/17 [00:19<00:00,  1.15s/it]"
     ]
    },
    {
     "name": "stdout",
     "output_type": "stream",
     "text": [
      "C-Index: 0.7673\n",
      "Best C-Index: 0.7685 at epoch 3\n"
     ]
    },
    {
     "name": "stderr",
     "output_type": "stream",
     "text": [
      "\n"
     ]
    }
   ],
   "source": [
    "## ATTENTION MODEL WITH POSITION EMBEDDING\n",
    "class Config_Att:\n",
    "    n_layer: int = 3\n",
    "    input_dim: int = 640\n",
    "    dropout: float = 0.0\n",
    "    bias: bool = False\n",
    "    n_labels: int = 1\n",
    "    pooling : str = 'mean'\n",
    "    norm_fn: nn.Module = nn.LayerNorm\n",
    "    max_len : int = 1448\n",
    "    position_embedding: bool = False\n",
    "    num_heads: int = 1\n",
    "\n",
    "config_att = Config_Att()\n",
    "\n",
    "model = Classifier(config_att)\n",
    "model.to(device)\n",
    "\n",
    "num_epochs = 5\n",
    "optimizer = optim.Adam(model.parameters(), lr=.00001)\n",
    "criterion = negative_log_partial_likelihood\n",
    "# train_assay_survival(model,num_epochs,train_loader,test_loader, criterion, optimizer, saveName = './best_models/model_sha_survival_uncensored.pt')\n",
    "train_assay_survival(model,num_epochs,train_loader,test_loader, criterion, optimizer)"
   ]
  },
  {
   "cell_type": "code",
   "execution_count": null,
   "metadata": {},
   "outputs": [],
   "source": []
  }
 ],
 "metadata": {
  "kernelspec": {
   "display_name": "deepV_a100",
   "language": "python",
   "name": "python3"
  },
  "language_info": {
   "codemirror_mode": {
    "name": "ipython",
    "version": 3
   },
   "file_extension": ".py",
   "mimetype": "text/x-python",
   "name": "python",
   "nbconvert_exporter": "python",
   "pygments_lexer": "ipython3",
   "version": "3.10.12"
  }
 },
 "nbformat": 4,
 "nbformat_minor": 2
}
