{
 "cells": [
  {
   "cell_type": "code",
   "execution_count": 1,
   "metadata": {},
   "outputs": [
    {
     "name": "stderr",
     "output_type": "stream",
     "text": [
      "/home/dandreas/.conda/envs/deepV_a100/lib/python3.10/site-packages/pandas/core/arrays/masked.py:60: UserWarning: Pandas requires version '1.3.6' or newer of 'bottleneck' (version '1.3.5' currently installed).\n",
      "  from pandas.core import (\n",
      "/home/dandreas/.conda/envs/deepV_a100/lib/python3.10/site-packages/transformers/utils/generic.py:441: FutureWarning: `torch.utils._pytree._register_pytree_node` is deprecated. Please use `torch.utils._pytree.register_pytree_node` instead.\n",
      "  _torch_pytree._register_pytree_node(\n"
     ]
    },
    {
     "name": "stdout",
     "output_type": "stream",
     "text": [
      "37 \t BINARYdata_CANCER_TYPE_0MinMutations_1696MinCancerType.csv\n",
      "24 \t BINARYdata_CANCER_TYPE_0MinMutations_169MinCancerType.csv\n",
      "1 \t BINARYdata_CANCER_TYPE_3MinMutations_1696MinCancerType.csv\n",
      "32 \t BINARYdata_CANCER_TYPE_3MinMutations_169MinCancerType.csv\n",
      "12 \t BINARYdata_CANCER_TYPE_DETAILED_0MinMutations_1696MinCancerType.csv\n",
      "26 \t BINARYdata_CANCER_TYPE_DETAILED_0MinMutations_169MinCancerType.csv\n",
      "10 \t BINARYdata_CANCER_TYPE_DETAILED_3MinMutations_1696MinCancerType.csv\n",
      "30 \t BINARYdata_CANCER_TYPE_DETAILED_3MinMutations_169MinCancerType.csv\n",
      "23 \t data_CANCER_TYPE_0MinMutations_1696MinCancerType.csv\n",
      "25 \t data_CANCER_TYPE_0MinMutations_169MinCancerType.csv\n",
      "41 \t data_CANCER_TYPE_3MinMutations_1696MinCancerType.csv\n",
      "17 \t data_CANCER_TYPE_3MinMutations_169MinCancerType.csv\n",
      "11 \t data_CANCER_TYPE_DETAILED_0MinMutations_1696MinCancerType.csv\n",
      "28 \t data_CANCER_TYPE_DETAILED_0MinMutations_169MinCancerType.csv\n",
      "4 \t data_CANCER_TYPE_DETAILED_3MinMutations_1696MinCancerType.csv\n",
      "47 \t data_CANCER_TYPE_DETAILED_3MinMutations_169MinCancerType.csv\n",
      "35 \t label_mappings\n",
      "45 \t top100_BINARYdata_CANCER_TYPE_0MinMutations_1604MinCancerType.csv\n",
      "22 \t top100_BINARYdata_CANCER_TYPE_0MinMutations_160MinCancerType.csv\n",
      "33 \t top100_BINARYdata_CANCER_TYPE_3MinMutations_1604MinCancerType.csv\n",
      "0 \t top100_BINARYdata_CANCER_TYPE_3MinMutations_160MinCancerType.csv\n",
      "2 \t top100_BINARYdata_CANCER_TYPE_DETAILED_0MinMutations_1604MinCancerType.csv\n",
      "43 \t top100_BINARYdata_CANCER_TYPE_DETAILED_0MinMutations_160MinCancerType.csv\n",
      "6 \t top100_BINARYdata_CANCER_TYPE_DETAILED_3MinMutations_1604MinCancerType.csv\n",
      "21 \t top100_BINARYdata_CANCER_TYPE_DETAILED_3MinMutations_160MinCancerType.csv\n",
      "38 \t top100_data_CANCER_TYPE_0MinMutations_1604MinCancerType.csv\n",
      "40 \t top100_data_CANCER_TYPE_0MinMutations_160MinCancerType.csv\n",
      "36 \t top100_data_CANCER_TYPE_3MinMutations_1604MinCancerType.csv\n",
      "31 \t top100_data_CANCER_TYPE_3MinMutations_160MinCancerType.csv\n",
      "3 \t top100_data_CANCER_TYPE_DETAILED_0MinMutations_1604MinCancerType.csv\n",
      "20 \t top100_data_CANCER_TYPE_DETAILED_0MinMutations_160MinCancerType.csv\n",
      "44 \t top100_data_CANCER_TYPE_DETAILED_3MinMutations_1604MinCancerType.csv\n",
      "16 \t top100_data_CANCER_TYPE_DETAILED_3MinMutations_160MinCancerType.csv\n",
      "34 \t top10_BINARYdata_CANCER_TYPE_0MinMutations_1213MinCancerType.csv\n",
      "46 \t top10_BINARYdata_CANCER_TYPE_0MinMutations_121MinCancerType.csv\n",
      "15 \t top10_BINARYdata_CANCER_TYPE_3MinMutations_1213MinCancerType.csv\n",
      "29 \t top10_BINARYdata_CANCER_TYPE_3MinMutations_121MinCancerType.csv\n",
      "48 \t top10_BINARYdata_CANCER_TYPE_DETAILED_0MinMutations_1213MinCancerType.csv\n",
      "42 \t top10_BINARYdata_CANCER_TYPE_DETAILED_0MinMutations_121MinCancerType.csv\n",
      "19 \t top10_BINARYdata_CANCER_TYPE_DETAILED_3MinMutations_1213MinCancerType.csv\n",
      "8 \t top10_BINARYdata_CANCER_TYPE_DETAILED_3MinMutations_121MinCancerType.csv\n",
      "39 \t top10_data_CANCER_TYPE_0MinMutations_1696MinCancerType.csv\n",
      "9 \t top10_data_CANCER_TYPE_0MinMutations_169MinCancerType.csv\n",
      "14 \t top10_data_CANCER_TYPE_3MinMutations_1696MinCancerType.csv\n",
      "7 \t top10_data_CANCER_TYPE_3MinMutations_169MinCancerType.csv\n",
      "5 \t top10_data_CANCER_TYPE_DETAILED_0MinMutations_1696MinCancerType.csv\n",
      "27 \t top10_data_CANCER_TYPE_DETAILED_0MinMutations_169MinCancerType.csv\n",
      "18 \t top10_data_CANCER_TYPE_DETAILED_3MinMutations_1696MinCancerType.csv\n",
      "13 \t top10_data_CANCER_TYPE_DETAILED_3MinMutations_169MinCancerType.csv\n",
      "data_CANCER_TYPE_0MinMutations_1696MinCancerType.csv\n",
      "n labels: 20\n",
      "loading data from ../aa/tumors.pkl\n",
      "loading data from ../aa/assays.pkl\n"
     ]
    }
   ],
   "source": [
    "from custom_dataset import Dataset_Assay, Dataset_Assay_Survival, custom_collate_assay, custom_collate_assay_survival\n",
    "from models import *\n",
    "from saveAndLoad import *\n",
    "\n",
    "# LOAD DATA\n",
    "data_dir = '../labeled_data/'\n",
    "labeled_data = os.listdir(data_dir)\n",
    "for ni,i in sorted(zip(labeled_data,range(len(labeled_data)))):print(i,'\\t',ni)\n",
    "data_emb = labeled_data[23]\n",
    "print(data_emb)\n",
    "data_df_emb = pd.read_csv(data_dir+data_emb)\n",
    "\n",
    "nlabels = len(data_df_emb['int_label'].unique())\n",
    "print('n labels:',nlabels)\n",
    "device = 'cuda:0'\n",
    "\n",
    "mut_embeddings = np.load('../aa/canonical_mut_average_embeddings_esm2.npy')\n",
    "ref_embeddings = np.load('../aa/canonical_ref_embeddings_esm2.npy')\n",
    "tumors = pickleLoad('../aa/tumors.pkl')\n",
    "assays = pickleLoad('../aa/assays.pkl')"
   ]
  },
  {
   "cell_type": "code",
   "execution_count": 2,
   "metadata": {},
   "outputs": [],
   "source": [
    "## HYPERPARAMS\n",
    "num_epochs = 10\n",
    "learning_rate = 0.001"
   ]
  },
  {
   "cell_type": "code",
   "execution_count": 3,
   "metadata": {},
   "outputs": [
    {
     "name": "stdout",
     "output_type": "stream",
     "text": [
      "138303 samples\n",
      "124702 unique patients\n",
      "20 labels\n"
     ]
    }
   ],
   "source": [
    "dataset = Dataset_Assay(data_df_emb, mut_embeddings, ref_embeddings, tumors, assays, device)\n",
    "train_loader, test_loader = getTrainTestLoaders(dataset, batch_size = 500, collate=custom_collate_assay)"
   ]
  },
  {
   "cell_type": "code",
   "execution_count": 4,
   "metadata": {},
   "outputs": [
    {
     "name": "stderr",
     "output_type": "stream",
     "text": [
      "TRAINING:  16%|█▌        | 36/222 [03:47<19:33,  6.31s/it, Epoch=1/5, Loss: 2.1311]\n"
     ]
    },
    {
     "ename": "KeyboardInterrupt",
     "evalue": "",
     "output_type": "error",
     "traceback": [
      "\u001b[0;31m---------------------------------------------------------------------------\u001b[0m",
      "\u001b[0;31mKeyboardInterrupt\u001b[0m                         Traceback (most recent call last)",
      "Cell \u001b[0;32mIn[4], line 21\u001b[0m\n\u001b[1;32m     18\u001b[0m model\u001b[38;5;241m.\u001b[39mto(device)\n\u001b[1;32m     20\u001b[0m num_epochs \u001b[38;5;241m=\u001b[39m \u001b[38;5;241m5\u001b[39m\n\u001b[0;32m---> 21\u001b[0m \u001b[43mtrain_assay\u001b[49m\u001b[43m(\u001b[49m\u001b[43mmodel\u001b[49m\u001b[43m,\u001b[49m\u001b[43mnum_epochs\u001b[49m\u001b[43m,\u001b[49m\u001b[43mtrain_loader\u001b[49m\u001b[43m,\u001b[49m\u001b[43mtest_loader\u001b[49m\u001b[43m)\u001b[49m\n",
      "File \u001b[0;32m~/SomaticMutationLLM/model/models.py:408\u001b[0m, in \u001b[0;36mtrain_assay\u001b[0;34m(model, num_epochs, train_loader, test_loader, criterion, learning_rate)\u001b[0m\n\u001b[1;32m    406\u001b[0m     loss\u001b[38;5;241m.\u001b[39mbackward()\n\u001b[1;32m    407\u001b[0m     optimizer\u001b[38;5;241m.\u001b[39mstep()\n\u001b[0;32m--> 408\u001b[0m     pbar\u001b[38;5;241m.\u001b[39mset_postfix({\u001b[38;5;124m'\u001b[39m\u001b[38;5;124mEpoch\u001b[39m\u001b[38;5;124m'\u001b[39m:\u001b[38;5;124mf\u001b[39m\u001b[38;5;124m'\u001b[39m\u001b[38;5;132;01m{\u001b[39;00mepoch\u001b[38;5;241m+\u001b[39m\u001b[38;5;241m1\u001b[39m\u001b[38;5;132;01m}\u001b[39;00m\u001b[38;5;124m/\u001b[39m\u001b[38;5;132;01m{\u001b[39;00mnum_epochs\u001b[38;5;132;01m}\u001b[39;00m\u001b[38;5;124m, Loss: \u001b[39m\u001b[38;5;132;01m{\u001b[39;00mloss\u001b[38;5;241m.\u001b[39mitem()\u001b[38;5;132;01m:\u001b[39;00m\u001b[38;5;124m.4f\u001b[39m\u001b[38;5;132;01m}\u001b[39;00m\u001b[38;5;124m'\u001b[39m})\n\u001b[1;32m    409\u001b[0m     \u001b[38;5;66;03m# if batch_idx % 20000 == 0:\u001b[39;00m\n\u001b[1;32m    410\u001b[0m     \u001b[38;5;66;03m#     print('')\u001b[39;00m\n\u001b[1;32m    411\u001b[0m \n\u001b[1;32m    412\u001b[0m \u001b[38;5;66;03m# Evaluation\u001b[39;00m\n\u001b[1;32m    413\u001b[0m model\u001b[38;5;241m.\u001b[39meval()\n",
      "\u001b[0;31mKeyboardInterrupt\u001b[0m: "
     ]
    }
   ],
   "source": [
    "## ATTENTION MODEL WITH POSITION EMBEDDING\n",
    "class Config_Att:\n",
    "    n_layer: int = 3\n",
    "    input_dim: int = 640\n",
    "    dropout: float = 0.0\n",
    "    bias: bool = False\n",
    "    n_labels: int\n",
    "    pooling : str = 'mean'\n",
    "    norm_fn: nn.Module = nn.LayerNorm\n",
    "    max_len : int = 1448\n",
    "    position_embedding: bool = False\n",
    "    num_heads: int = 8\n",
    "\n",
    "config_att = Config_Att()\n",
    "config_att.n_labels = nlabels\n",
    "\n",
    "model = Classifier(config_att)\n",
    "model.to(device)\n",
    "\n",
    "num_epochs = 10\n",
    "train_assay(model,num_epochs,train_loader,test_loader)"
   ]
  },
  {
   "cell_type": "code",
   "execution_count": null,
   "metadata": {},
   "outputs": [],
   "source": [
    "# dataset = Dataset_Assay_Survival(data_df_emb, mut_embeddings, ref_embeddings, tumors, assays, device)\n",
    "# train_loader, test_loader = getTrainTestLoaders(dataset, batch_size = 500, collate=custom_collate_assay_survival)"
   ]
  },
  {
   "cell_type": "code",
   "execution_count": null,
   "metadata": {},
   "outputs": [],
   "source": [
    "# ## ATTENTION MODEL WITH POSITION EMBEDDING\n",
    "# class Config_Att:\n",
    "#     n_layer: int = 3\n",
    "#     input_dim: int = 640\n",
    "#     dropout: float = 0.0\n",
    "#     bias: bool = False\n",
    "#     n_labels: int = 1\n",
    "#     pooling : str = 'mean'\n",
    "#     norm_fn: nn.Module = nn.LayerNorm\n",
    "#     max_len : int = 1448\n",
    "#     position_embedding: bool = False\n",
    "\n",
    "# config_att = Config_Att()\n",
    "\n",
    "# model = Classifier(config_att)\n",
    "# model.to(device)\n",
    "\n",
    "# num_epochs = 15\n",
    "# optimizer = optim.Adam(model.parameters(), lr=.00001)\n",
    "# criterion = negative_log_partial_likelihood\n",
    "# train_assay_survival(model,num_epochs,train_loader,test_loader, criterion, optimizer)"
   ]
  },
  {
   "cell_type": "code",
   "execution_count": null,
   "metadata": {},
   "outputs": [],
   "source": []
  }
 ],
 "metadata": {
  "kernelspec": {
   "display_name": "deepV_a100",
   "language": "python",
   "name": "python3"
  },
  "language_info": {
   "codemirror_mode": {
    "name": "ipython",
    "version": 3
   },
   "file_extension": ".py",
   "mimetype": "text/x-python",
   "name": "python",
   "nbconvert_exporter": "python",
   "pygments_lexer": "ipython3",
   "version": "3.10.12"
  }
 },
 "nbformat": 4,
 "nbformat_minor": 2
}
