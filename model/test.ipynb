{
 "cells": [
  {
   "cell_type": "code",
   "execution_count": 1,
   "metadata": {},
   "outputs": [
    {
     "name": "stderr",
     "output_type": "stream",
     "text": [
      "/home/dandreas/.conda/envs/deepV_a100/lib/python3.10/site-packages/pandas/core/arrays/masked.py:60: UserWarning: Pandas requires version '1.3.6' or newer of 'bottleneck' (version '1.3.5' currently installed).\n",
      "  from pandas.core import (\n",
      "/home/dandreas/.conda/envs/deepV_a100/lib/python3.10/site-packages/transformers/utils/generic.py:441: FutureWarning: `torch.utils._pytree._register_pytree_node` is deprecated. Please use `torch.utils._pytree.register_pytree_node` instead.\n",
      "  _torch_pytree._register_pytree_node(\n"
     ]
    },
    {
     "name": "stdout",
     "output_type": "stream",
     "text": [
      "37 \t BINARYdata_CANCER_TYPE_0MinMutations_1696MinCancerType.csv\n",
      "24 \t BINARYdata_CANCER_TYPE_0MinMutations_169MinCancerType.csv\n",
      "1 \t BINARYdata_CANCER_TYPE_3MinMutations_1696MinCancerType.csv\n",
      "32 \t BINARYdata_CANCER_TYPE_3MinMutations_169MinCancerType.csv\n",
      "12 \t BINARYdata_CANCER_TYPE_DETAILED_0MinMutations_1696MinCancerType.csv\n",
      "26 \t BINARYdata_CANCER_TYPE_DETAILED_0MinMutations_169MinCancerType.csv\n",
      "10 \t BINARYdata_CANCER_TYPE_DETAILED_3MinMutations_1696MinCancerType.csv\n",
      "30 \t BINARYdata_CANCER_TYPE_DETAILED_3MinMutations_169MinCancerType.csv\n",
      "23 \t data_CANCER_TYPE_0MinMutations_1696MinCancerType.csv\n",
      "25 \t data_CANCER_TYPE_0MinMutations_169MinCancerType.csv\n",
      "41 \t data_CANCER_TYPE_3MinMutations_1696MinCancerType.csv\n",
      "17 \t data_CANCER_TYPE_3MinMutations_169MinCancerType.csv\n",
      "11 \t data_CANCER_TYPE_DETAILED_0MinMutations_1696MinCancerType.csv\n",
      "28 \t data_CANCER_TYPE_DETAILED_0MinMutations_169MinCancerType.csv\n",
      "4 \t data_CANCER_TYPE_DETAILED_3MinMutations_1696MinCancerType.csv\n",
      "47 \t data_CANCER_TYPE_DETAILED_3MinMutations_169MinCancerType.csv\n",
      "35 \t label_mappings\n",
      "45 \t top100_BINARYdata_CANCER_TYPE_0MinMutations_1604MinCancerType.csv\n",
      "22 \t top100_BINARYdata_CANCER_TYPE_0MinMutations_160MinCancerType.csv\n",
      "33 \t top100_BINARYdata_CANCER_TYPE_3MinMutations_1604MinCancerType.csv\n",
      "0 \t top100_BINARYdata_CANCER_TYPE_3MinMutations_160MinCancerType.csv\n",
      "2 \t top100_BINARYdata_CANCER_TYPE_DETAILED_0MinMutations_1604MinCancerType.csv\n",
      "43 \t top100_BINARYdata_CANCER_TYPE_DETAILED_0MinMutations_160MinCancerType.csv\n",
      "6 \t top100_BINARYdata_CANCER_TYPE_DETAILED_3MinMutations_1604MinCancerType.csv\n",
      "21 \t top100_BINARYdata_CANCER_TYPE_DETAILED_3MinMutations_160MinCancerType.csv\n",
      "38 \t top100_data_CANCER_TYPE_0MinMutations_1604MinCancerType.csv\n",
      "40 \t top100_data_CANCER_TYPE_0MinMutations_160MinCancerType.csv\n",
      "36 \t top100_data_CANCER_TYPE_3MinMutations_1604MinCancerType.csv\n",
      "31 \t top100_data_CANCER_TYPE_3MinMutations_160MinCancerType.csv\n",
      "3 \t top100_data_CANCER_TYPE_DETAILED_0MinMutations_1604MinCancerType.csv\n",
      "20 \t top100_data_CANCER_TYPE_DETAILED_0MinMutations_160MinCancerType.csv\n",
      "44 \t top100_data_CANCER_TYPE_DETAILED_3MinMutations_1604MinCancerType.csv\n",
      "16 \t top100_data_CANCER_TYPE_DETAILED_3MinMutations_160MinCancerType.csv\n",
      "34 \t top10_BINARYdata_CANCER_TYPE_0MinMutations_1213MinCancerType.csv\n",
      "46 \t top10_BINARYdata_CANCER_TYPE_0MinMutations_121MinCancerType.csv\n",
      "15 \t top10_BINARYdata_CANCER_TYPE_3MinMutations_1213MinCancerType.csv\n",
      "29 \t top10_BINARYdata_CANCER_TYPE_3MinMutations_121MinCancerType.csv\n",
      "48 \t top10_BINARYdata_CANCER_TYPE_DETAILED_0MinMutations_1213MinCancerType.csv\n",
      "42 \t top10_BINARYdata_CANCER_TYPE_DETAILED_0MinMutations_121MinCancerType.csv\n",
      "19 \t top10_BINARYdata_CANCER_TYPE_DETAILED_3MinMutations_1213MinCancerType.csv\n",
      "8 \t top10_BINARYdata_CANCER_TYPE_DETAILED_3MinMutations_121MinCancerType.csv\n",
      "39 \t top10_data_CANCER_TYPE_0MinMutations_1696MinCancerType.csv\n",
      "9 \t top10_data_CANCER_TYPE_0MinMutations_169MinCancerType.csv\n",
      "14 \t top10_data_CANCER_TYPE_3MinMutations_1696MinCancerType.csv\n",
      "7 \t top10_data_CANCER_TYPE_3MinMutations_169MinCancerType.csv\n",
      "5 \t top10_data_CANCER_TYPE_DETAILED_0MinMutations_1696MinCancerType.csv\n",
      "27 \t top10_data_CANCER_TYPE_DETAILED_0MinMutations_169MinCancerType.csv\n",
      "18 \t top10_data_CANCER_TYPE_DETAILED_3MinMutations_1696MinCancerType.csv\n",
      "13 \t top10_data_CANCER_TYPE_DETAILED_3MinMutations_169MinCancerType.csv\n",
      "data_CANCER_TYPE_0MinMutations_1696MinCancerType.csv\n",
      "n labels: 20\n",
      "loading data from ../aa/tumors.pkl\n",
      "loading data from ../aa/assays.pkl\n"
     ]
    }
   ],
   "source": [
    "from custom_dataset import Dataset_Assay, Dataset_Assay_Survival, custom_collate_assay, custom_collate_assay_survival\n",
    "from models import *\n",
    "from saveAndLoad import *\n",
    "\n",
    "# LOAD DATA\n",
    "data_dir = '../labeled_data/'\n",
    "labeled_data = os.listdir(data_dir)\n",
    "for ni,i in sorted(zip(labeled_data,range(len(labeled_data)))):print(i,'\\t',ni)\n",
    "data_emb = labeled_data[23]\n",
    "print(data_emb)\n",
    "data_df_emb = pd.read_csv(data_dir+data_emb)\n",
    "\n",
    "nlabels = len(data_df_emb['int_label'].unique())\n",
    "print('n labels:',nlabels)\n",
    "device = 'cuda:0'\n",
    "\n",
    "mut_embeddings = np.load('../aa/canonical_mut_average_embeddings_esm2.npy')\n",
    "ref_embeddings = np.load('../aa/canonical_ref_embeddings_esm2.npy')\n",
    "tumors = pickleLoad('../aa/tumors.pkl')\n",
    "assays = pickleLoad('../aa/assays.pkl')"
   ]
  },
  {
   "cell_type": "code",
   "execution_count": 6,
   "metadata": {},
   "outputs": [],
   "source": [
    "\n",
    "class Config_Att:\n",
    "    n_layer: int = 3\n",
    "    input_dim: int = 24\n",
    "    dropout: float = 0.0\n",
    "    bias: bool = False\n",
    "    n_labels: int = 17\n",
    "    pooling : str = 'mean'\n",
    "    norm_fn: nn.Module = nn.LayerNorm\n",
    "    max_len : int = 1448\n",
    "    num_heads: int = 8\n",
    "    position_embedding: bool = False\n",
    "\n",
    "config = Config_Att()"
   ]
  },
  {
   "cell_type": "code",
   "execution_count": 7,
   "metadata": {},
   "outputs": [
    {
     "name": "stdout",
     "output_type": "stream",
     "text": [
      "tensor([[[0.7493, 0.7543, 0.9385, 0.0438, 0.1945, 0.1059, 0.6767, 0.9847,\n",
      "          0.6411, 0.9056, 0.9485, 0.7209, 0.6340, 0.6995, 0.7742, 0.5481,\n",
      "          0.8686, 0.8994, 0.0191, 0.2085, 0.2336, 0.1518, 0.4591, 0.6623],\n",
      "         [0.6754, 0.1534, 0.3529, 0.2411, 0.7717, 0.1295, 0.7506, 0.8238,\n",
      "          0.4338, 0.0448, 0.3954, 0.2458, 0.5832, 0.0961, 0.4836, 0.2114,\n",
      "          0.4941, 0.7397, 0.1926, 0.7188, 0.1100, 0.7225, 0.4451, 0.1314],\n",
      "         [0.1127, 0.2534, 0.7822, 0.0797, 0.2198, 0.5985, 0.8100, 0.5226,\n",
      "          0.8367, 0.3718, 0.0848, 0.8040, 0.1499, 0.7779, 0.5950, 0.9258,\n",
      "          0.7869, 0.1453, 0.8146, 0.9253, 0.4937, 0.0334, 0.0407, 0.2664]],\n",
      "\n",
      "        [[0.2694, 0.9956, 0.8311, 0.1299, 0.7045, 0.8071, 0.7862, 0.1433,\n",
      "          0.1858, 0.1278, 0.2128, 0.2406, 0.0393, 0.1712, 0.0081, 0.2512,\n",
      "          0.9730, 0.9814, 0.2019, 0.7042, 0.3118, 0.9808, 0.1574, 0.8423],\n",
      "         [0.2291, 0.3339, 0.0252, 0.7344, 0.6192, 0.8402, 0.7559, 0.8946,\n",
      "          0.9787, 0.5569, 0.8546, 0.3635, 0.6113, 0.3674, 0.5550, 0.5899,\n",
      "          0.4076, 0.2248, 0.3793, 0.3427, 0.6354, 0.9191, 0.0249, 0.5666],\n",
      "         [0.0000, 0.0000, 0.0000, 0.0000, 0.0000, 0.0000, 0.0000, 0.0000,\n",
      "          0.0000, 0.0000, 0.0000, 0.0000, 0.0000, 0.0000, 0.0000, 0.0000,\n",
      "          0.0000, 0.0000, 0.0000, 0.0000, 0.0000, 0.0000, 0.0000, 0.0000]]])\n",
      "tensor([[[0.2694, 0.9956, 0.8311, 0.1299, 0.7045, 0.8071, 0.7862, 0.1433,\n",
      "          0.1858, 0.1278, 0.2128, 0.2406, 0.0393, 0.1712, 0.0081, 0.2512,\n",
      "          0.9730, 0.9814, 0.2019, 0.7042, 0.3118, 0.9808, 0.1574, 0.8423],\n",
      "         [0.2291, 0.3339, 0.0252, 0.7344, 0.6192, 0.8402, 0.7559, 0.8946,\n",
      "          0.9787, 0.5569, 0.8546, 0.3635, 0.6113, 0.3674, 0.5550, 0.5899,\n",
      "          0.4076, 0.2248, 0.3793, 0.3427, 0.6354, 0.9191, 0.0249, 0.5666]]])\n"
     ]
    }
   ],
   "source": [
    "m = Classifier(config)\n",
    "\n",
    "x = torch.rand(2,3,24)\n",
    "z = x.clone()\n",
    "z = z[1:,:2,:]\n",
    "# x[1,2,:] = -np.inf\n",
    "x[1,2,:] = 0\n",
    "print(x)\n",
    "print(z)"
   ]
  },
  {
   "cell_type": "code",
   "execution_count": 8,
   "metadata": {},
   "outputs": [
    {
     "data": {
      "text/plain": [
       "tensor([[-0.0898, -0.0906,  0.0296,  0.0329,  0.0382,  0.0092,  0.0454,  0.0352,\n",
       "          0.0267,  0.0282, -0.0405, -0.0119, -0.0020, -0.0049, -0.0198,  0.0422,\n",
       "         -0.0069],\n",
       "        [-0.0798, -0.1050,  0.0501,  0.0055, -0.0166,  0.0450,  0.0053,  0.0319,\n",
       "          0.0203,  0.0310, -0.0483, -0.0395, -0.0432, -0.0269, -0.0195,  0.0432,\n",
       "         -0.0067]], grad_fn=<AddmmBackward0>)"
      ]
     },
     "execution_count": 8,
     "metadata": {},
     "output_type": "execute_result"
    }
   ],
   "source": [
    "m(x)"
   ]
  },
  {
   "cell_type": "code",
   "execution_count": 9,
   "metadata": {},
   "outputs": [
    {
     "name": "stdout",
     "output_type": "stream",
     "text": [
      "tensor([[[0.2694, 0.9956, 0.8311, 0.1299, 0.7045, 0.8071, 0.7862, 0.1433,\n",
      "          0.1858, 0.1278, 0.2128, 0.2406, 0.0393, 0.1712, 0.0081, 0.2512,\n",
      "          0.9730, 0.9814, 0.2019, 0.7042, 0.3118, 0.9808, 0.1574, 0.8423],\n",
      "         [0.2291, 0.3339, 0.0252, 0.7344, 0.6192, 0.8402, 0.7559, 0.8946,\n",
      "          0.9787, 0.5569, 0.8546, 0.3635, 0.6113, 0.3674, 0.5550, 0.5899,\n",
      "          0.4076, 0.2248, 0.3793, 0.3427, 0.6354, 0.9191, 0.0249, 0.5666]]])\n"
     ]
    }
   ],
   "source": [
    "print(z)"
   ]
  },
  {
   "cell_type": "code",
   "execution_count": 10,
   "metadata": {},
   "outputs": [
    {
     "data": {
      "text/plain": [
       "tensor([[-0.0798, -0.1050,  0.0501,  0.0055, -0.0166,  0.0450,  0.0053,  0.0319,\n",
       "          0.0203,  0.0310, -0.0483, -0.0395, -0.0432, -0.0269, -0.0195,  0.0432,\n",
       "         -0.0067]], grad_fn=<AddmmBackward0>)"
      ]
     },
     "execution_count": 10,
     "metadata": {},
     "output_type": "execute_result"
    }
   ],
   "source": [
    "m(z)"
   ]
  },
  {
   "cell_type": "code",
   "execution_count": null,
   "metadata": {},
   "outputs": [],
   "source": []
  }
 ],
 "metadata": {
  "kernelspec": {
   "display_name": "deepV_a100",
   "language": "python",
   "name": "python3"
  },
  "language_info": {
   "codemirror_mode": {
    "name": "ipython",
    "version": 3
   },
   "file_extension": ".py",
   "mimetype": "text/x-python",
   "name": "python",
   "nbconvert_exporter": "python",
   "pygments_lexer": "ipython3",
   "version": "3.10.12"
  }
 },
 "nbformat": 4,
 "nbformat_minor": 2
}
