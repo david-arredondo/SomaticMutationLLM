{
 "cells": [
  {
   "cell_type": "code",
   "execution_count": 5,
   "metadata": {},
   "outputs": [],
   "source": [
    "import numpy as np\n",
    "import pandas as pd\n",
    "import torch\n",
    "import torch.nn as nn\n",
    "import pandas as pd\n",
    "from transformers import AdamW, get_scheduler\n",
    "from datasets import load_metric\n",
    "\n",
    "from sklearn.preprocessing import LabelEncoder\n",
    "from torch.nn.utils.rnn import pad_sequence\n",
    "from saveAndLoad import *\n",
    "\n",
    "from torch.utils.data import DataLoader, Subset, Dataset\n",
    "from sklearn.model_selection import train_test_split\n",
    "\n",
    "class RMSNorm(nn.Module):\n",
    "    def __init__(self, dim, eps=1e-8, bias = None):\n",
    "        super(RMSNorm, self).__init__()\n",
    "        self.eps = eps\n",
    "        self.scale = nn.Parameter(torch.ones(dim))\n",
    "\n",
    "    def forward(self, x):\n",
    "        norm = x.norm(keepdim=True, dim=-1) * (x.size(-1) ** -0.5)\n",
    "        return self.scale * (x / (norm + self.eps))\n",
    "    \n",
    "class MLP(nn.Module):\n",
    "\n",
    "    def __init__(self, config, use_dropout=True):\n",
    "        super().__init__()\n",
    "        self.c_fc    = nn.Linear(config.input_dim, 4 * config.input_dim, bias=config.bias)\n",
    "        self.gelu    = nn.GELU()\n",
    "        self.c_proj  = nn.Linear(4 * config.input_dim, config.input_dim, bias=config.bias)\n",
    "        self.dropout = nn.Dropout(config.dropout)\n",
    "        self.use_dropout = use_dropout\n",
    "\n",
    "    def forward(self, x):\n",
    "        x = self.c_fc(x)\n",
    "        x = self.gelu(x)\n",
    "        x = self.c_proj(x)\n",
    "        if self.use_dropout: x = self.dropout(x)\n",
    "        return x\n",
    "    \n",
    "class Attention(nn.Module):\n",
    "    def __init__(self, config):\n",
    "        super().__init__()\n",
    "        self.input_dim = config.input_dim\n",
    "        self.query = nn.Linear(config.input_dim, config.input_dim)\n",
    "        self.key = nn.Linear(config.input_dim, config.input_dim)\n",
    "        self.value = nn.Linear(config.input_dim, config.input_dim)\n",
    "        self.softmax = nn.Softmax(dim=2)\n",
    "        self.dense_layer = nn.Linear(config.input_dim, config.input_dim)\n",
    "        self.dropout = nn.Dropout(config.dropout)\n",
    "        self.config = config\n",
    "\n",
    "    def forward(self, x):\n",
    "        queries = self.query(x)\n",
    "        keys = self.key(x)\n",
    "        values = self.value(x)\n",
    "        scores = torch.bmm(queries, keys.transpose(-2, -1)) / (self.input_dim ** 0.5)\n",
    "        attention = self.softmax(scores)\n",
    "        y = torch.bmm(attention, values)\n",
    "        return self.dense_layer(y)\n",
    "\n",
    "class Block(nn.Module):\n",
    "    def __init__(self, config, norm_fn = nn.LayerNorm):\n",
    "        super().__init__()\n",
    "        self.norm1 = config.norm_fn(config.input_dim)  # RMS normalization\n",
    "        self.norm2 = config.norm_fn(config.input_dim)\n",
    "        self.attn = Attention(config)\n",
    "        self.mlp = MLP(config)\n",
    "\n",
    "    def forward(self, x):\n",
    "        x = x + self.attn(self.norm1(x))\n",
    "        x = x + self.mlp(self.norm2(x))\n",
    "        return x\n",
    "\n",
    "class Classifier(nn.Module):\n",
    "    def __init__(self, config):\n",
    "        super(Classifier, self).__init__()\n",
    "\n",
    "        self.blocks = nn.ModuleList([Block(config, norm_fn = config.norm_fn) for _ in range(config.n_layer)])\n",
    "\n",
    "        self.input_dim = config.input_dim \n",
    "        self.pooling = config.pooling\n",
    "        assert self.pooling in ['cls', 'mean', 'max'], 'pooling should be either cls, mean, or max'\n",
    "        self.cls_token = nn.Parameter(torch.randn(1, 1, config.input_dim))  # Learnable CLS token\n",
    "\n",
    "        # self.emb_transform = nn.Linear(config.input_dim, config.input_dim)  \n",
    "        # self.emb_transform = MLP(config,use_dropout=False)  \n",
    "\n",
    "        self.num_labels = config.n_labels # number of labels for classifier\n",
    "        self.classifier = nn.Linear(config.input_dim, config.n_labels) # FC Layer\n",
    "        self.loss_func = nn.CrossEntropyLoss() # Change this if it becomes more than binary classification\n",
    "        \n",
    "        self.apply(self._init_weights)\n",
    "\n",
    "    def _init_weights(self, module):\n",
    "        if isinstance(module, nn.Linear):\n",
    "            torch.nn.init.normal_(module.weight, mean=0.0, std=0.02)\n",
    "            if module.bias is not None:\n",
    "                torch.nn.init.zeros_(module.bias)\n",
    "\n",
    "    def forward(self, x):\n",
    "        # is_pad = x == float('-inf')\n",
    "        # pad_rows = is_pad.all(dim=2)\n",
    "        # x = self.emb_transform(x)\n",
    "\n",
    "        if self.pooling == 'cls':\n",
    "            batch_size = x.size(0)\n",
    "            cls_tokens = self.cls_token.expand(batch_size, -1, -1)  # Expand CLS token for each sequence in the batch\n",
    "            x = torch.cat((cls_tokens, x), dim=1)\n",
    "        \n",
    "        for block in self.blocks:\n",
    "            x = block(x)\n",
    "\n",
    "        if self.pooling == 'cls':\n",
    "            classifier_input = x[:, 0, :].view(-1, self.input_dim)\n",
    "        elif self.pooling == 'mean':\n",
    "            classifier_input = x.mean(dim=1)\n",
    "        elif self.pooling == 'max':\n",
    "            classifier_input, _ = x.max(dim=1)\n",
    "\n",
    "        logits = self.classifier(classifier_input)\n",
    "        return logits"
   ]
  },
  {
   "cell_type": "code",
   "execution_count": 10,
   "metadata": {},
   "outputs": [
    {
     "name": "stdout",
     "output_type": "stream",
     "text": [
      "0 BINARYdata_CANCER_TYPE_3MinMutations_1696MinCancerType.csv\n",
      "1 data_CANCER_TYPE_DETAILED_3MinMutations_1696MinCancerType.csv\n",
      "2 BINARYdata_CANCER_TYPE_DETAILED_3MinMutations_1696MinCancerType.csv\n",
      "3 data_CANCER_TYPE_DETAILED_0MinMutations_1696MinCancerType.csv\n",
      "4 BINARYdata_CANCER_TYPE_DETAILED_0MinMutations_1696MinCancerType.csv\n",
      "5 data_CANCER_TYPE_3MinMutations_169MinCancerType.csv\n",
      "6 data_CANCER_TYPE_0MinMutations_1696MinCancerType.csv\n",
      "7 BINARYdata_CANCER_TYPE_0MinMutations_169MinCancerType.csv\n",
      "8 data_CANCER_TYPE_0MinMutations_169MinCancerType.csv\n",
      "9 BINARYdata_CANCER_TYPE_DETAILED_0MinMutations_169MinCancerType.csv\n",
      "10 data_CANCER_TYPE_DETAILED_0MinMutations_169MinCancerType.csv\n",
      "11 BINARYdata_CANCER_TYPE_DETAILED_3MinMutations_169MinCancerType.csv\n",
      "12 BINARYdata_CANCER_TYPE_3MinMutations_169MinCancerType.csv\n",
      "13 BINARYdata_CANCER_TYPE_0MinMutations_1696MinCancerType.csv\n",
      "14 data_CANCER_TYPE_3MinMutations_1696MinCancerType.csv\n",
      "15 data_CANCER_TYPE_DETAILED_3MinMutations_169MinCancerType.csv\n",
      "\n",
      " BINARYdata_CANCER_TYPE_3MinMutations_1696MinCancerType.csv\n",
      "Index(['barcode', 'idxs', 'str_label', 'int_label'], dtype='object')\n"
     ]
    }
   ],
   "source": [
    "from custom_dataset import custom_collate, Dataset_MutationList\n",
    "\n",
    "# LOAD DATA\n",
    "canonical_mut_embeddings_esm2 = np.load('../aa/canonical_mut_embeddings_esm2.npy')\n",
    "data_dir = '../labeled_data/'\n",
    "labeled_data = os.listdir(data_dir)\n",
    "for ni,i in enumerate(labeled_data):print(ni,i)\n",
    "data = labeled_data[0]\n",
    "print('\\n',data)\n",
    "data_df = pd.read_csv(data_dir+data)\n",
    "data = data_df['idxs'].values\n",
    "labels = torch.tensor(data_df['int_label'].values,dtype=torch.long)\n",
    "nlabels = len(data_df['int_label'].unique())\n",
    "device = 'cuda:1'\n",
    "\n",
    "# Create dataset\n",
    "dataset = Dataset_MutationList(data, labels, canonical_mut_embeddings_esm2,device)\n",
    "\n",
    "# Create DataLoader\n",
    "# dataloader = DataLoader(dataset, batch_size=100, shuffle=False, collate_fn=custom_collate)\n",
    "\n",
    "## TEST/TRAIN SPLIT\n",
    "test_size = .2\n",
    "random_state = 42\n",
    "batch_size = 1\n",
    "indices = list(range(len(dataset)))\n",
    "\n",
    "train_indices, test_indices = train_test_split(\n",
    "    indices, \n",
    "    test_size=test_size, \n",
    "    random_state=random_state\n",
    ")\n",
    "\n",
    "train_dataset = Subset(dataset, train_indices)\n",
    "test_dataset = Subset(dataset, test_indices)\n",
    "\n",
    "train_loader = DataLoader(train_dataset, batch_size=batch_size, shuffle=True, collate_fn=custom_collate)\n",
    "test_loader = DataLoader(test_dataset, batch_size=batch_size, shuffle=False, collate_fn=custom_collate)"
   ]
  },
  {
   "cell_type": "code",
   "execution_count": 3,
   "metadata": {},
   "outputs": [
    {
     "name": "stdout",
     "output_type": "stream",
     "text": [
      "17\n"
     ]
    },
    {
     "data": {
      "text/plain": [
       "0.22298445159933342"
      ]
     },
     "execution_count": 3,
     "metadata": {},
     "output_type": "execute_result"
    }
   ],
   "source": [
    "# majority classifier\n",
    "print(len(data_df['int_label'].unique()))\n",
    "sorted(data_df['int_label'].value_counts(),reverse=True)[0]/len(data_df['int_label'])"
   ]
  },
  {
   "cell_type": "code",
   "execution_count": 6,
   "metadata": {},
   "outputs": [
    {
     "name": "stdout",
     "output_type": "stream",
     "text": [
      "n labels: 17\n"
     ]
    },
    {
     "name": "stderr",
     "output_type": "stream",
     "text": [
      "TRAINING:   0%|          | 20/49445 [00:00<09:59, 82.38it/s, Epoch=1/3, Loss: 1.7225]  "
     ]
    },
    {
     "name": "stdout",
     "output_type": "stream",
     "text": [
      "\n"
     ]
    },
    {
     "name": "stderr",
     "output_type": "stream",
     "text": [
      "TRAINING:  41%|████      | 20029/49445 [01:32<02:54, 168.98it/s, Epoch=1/3, Loss: 1.3050]  "
     ]
    },
    {
     "name": "stdout",
     "output_type": "stream",
     "text": [
      "\n"
     ]
    },
    {
     "name": "stderr",
     "output_type": "stream",
     "text": [
      "TRAINING:  81%|████████  | 40020/49445 [04:06<01:16, 122.43it/s, Epoch=1/3, Loss: 1.0588]  "
     ]
    },
    {
     "name": "stdout",
     "output_type": "stream",
     "text": [
      "\n"
     ]
    },
    {
     "name": "stderr",
     "output_type": "stream",
     "text": [
      "TRAINING: 100%|██████████| 49445/49445 [05:22<00:00, 153.24it/s, Epoch=1/3, Loss: 7.1183]   \n",
      "TESTING: 100%|██████████| 12362/12362 [00:10<00:00, 1144.27it/s]\n"
     ]
    },
    {
     "name": "stdout",
     "output_type": "stream",
     "text": [
      "Test Accuracy: 22.30%, (2757 of 12362)\n"
     ]
    },
    {
     "name": "stderr",
     "output_type": "stream",
     "text": [
      "TRAINING:   0%|          | 15/49445 [00:00<05:41, 144.66it/s, Epoch=2/3, Loss: 1.8787]"
     ]
    },
    {
     "name": "stdout",
     "output_type": "stream",
     "text": [
      "\n"
     ]
    },
    {
     "name": "stderr",
     "output_type": "stream",
     "text": [
      "TRAINING:  41%|████      | 20036/49445 [02:23<02:05, 235.26it/s, Epoch=2/3, Loss: 1.5146] "
     ]
    },
    {
     "name": "stdout",
     "output_type": "stream",
     "text": [
      "\n"
     ]
    },
    {
     "name": "stderr",
     "output_type": "stream",
     "text": [
      "TRAINING:  81%|████████  | 40015/49445 [04:58<01:22, 114.69it/s, Epoch=2/3, Loss: 3.8572] "
     ]
    },
    {
     "name": "stdout",
     "output_type": "stream",
     "text": [
      "\n"
     ]
    },
    {
     "name": "stderr",
     "output_type": "stream",
     "text": [
      "TRAINING: 100%|██████████| 49445/49445 [06:01<00:00, 136.72it/s, Epoch=2/3, Loss: 2.7306] \n",
      "TESTING: 100%|██████████| 12362/12362 [00:10<00:00, 1134.48it/s]\n"
     ]
    },
    {
     "name": "stdout",
     "output_type": "stream",
     "text": [
      "Test Accuracy: 38.05%, (4704 of 12362)\n"
     ]
    },
    {
     "name": "stderr",
     "output_type": "stream",
     "text": [
      "TRAINING:   0%|          | 17/49445 [00:00<05:04, 162.46it/s, Epoch=3/3, Loss: 3.9766]"
     ]
    },
    {
     "name": "stdout",
     "output_type": "stream",
     "text": [
      "\n"
     ]
    },
    {
     "name": "stderr",
     "output_type": "stream",
     "text": [
      "TRAINING:  40%|████      | 20017/49445 [02:14<04:12, 116.61it/s, Epoch=3/3, Loss: 1.6758]   "
     ]
    },
    {
     "name": "stdout",
     "output_type": "stream",
     "text": [
      "\n"
     ]
    },
    {
     "name": "stderr",
     "output_type": "stream",
     "text": [
      "TRAINING:  81%|████████  | 40023/49445 [04:22<00:43, 218.64it/s, Epoch=3/3, Loss: 2.1613]  "
     ]
    },
    {
     "name": "stdout",
     "output_type": "stream",
     "text": [
      "\n"
     ]
    },
    {
     "name": "stderr",
     "output_type": "stream",
     "text": [
      "TRAINING: 100%|██████████| 49445/49445 [05:10<00:00, 159.12it/s, Epoch=3/3, Loss: 4.4619] \n",
      "TESTING: 100%|██████████| 12362/12362 [00:10<00:00, 1138.38it/s]"
     ]
    },
    {
     "name": "stdout",
     "output_type": "stream",
     "text": [
      "Test Accuracy: 40.17%, (4966 of 12362)\n"
     ]
    },
    {
     "name": "stderr",
     "output_type": "stream",
     "text": [
      "\n"
     ]
    }
   ],
   "source": [
    "import torch.optim as optim\n",
    "from tqdm import tqdm\n",
    "\n",
    "class Config:\n",
    "    n_layer: int = 3\n",
    "    input_dim: int = 640\n",
    "    dropout: float = 0.0\n",
    "    bias: bool = False\n",
    "    n_labels: int = 17\n",
    "    pooling : str = 'mean'\n",
    "    norm_fn: nn.Module = nn.LayerNorm\n",
    "\n",
    "print('n labels:',nlabels)\n",
    "config = Config()\n",
    "config.n_labels = nlabels\n",
    "\n",
    "model = Classifier(config)\n",
    "model.to(device)\n",
    "\n",
    "num_epochs = 3\n",
    "learning_rate = 0.001\n",
    "\n",
    "# Loss function and optimizer\n",
    "criterion = nn.CrossEntropyLoss()\n",
    "optimizer = optim.Adam(model.parameters(), lr=learning_rate)\n",
    "\n",
    "# Training loop\n",
    "for epoch in range(num_epochs):\n",
    "    model.train()\n",
    "    with tqdm(enumerate(train_loader), total=len(train_loader),desc='TRAINING') as pbar:\n",
    "        for batch_idx, (data, target) in pbar:\n",
    "            optimizer.zero_grad()\n",
    "            output = model(data)\n",
    "            # assert False\n",
    "            loss = criterion(output, target)\n",
    "            loss.backward()\n",
    "            optimizer.step()\n",
    "            pbar.set_postfix({'Epoch':f'{epoch+1}/{num_epochs}, Loss: {loss.item():.4f}'})\n",
    "            if batch_idx % 20000 == 0:\n",
    "                print('')\n",
    "\n",
    "        # Evaluation\n",
    "        model.eval()\n",
    "        correct = 0\n",
    "        total = 0\n",
    "\n",
    "        with torch.no_grad():\n",
    "            for data, target in tqdm(test_loader,desc='TESTING'):\n",
    "                output = model(data)\n",
    "                _, predicted = torch.max(output.data, 1)\n",
    "                total += target.size(0)\n",
    "                correct += (predicted == target).sum().item()\n",
    "\n",
    "        accuracy = 100 * correct / total\n",
    "        print(f'Test Accuracy: {accuracy:.2f}%, ({correct} of {total})')"
   ]
  },
  {
   "cell_type": "code",
   "execution_count": null,
   "metadata": {},
   "outputs": [],
   "source": []
  }
 ],
 "metadata": {
  "kernelspec": {
   "display_name": "deepV_a100",
   "language": "python",
   "name": "python3"
  },
  "language_info": {
   "codemirror_mode": {
    "name": "ipython",
    "version": 3
   },
   "file_extension": ".py",
   "mimetype": "text/x-python",
   "name": "python",
   "nbconvert_exporter": "python",
   "pygments_lexer": "ipython3",
   "version": "3.10.12"
  }
 },
 "nbformat": 4,
 "nbformat_minor": 2
}
