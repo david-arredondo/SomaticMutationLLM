{
 "cells": [
  {
   "cell_type": "code",
   "execution_count": 1,
   "metadata": {},
   "outputs": [
    {
     "name": "stdout",
     "output_type": "stream",
     "text": [
      "26 \t BINARYdata_CANCER_TYPE_0MinMutations_1696MinCancerType.csv\n",
      "16 \t BINARYdata_CANCER_TYPE_0MinMutations_169MinCancerType.csv\n",
      "0 \t BINARYdata_CANCER_TYPE_3MinMutations_1696MinCancerType.csv\n",
      "23 \t BINARYdata_CANCER_TYPE_3MinMutations_169MinCancerType.csv\n",
      "8 \t BINARYdata_CANCER_TYPE_DETAILED_0MinMutations_1696MinCancerType.csv\n",
      "18 \t BINARYdata_CANCER_TYPE_DETAILED_0MinMutations_169MinCancerType.csv\n",
      "6 \t BINARYdata_CANCER_TYPE_DETAILED_3MinMutations_1696MinCancerType.csv\n",
      "22 \t BINARYdata_CANCER_TYPE_DETAILED_3MinMutations_169MinCancerType.csv\n",
      "28 \t canonical_ref_barcode_refIdxs_map.pkl\n",
      "15 \t data_CANCER_TYPE_0MinMutations_1696MinCancerType.csv\n",
      "17 \t data_CANCER_TYPE_0MinMutations_169MinCancerType.csv\n",
      "29 \t data_CANCER_TYPE_3MinMutations_1696MinCancerType.csv\n",
      "12 \t data_CANCER_TYPE_3MinMutations_169MinCancerType.csv\n",
      "7 \t data_CANCER_TYPE_DETAILED_0MinMutations_1696MinCancerType.csv\n",
      "20 \t data_CANCER_TYPE_DETAILED_0MinMutations_169MinCancerType.csv\n",
      "1 \t data_CANCER_TYPE_DETAILED_3MinMutations_1696MinCancerType.csv\n",
      "32 \t data_CANCER_TYPE_DETAILED_3MinMutations_169MinCancerType.csv\n",
      "25 \t label_mappings\n",
      "24 \t top10_BINARYdata_CANCER_TYPE_0MinMutations_1213MinCancerType.csv\n",
      "31 \t top10_BINARYdata_CANCER_TYPE_0MinMutations_121MinCancerType.csv\n",
      "11 \t top10_BINARYdata_CANCER_TYPE_3MinMutations_1213MinCancerType.csv\n",
      "21 \t top10_BINARYdata_CANCER_TYPE_3MinMutations_121MinCancerType.csv\n",
      "33 \t top10_BINARYdata_CANCER_TYPE_DETAILED_0MinMutations_1213MinCancerType.csv\n",
      "30 \t top10_BINARYdata_CANCER_TYPE_DETAILED_0MinMutations_121MinCancerType.csv\n",
      "14 \t top10_BINARYdata_CANCER_TYPE_DETAILED_3MinMutations_1213MinCancerType.csv\n",
      "4 \t top10_BINARYdata_CANCER_TYPE_DETAILED_3MinMutations_121MinCancerType.csv\n",
      "27 \t top10_data_CANCER_TYPE_0MinMutations_1696MinCancerType.csv\n",
      "5 \t top10_data_CANCER_TYPE_0MinMutations_169MinCancerType.csv\n",
      "10 \t top10_data_CANCER_TYPE_3MinMutations_1696MinCancerType.csv\n",
      "3 \t top10_data_CANCER_TYPE_3MinMutations_169MinCancerType.csv\n",
      "2 \t top10_data_CANCER_TYPE_DETAILED_0MinMutations_1696MinCancerType.csv\n",
      "19 \t top10_data_CANCER_TYPE_DETAILED_0MinMutations_169MinCancerType.csv\n",
      "13 \t top10_data_CANCER_TYPE_DETAILED_3MinMutations_1696MinCancerType.csv\n",
      "9 \t top10_data_CANCER_TYPE_DETAILED_3MinMutations_169MinCancerType.csv\n",
      "\n",
      " data_CANCER_TYPE_3MinMutations_1696MinCancerType.csv\n",
      "loading data from ../labeled_data//label_mappings/label_mapping_data_CANCER_TYPE_3MinMutations_1696MinCancerType.pkl\n",
      "\n",
      " BINARYdata_CANCER_TYPE_3MinMutations_1696MinCancerType.csv\n",
      "loading data from ../labeled_data//label_mappings/label_mapping_BINARYdata_CANCER_TYPE_3MinMutations_1696MinCancerType.pkl\n"
     ]
    }
   ],
   "source": [
    "from custom_dataset import custom_collate, Dataset_Fusion_MutationList_Binary\n",
    "from fusion_model import *\n",
    "\n",
    "# LOAD DATA\n",
    "# canonical_mut_embeddings_esm2 = np.load('../aa/canonical_mut_embeddings_esm2.npy')\n",
    "canonical_ave_embeddings_esm2 = np.load('../aa/canonical_mut_average_embeddings_esm2.npy')\n",
    "data_dir = '../labeled_data/'\n",
    "labeled_data = os.listdir(data_dir)\n",
    "for ni,i in sorted(zip(labeled_data,range(len(labeled_data)))):print(i,'\\t',ni)\n",
    "\n",
    "data_emb_filename = labeled_data[29]\n",
    "print('\\n',data_emb_filename)\n",
    "data_emb = pd.read_csv(data_dir+data_emb_filename)\n",
    "emb_label_map = pickleLoad(data_dir+'/label_mappings/'+'label_mapping_'+data_emb_filename.strip('.csv')+ '.pkl')\n",
    "\n",
    "data_bin_filename = labeled_data[0]\n",
    "print('\\n',data_bin_filename)\n",
    "data_bin = pd.read_csv(data_dir+data_bin_filename)\n",
    "bin_label_map = pickleLoad(data_dir+'/label_mappings/'+'label_mapping_'+data_bin_filename.strip('.csv')+ '.pkl')\n",
    "\n",
    "labels = torch.tensor(data_emb['int_label'].values,dtype=torch.long)\n",
    "nlabels = len(data_emb['int_label'].unique())\n",
    "device = 'cuda:1'\n",
    "\n",
    "# Create dataset\n",
    "# dataset = Dataset_Fusion_MutationList_Binary(data_bin, data_emb, bin_label_map, emb_label_map, canonical_mut_embeddings_esm2,device)\n",
    "dataset = Dataset_Fusion_MutationList_Binary(data_bin, data_emb, bin_label_map, emb_label_map, canonical_ave_embeddings_esm2,device)\n",
    "\n",
    "# Create DataLoader\n",
    "# dataloader = DataLoader(dataset, batch_size=100, shuffle=False, collate_fn=custom_collate)\n",
    "\n",
    "## TEST/TRAIN SPLIT\n",
    "test_size = .2\n",
    "random_state = 42\n",
    "batch_size = 1\n",
    "indices = list(range(len(dataset)))\n",
    "\n",
    "train_indices, test_indices = train_test_split(\n",
    "    indices, \n",
    "    test_size=test_size, \n",
    "    random_state=random_state\n",
    ")\n",
    "\n",
    "train_dataset = Subset(dataset, train_indices)\n",
    "test_dataset = Subset(dataset, test_indices)\n",
    "\n",
    "train_loader = DataLoader(train_dataset, batch_size=batch_size, shuffle=True)\n",
    "test_loader = DataLoader(test_dataset, batch_size=batch_size, shuffle=False)"
   ]
  },
  {
   "cell_type": "code",
   "execution_count": 2,
   "metadata": {},
   "outputs": [
    {
     "name": "stdout",
     "output_type": "stream",
     "text": [
      "20\n"
     ]
    },
    {
     "data": {
      "text/plain": [
       "0.18109837773478196"
      ]
     },
     "execution_count": 2,
     "metadata": {},
     "output_type": "execute_result"
    }
   ],
   "source": [
    "# majority classifier\n",
    "print(len(data_emb['int_label'].unique()))\n",
    "sorted(data_emb['int_label'].value_counts(),reverse=True)[0]/len(data_emb['int_label'])"
   ]
  },
  {
   "cell_type": "code",
   "execution_count": 3,
   "metadata": {},
   "outputs": [
    {
     "name": "stdout",
     "output_type": "stream",
     "text": [
      "n labels: 20\n"
     ]
    },
    {
     "name": "stderr",
     "output_type": "stream",
     "text": [
      "TRAINING:   0%|          | 18/80628 [00:00<16:20, 82.18it/s, Epoch=1/5, Loss: 22.8993] "
     ]
    },
    {
     "name": "stdout",
     "output_type": "stream",
     "text": [
      "\n"
     ]
    },
    {
     "name": "stderr",
     "output_type": "stream",
     "text": [
      "TRAINING:  25%|██▍       | 20021/80628 [02:24<07:23, 136.77it/s, Epoch=1/5, Loss: 8.6600]  "
     ]
    },
    {
     "name": "stdout",
     "output_type": "stream",
     "text": [
      "\n"
     ]
    },
    {
     "name": "stderr",
     "output_type": "stream",
     "text": [
      "TRAINING:  50%|████▉     | 40017/80628 [04:51<05:09, 131.38it/s, Epoch=1/5, Loss: 0.5787]  "
     ]
    },
    {
     "name": "stdout",
     "output_type": "stream",
     "text": [
      "\n"
     ]
    },
    {
     "name": "stderr",
     "output_type": "stream",
     "text": [
      "TRAINING:  74%|███████▍  | 60024/80628 [07:14<02:24, 142.84it/s, Epoch=1/5, Loss: 0.0645]  "
     ]
    },
    {
     "name": "stdout",
     "output_type": "stream",
     "text": [
      "\n"
     ]
    },
    {
     "name": "stderr",
     "output_type": "stream",
     "text": [
      "TRAINING:  99%|█████████▉| 80027/80628 [09:38<00:03, 155.05it/s, Epoch=1/5, Loss: 2.7161] "
     ]
    },
    {
     "name": "stdout",
     "output_type": "stream",
     "text": [
      "\n"
     ]
    },
    {
     "name": "stderr",
     "output_type": "stream",
     "text": [
      "TRAINING: 100%|██████████| 80628/80628 [09:42<00:00, 138.45it/s, Epoch=1/5, Loss: 0.1184] \n",
      "TESTING: 100%|██████████| 20157/20157 [00:58<00:00, 346.50it/s]\n"
     ]
    },
    {
     "name": "stdout",
     "output_type": "stream",
     "text": [
      "Test Accuracy: 38.42%, (7745 of 20157)\n"
     ]
    },
    {
     "name": "stderr",
     "output_type": "stream",
     "text": [
      "TRAINING:   0%|          | 12/80628 [00:00<11:37, 115.56it/s, Epoch=2/5, Loss: 4.2714]"
     ]
    },
    {
     "name": "stdout",
     "output_type": "stream",
     "text": [
      "\n"
     ]
    },
    {
     "name": "stderr",
     "output_type": "stream",
     "text": [
      "TRAINING:  25%|██▍       | 20023/80628 [02:38<09:02, 111.65it/s, Epoch=2/5, Loss: 0.1572] "
     ]
    },
    {
     "name": "stdout",
     "output_type": "stream",
     "text": [
      "\n"
     ]
    },
    {
     "name": "stderr",
     "output_type": "stream",
     "text": [
      "TRAINING:  50%|████▉     | 40018/80628 [05:29<06:05, 111.00it/s, Epoch=2/5, Loss: 0.0877] "
     ]
    },
    {
     "name": "stdout",
     "output_type": "stream",
     "text": [
      "\n"
     ]
    },
    {
     "name": "stderr",
     "output_type": "stream",
     "text": [
      "TRAINING:  74%|███████▍  | 60018/80628 [08:27<03:03, 112.40it/s, Epoch=2/5, Loss: 2.0300]  "
     ]
    },
    {
     "name": "stdout",
     "output_type": "stream",
     "text": [
      "\n"
     ]
    },
    {
     "name": "stderr",
     "output_type": "stream",
     "text": [
      "TRAINING:  99%|█████████▉| 80032/80628 [10:53<00:03, 163.47it/s, Epoch=2/5, Loss: 0.2382] "
     ]
    },
    {
     "name": "stdout",
     "output_type": "stream",
     "text": [
      "\n"
     ]
    },
    {
     "name": "stderr",
     "output_type": "stream",
     "text": [
      "TRAINING: 100%|██████████| 80628/80628 [10:57<00:00, 122.63it/s, Epoch=2/5, Loss: 6.2840] \n",
      "TESTING: 100%|██████████| 20157/20157 [00:20<00:00, 979.64it/s]\n"
     ]
    },
    {
     "name": "stdout",
     "output_type": "stream",
     "text": [
      "Test Accuracy: 46.22%, (9316 of 20157)\n"
     ]
    },
    {
     "name": "stderr",
     "output_type": "stream",
     "text": [
      "TRAINING:   0%|          | 11/80628 [00:00<12:24, 108.29it/s, Epoch=3/5, Loss: 1.3462]"
     ]
    },
    {
     "name": "stdout",
     "output_type": "stream",
     "text": [
      "\n"
     ]
    },
    {
     "name": "stderr",
     "output_type": "stream",
     "text": [
      "TRAINING:  25%|██▍       | 20022/80628 [02:20<08:35, 117.68it/s, Epoch=3/5, Loss: 0.3944]  "
     ]
    },
    {
     "name": "stdout",
     "output_type": "stream",
     "text": [
      "\n"
     ]
    },
    {
     "name": "stderr",
     "output_type": "stream",
     "text": [
      "TRAINING:  50%|████▉     | 40017/80628 [04:32<05:44, 117.93it/s, Epoch=3/5, Loss: 0.6416] "
     ]
    },
    {
     "name": "stdout",
     "output_type": "stream",
     "text": [
      "\n"
     ]
    },
    {
     "name": "stderr",
     "output_type": "stream",
     "text": [
      "TRAINING:  74%|███████▍  | 60016/80628 [07:16<02:49, 121.53it/s, Epoch=3/5, Loss: 5.5919] "
     ]
    },
    {
     "name": "stdout",
     "output_type": "stream",
     "text": [
      "\n"
     ]
    },
    {
     "name": "stderr",
     "output_type": "stream",
     "text": [
      "TRAINING:  99%|█████████▉| 80014/80628 [10:03<00:05, 121.56it/s, Epoch=3/5, Loss: 0.8428] "
     ]
    },
    {
     "name": "stdout",
     "output_type": "stream",
     "text": [
      "\n"
     ]
    },
    {
     "name": "stderr",
     "output_type": "stream",
     "text": [
      "TRAINING: 100%|██████████| 80628/80628 [10:08<00:00, 132.53it/s, Epoch=3/5, Loss: 0.1238] \n",
      "TESTING: 100%|██████████| 20157/20157 [00:20<00:00, 990.43it/s] \n"
     ]
    },
    {
     "name": "stdout",
     "output_type": "stream",
     "text": [
      "Test Accuracy: 54.03%, (10890 of 20157)\n"
     ]
    },
    {
     "name": "stderr",
     "output_type": "stream",
     "text": [
      "TRAINING:   0%|          | 15/80628 [00:00<09:24, 142.78it/s, Epoch=4/5, Loss: 0.0012]"
     ]
    },
    {
     "name": "stdout",
     "output_type": "stream",
     "text": [
      "\n"
     ]
    },
    {
     "name": "stderr",
     "output_type": "stream",
     "text": [
      "TRAINING:  25%|██▍       | 20013/80628 [02:48<09:10, 110.14it/s, Epoch=4/5, Loss: 4.2700] "
     ]
    },
    {
     "name": "stdout",
     "output_type": "stream",
     "text": [
      "\n"
     ]
    },
    {
     "name": "stderr",
     "output_type": "stream",
     "text": [
      "TRAINING:  50%|████▉     | 40022/80628 [05:50<06:11, 109.38it/s, Epoch=4/5, Loss: 5.4609] "
     ]
    },
    {
     "name": "stdout",
     "output_type": "stream",
     "text": [
      "\n"
     ]
    },
    {
     "name": "stderr",
     "output_type": "stream",
     "text": [
      "TRAINING:  74%|███████▍  | 60013/80628 [08:44<03:02, 113.11it/s, Epoch=4/5, Loss: 0.0003] "
     ]
    },
    {
     "name": "stdout",
     "output_type": "stream",
     "text": [
      "\n"
     ]
    },
    {
     "name": "stderr",
     "output_type": "stream",
     "text": [
      "TRAINING:  99%|█████████▉| 80019/80628 [11:45<00:05, 107.95it/s, Epoch=4/5, Loss: 1.5948] "
     ]
    },
    {
     "name": "stdout",
     "output_type": "stream",
     "text": [
      "\n"
     ]
    },
    {
     "name": "stderr",
     "output_type": "stream",
     "text": [
      "TRAINING: 100%|██████████| 80628/80628 [11:51<00:00, 113.38it/s, Epoch=4/5, Loss: 6.7542] \n",
      "TESTING: 100%|██████████| 20157/20157 [00:20<00:00, 983.92it/s]\n"
     ]
    },
    {
     "name": "stdout",
     "output_type": "stream",
     "text": [
      "Test Accuracy: 53.28%, (10739 of 20157)\n"
     ]
    },
    {
     "name": "stderr",
     "output_type": "stream",
     "text": [
      "TRAINING:   0%|          | 15/80628 [00:00<09:24, 142.71it/s, Epoch=5/5, Loss: 2.2993]"
     ]
    },
    {
     "name": "stdout",
     "output_type": "stream",
     "text": [
      "\n"
     ]
    },
    {
     "name": "stderr",
     "output_type": "stream",
     "text": [
      "TRAINING:  25%|██▍       | 20014/80628 [02:21<08:23, 120.41it/s, Epoch=5/5, Loss: 4.0276] "
     ]
    },
    {
     "name": "stdout",
     "output_type": "stream",
     "text": [
      "\n"
     ]
    },
    {
     "name": "stderr",
     "output_type": "stream",
     "text": [
      "TRAINING:  50%|████▉     | 40021/80628 [04:43<05:39, 119.49it/s, Epoch=5/5, Loss: 0.0000] "
     ]
    },
    {
     "name": "stdout",
     "output_type": "stream",
     "text": [
      "\n"
     ]
    },
    {
     "name": "stderr",
     "output_type": "stream",
     "text": [
      "TRAINING:  74%|███████▍  | 60014/80628 [07:39<03:03, 112.33it/s, Epoch=5/5, Loss: 0.2449] "
     ]
    },
    {
     "name": "stdout",
     "output_type": "stream",
     "text": [
      "\n"
     ]
    },
    {
     "name": "stderr",
     "output_type": "stream",
     "text": [
      "TRAINING:  99%|█████████▉| 80018/80628 [10:35<00:05, 113.25it/s, Epoch=5/5, Loss: 2.4820] "
     ]
    },
    {
     "name": "stdout",
     "output_type": "stream",
     "text": [
      "\n"
     ]
    },
    {
     "name": "stderr",
     "output_type": "stream",
     "text": [
      "TRAINING: 100%|██████████| 80628/80628 [10:41<00:00, 125.78it/s, Epoch=5/5, Loss: 3.3286] \n",
      "TESTING: 100%|██████████| 20157/20157 [00:20<00:00, 985.36it/s]"
     ]
    },
    {
     "name": "stdout",
     "output_type": "stream",
     "text": [
      "Test Accuracy: 49.44%, (9966 of 20157)\n"
     ]
    },
    {
     "name": "stderr",
     "output_type": "stream",
     "text": [
      "\n"
     ]
    }
   ],
   "source": [
    "import torch.optim as optim\n",
    "from tqdm import tqdm\n",
    "\n",
    "class Config:\n",
    "    n_layer: int = 3\n",
    "    input_dim: int = 640\n",
    "    dropout: float = 0.0\n",
    "    bias: bool = False\n",
    "    n_labels: int = 17\n",
    "    pooling : str = 'mean'\n",
    "    binary_dim: int = 1448\n",
    "    norm_fn: nn.Module = nn.LayerNorm\n",
    "\n",
    "print('n labels:',nlabels)\n",
    "config = Config()\n",
    "config.n_labels = nlabels\n",
    "\n",
    "model = Classifier(config)\n",
    "model.to(device)\n",
    "\n",
    "num_epochs = 5\n",
    "learning_rate = 0.001\n",
    "\n",
    "# Loss function and optimizer\n",
    "criterion = nn.CrossEntropyLoss()\n",
    "optimizer = optim.Adam(model.parameters(), lr=learning_rate)\n",
    "\n",
    "# Training loop\n",
    "for epoch in range(num_epochs):\n",
    "    model.train()\n",
    "    with tqdm(enumerate(train_loader), total=len(train_loader),desc='TRAINING') as pbar:\n",
    "        for batch_idx, (data1, data2, target) in pbar:\n",
    "            optimizer.zero_grad()\n",
    "            output = model(data1,data2)\n",
    "            # assert False\n",
    "            loss = criterion(output, target)\n",
    "            loss.backward()\n",
    "            optimizer.step()\n",
    "            pbar.set_postfix({'Epoch':f'{epoch+1}/{num_epochs}, Loss: {loss.item():.4f}'})\n",
    "            if batch_idx % 20000 == 0:\n",
    "                print('')\n",
    "\n",
    "        # Evaluation\n",
    "        model.eval()\n",
    "        correct = 0\n",
    "        total = 0\n",
    "\n",
    "        with torch.no_grad():\n",
    "            for data1,data2, target in tqdm(test_loader,desc='TESTING'):\n",
    "                output = model(data1,data2)\n",
    "                _, predicted = torch.max(output.data, 1)\n",
    "                total += target.size(0)\n",
    "                correct += (predicted == target).sum().item()\n",
    "\n",
    "        accuracy = 100 * correct / total\n",
    "        print(f'Test Accuracy: {accuracy:.2f}%, ({correct} of {total})')"
   ]
  },
  {
   "cell_type": "code",
   "execution_count": null,
   "metadata": {},
   "outputs": [],
   "source": []
  }
 ],
 "metadata": {
  "kernelspec": {
   "display_name": "deepV_a100",
   "language": "python",
   "name": "python3"
  },
  "language_info": {
   "codemirror_mode": {
    "name": "ipython",
    "version": 3
   },
   "file_extension": ".py",
   "mimetype": "text/x-python",
   "name": "python",
   "nbconvert_exporter": "python",
   "pygments_lexer": "ipython3",
   "version": "3.10.12"
  }
 },
 "nbformat": 4,
 "nbformat_minor": 2
}
