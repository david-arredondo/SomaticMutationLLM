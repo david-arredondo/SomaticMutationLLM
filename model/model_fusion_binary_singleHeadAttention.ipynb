{
 "cells": [
  {
   "cell_type": "code",
   "execution_count": 1,
   "metadata": {},
   "outputs": [],
   "source": [
    "import numpy as np\n",
    "import pandas as pd\n",
    "import torch\n",
    "import torch.nn as nn\n",
    "import pandas as pd\n",
    "from transformers import AdamW, get_scheduler\n",
    "from datasets import load_metric\n",
    "\n",
    "from sklearn.preprocessing import LabelEncoder\n",
    "from torch.nn.utils.rnn import pad_sequence\n",
    "from saveAndLoad import *\n",
    "\n",
    "from torch.utils.data import DataLoader, Subset, Dataset\n",
    "from sklearn.model_selection import train_test_split\n",
    "\n",
    "class RMSNorm(nn.Module):\n",
    "    def __init__(self, dim, eps=1e-8, bias = None):\n",
    "        super(RMSNorm, self).__init__()\n",
    "        self.eps = eps\n",
    "        self.scale = nn.Parameter(torch.ones(dim))\n",
    "\n",
    "    def forward(self, x):\n",
    "        norm = x.norm(keepdim=True, dim=-1) * (x.size(-1) ** -0.5)\n",
    "        return self.scale * (x / (norm + self.eps))\n",
    "    \n",
    "class MLP(nn.Module):\n",
    "\n",
    "    def __init__(self, config, use_dropout=True):\n",
    "        super().__init__()\n",
    "        self.c_fc    = nn.Linear(config.input_dim, 4 * config.input_dim, bias=config.bias)\n",
    "        self.gelu    = nn.GELU()\n",
    "        self.c_proj  = nn.Linear(4 * config.input_dim, config.input_dim, bias=config.bias)\n",
    "        self.dropout = nn.Dropout(config.dropout)\n",
    "        self.use_dropout = use_dropout\n",
    "\n",
    "    def forward(self, x):\n",
    "        x = self.c_fc(x)\n",
    "        x = self.gelu(x)\n",
    "        x = self.c_proj(x)\n",
    "        if self.use_dropout: x = self.dropout(x)\n",
    "        return x\n",
    "    \n",
    "class Attention(nn.Module):\n",
    "    def __init__(self, config):\n",
    "        super().__init__()\n",
    "        self.input_dim = config.input_dim\n",
    "        self.query = nn.Linear(config.input_dim, config.input_dim)\n",
    "        self.key = nn.Linear(config.input_dim, config.input_dim)\n",
    "        self.value = nn.Linear(config.input_dim, config.input_dim)\n",
    "        self.softmax = nn.Softmax(dim=2)\n",
    "        self.dense_layer = nn.Linear(config.input_dim, config.input_dim)\n",
    "        self.dropout = nn.Dropout(config.dropout)\n",
    "        self.config = config\n",
    "\n",
    "    def forward(self, x):\n",
    "        queries = self.query(x)\n",
    "        keys = self.key(x)\n",
    "        values = self.value(x)\n",
    "        scores = torch.bmm(queries, keys.transpose(-2, -1)) / (self.input_dim ** 0.5)\n",
    "        attention = self.softmax(scores)\n",
    "        y = torch.bmm(attention, values)\n",
    "        return self.dense_layer(y)\n",
    "\n",
    "class Block(nn.Module):\n",
    "    def __init__(self, config, norm_fn = nn.LayerNorm):\n",
    "        super().__init__()\n",
    "        self.norm1 = config.norm_fn(config.input_dim)  # RMS normalization\n",
    "        self.norm2 = config.norm_fn(config.input_dim)\n",
    "        self.attn = Attention(config)\n",
    "        self.mlp = MLP(config)\n",
    "\n",
    "    def forward(self, x):\n",
    "        x = x + self.attn(self.norm1(x))\n",
    "        x = x + self.mlp(self.norm2(x))\n",
    "        return x\n",
    "\n",
    "class Classifier(nn.Module):\n",
    "    def __init__(self, config):\n",
    "        super(Classifier, self).__init__()\n",
    "\n",
    "        self.blocks = nn.ModuleList([Block(config, norm_fn = config.norm_fn) for _ in range(config.n_layer)])\n",
    "        self.input_dim = config.input_dim \n",
    "        self.pooling = config.pooling\n",
    "        assert self.pooling in ['cls', 'mean', 'max'], 'pooling should be either cls, mean, or max'\n",
    "        self.cls_token = nn.Parameter(torch.randn(1, 1, config.input_dim))  # Learnable CLS token\n",
    "\n",
    "        # self.emb_transform = nn.Linear(config.input_dim, config.input_dim)  \n",
    "        # self.emb_transform = MLP(config,use_dropout=False)  \n",
    "\n",
    "        self.num_labels = config.n_labels # number of labels for classifier\n",
    "        self.classifier = nn.Linear(config.input_dim + config.binary_dim, config.n_labels) # FC Layer\n",
    "        self.loss_func = nn.CrossEntropyLoss() # Change this if it becomes more than binary classification\n",
    "        \n",
    "        self.apply(self._init_weights)\n",
    "\n",
    "    def _init_weights(self, module):\n",
    "        if isinstance(module, nn.Linear):\n",
    "            torch.nn.init.normal_(module.weight, mean=0.0, std=0.02)\n",
    "            if module.bias is not None:\n",
    "                torch.nn.init.zeros_(module.bias)\n",
    "\n",
    "    def forward(self, x, binary):\n",
    "        # is_pad = x == float('-inf')\n",
    "        # pad_rows = is_pad.all(dim=2)\n",
    "        # x = self.emb_transform(x)\n",
    "\n",
    "        if self.pooling == 'cls':\n",
    "            batch_size = x.size(0)\n",
    "            cls_tokens = self.cls_token.expand(batch_size, -1, -1)  # Expand CLS token for each sequence in the batch\n",
    "            x = torch.cat((cls_tokens, x), dim=1)\n",
    "        \n",
    "        for block in self.blocks:\n",
    "            x = block(x)\n",
    "\n",
    "        if self.pooling == 'cls':\n",
    "            classifier_input = x[:, 0, :].view(-1, self.input_dim)\n",
    "        elif self.pooling == 'mean':\n",
    "            classifier_input = x.mean(dim=1)\n",
    "        elif self.pooling == 'max':\n",
    "            classifier_input, _ = x.max(dim=1)\n",
    "\n",
    "        classifier_input = torch.cat((classifier_input, binary), dim=1)\n",
    "\n",
    "        logits = self.classifier(classifier_input)\n",
    "        return logits"
   ]
  },
  {
   "cell_type": "code",
   "execution_count": 2,
   "metadata": {},
   "outputs": [
    {
     "name": "stdout",
     "output_type": "stream",
     "text": [
      "0 BINARYdata_CANCER_TYPE_3MinMutations_1696MinCancerType.csv\n",
      "1 data_CANCER_TYPE_DETAILED_3MinMutations_1696MinCancerType.csv\n",
      "2 BINARYdata_CANCER_TYPE_DETAILED_3MinMutations_1696MinCancerType.csv\n",
      "3 data_CANCER_TYPE_DETAILED_0MinMutations_1696MinCancerType.csv\n",
      "4 BINARYdata_CANCER_TYPE_DETAILED_0MinMutations_1696MinCancerType.csv\n",
      "5 data_CANCER_TYPE_3MinMutations_169MinCancerType.csv\n",
      "6 data_CANCER_TYPE_0MinMutations_1696MinCancerType.csv\n",
      "7 BINARYdata_CANCER_TYPE_0MinMutations_169MinCancerType.csv\n",
      "8 data_CANCER_TYPE_0MinMutations_169MinCancerType.csv\n",
      "9 BINARYdata_CANCER_TYPE_DETAILED_0MinMutations_169MinCancerType.csv\n",
      "10 data_CANCER_TYPE_DETAILED_0MinMutations_169MinCancerType.csv\n",
      "11 BINARYdata_CANCER_TYPE_DETAILED_3MinMutations_169MinCancerType.csv\n",
      "12 BINARYdata_CANCER_TYPE_3MinMutations_169MinCancerType.csv\n",
      "13 label_mappings\n",
      "14 BINARYdata_CANCER_TYPE_0MinMutations_1696MinCancerType.csv\n",
      "15 data_CANCER_TYPE_3MinMutations_1696MinCancerType.csv\n",
      "16 data_CANCER_TYPE_DETAILED_3MinMutations_169MinCancerType.csv\n",
      "\n",
      " data_CANCER_TYPE_DETAILED_3MinMutations_1696MinCancerType.csv\n",
      "loading data from ../labeled_data//label_mappings/label_mapping_data_CANCER_TYPE_DETAILED_3MinMutations_1696MinCancerType.pkl\n",
      "\n",
      " BINARYdata_CANCER_TYPE_DETAILED_3MinMutations_1696MinCancerType.csv\n",
      "loading data from ../labeled_data//label_mappings/label_mapping_BINARYdata_CANCER_TYPE_DETAILED_3MinMutations_1696MinCancerType.pkl\n"
     ]
    }
   ],
   "source": [
    "from custom_dataset import custom_collate, Dataset_Fusion_MutationList_Binary\n",
    "\n",
    "# LOAD DATA\n",
    "canonical_mut_embeddings_esm2 = np.load('../aa/canonical_mut_embeddings_esm2.npy')\n",
    "data_dir = '../labeled_data/'\n",
    "labeled_data = os.listdir(data_dir)\n",
    "for ni,i in enumerate(labeled_data):print(ni,i)\n",
    "\n",
    "data_emb_filename = labeled_data[1]\n",
    "print('\\n',data_emb_filename)\n",
    "data_emb = pd.read_csv(data_dir+data_emb_filename)\n",
    "emb_label_map = pickleLoad(data_dir+'/label_mappings/'+'label_mapping_'+data_emb_filename.strip('.csv')+ '.pkl')\n",
    "\n",
    "data_bin_filename = labeled_data[2]\n",
    "print('\\n',data_bin_filename)\n",
    "data_bin = pd.read_csv(data_dir+data_bin_filename)\n",
    "bin_label_map = pickleLoad(data_dir+'/label_mappings/'+'label_mapping_'+data_bin_filename.strip('.csv')+ '.pkl')\n",
    "\n",
    "labels = torch.tensor(data_emb['int_label'].values,dtype=torch.long)\n",
    "nlabels = len(data_emb['int_label'].unique())\n",
    "device = 'cuda:1'\n",
    "\n",
    "# Create dataset\n",
    "dataset = Dataset_Fusion_MutationList_Binary(data_bin, data_emb, bin_label_map, emb_label_map, canonical_mut_embeddings_esm2,device)\n",
    "\n",
    "# Create DataLoader\n",
    "# dataloader = DataLoader(dataset, batch_size=100, shuffle=False, collate_fn=custom_collate)\n",
    "\n",
    "## TEST/TRAIN SPLIT\n",
    "test_size = .2\n",
    "random_state = 42\n",
    "batch_size = 1\n",
    "indices = list(range(len(dataset)))\n",
    "\n",
    "train_indices, test_indices = train_test_split(\n",
    "    indices, \n",
    "    test_size=test_size, \n",
    "    random_state=random_state\n",
    ")\n",
    "\n",
    "train_dataset = Subset(dataset, train_indices)\n",
    "test_dataset = Subset(dataset, test_indices)\n",
    "\n",
    "train_loader = DataLoader(train_dataset, batch_size=batch_size, shuffle=True)\n",
    "test_loader = DataLoader(test_dataset, batch_size=batch_size, shuffle=False)"
   ]
  },
  {
   "cell_type": "code",
   "execution_count": 3,
   "metadata": {},
   "outputs": [
    {
     "name": "stdout",
     "output_type": "stream",
     "text": [
      "17\n"
     ]
    },
    {
     "data": {
      "text/plain": [
       "0.22298445159933342"
      ]
     },
     "execution_count": 3,
     "metadata": {},
     "output_type": "execute_result"
    }
   ],
   "source": [
    "# majority classifier\n",
    "print(len(data_emb['int_label'].unique()))\n",
    "sorted(data_emb['int_label'].value_counts(),reverse=True)[0]/len(data_emb['int_label'])"
   ]
  },
  {
   "cell_type": "code",
   "execution_count": 4,
   "metadata": {},
   "outputs": [
    {
     "name": "stdout",
     "output_type": "stream",
     "text": [
      "n labels: 17\n"
     ]
    },
    {
     "name": "stderr",
     "output_type": "stream",
     "text": [
      "TRAINING:   0%|          | 20/49445 [00:00<09:42, 84.91it/s, Epoch=1/5, Loss: 21.5788] "
     ]
    },
    {
     "name": "stdout",
     "output_type": "stream",
     "text": [
      "\n"
     ]
    },
    {
     "name": "stderr",
     "output_type": "stream",
     "text": [
      "TRAINING:  40%|████      | 20023/49445 [02:14<03:22, 145.32it/s, Epoch=1/5, Loss: 1.9804]  "
     ]
    },
    {
     "name": "stdout",
     "output_type": "stream",
     "text": [
      "\n"
     ]
    },
    {
     "name": "stderr",
     "output_type": "stream",
     "text": [
      "TRAINING:  81%|████████  | 40026/49445 [04:31<01:01, 153.07it/s, Epoch=1/5, Loss: 0.1360]  "
     ]
    },
    {
     "name": "stdout",
     "output_type": "stream",
     "text": [
      "\n"
     ]
    },
    {
     "name": "stderr",
     "output_type": "stream",
     "text": [
      "TRAINING: 100%|██████████| 49445/49445 [05:33<00:00, 148.08it/s, Epoch=1/5, Loss: 3.1865]   \n",
      "TESTING: 100%|██████████| 12362/12362 [00:11<00:00, 1064.90it/s]\n"
     ]
    },
    {
     "name": "stdout",
     "output_type": "stream",
     "text": [
      "Test Accuracy: 50.87%, (6289 of 12362)\n"
     ]
    },
    {
     "name": "stderr",
     "output_type": "stream",
     "text": [
      "TRAINING:   0%|          | 22/49445 [00:00<03:53, 211.47it/s, Epoch=2/5, Loss: 0.9631]"
     ]
    },
    {
     "name": "stdout",
     "output_type": "stream",
     "text": [
      "\n"
     ]
    },
    {
     "name": "stderr",
     "output_type": "stream",
     "text": [
      "TRAINING:  40%|████      | 20019/49445 [02:14<03:15, 150.85it/s, Epoch=2/5, Loss: 0.0000]  "
     ]
    },
    {
     "name": "stdout",
     "output_type": "stream",
     "text": [
      "\n"
     ]
    },
    {
     "name": "stderr",
     "output_type": "stream",
     "text": [
      "TRAINING:  81%|████████  | 40036/49445 [03:51<00:43, 215.30it/s, Epoch=2/5, Loss: 0.8996] "
     ]
    },
    {
     "name": "stdout",
     "output_type": "stream",
     "text": [
      "\n"
     ]
    },
    {
     "name": "stderr",
     "output_type": "stream",
     "text": [
      "TRAINING: 100%|██████████| 49445/49445 [05:08<00:00, 160.47it/s, Epoch=2/5, Loss: 0.3649] \n",
      "TESTING: 100%|██████████| 12362/12362 [00:11<00:00, 1058.91it/s]\n"
     ]
    },
    {
     "name": "stdout",
     "output_type": "stream",
     "text": [
      "Test Accuracy: 41.98%, (5189 of 12362)\n"
     ]
    },
    {
     "name": "stderr",
     "output_type": "stream",
     "text": [
      "TRAINING:   0%|          | 15/49445 [00:00<05:49, 141.63it/s, Epoch=3/5, Loss: 21.0507]"
     ]
    },
    {
     "name": "stdout",
     "output_type": "stream",
     "text": [
      "\n"
     ]
    },
    {
     "name": "stderr",
     "output_type": "stream",
     "text": [
      "TRAINING:   1%|          | 544/49445 [00:04<06:20, 128.66it/s, Epoch=3/5, Loss: 1.2725] \n"
     ]
    },
    {
     "ename": "KeyboardInterrupt",
     "evalue": "",
     "output_type": "error",
     "traceback": [
      "\u001b[0;31m---------------------------------------------------------------------------\u001b[0m",
      "\u001b[0;31mKeyboardInterrupt\u001b[0m                         Traceback (most recent call last)",
      "Cell \u001b[0;32mIn[4], line 37\u001b[0m\n\u001b[1;32m     35\u001b[0m \u001b[38;5;66;03m# assert False\u001b[39;00m\n\u001b[1;32m     36\u001b[0m loss \u001b[38;5;241m=\u001b[39m criterion(output, target)\n\u001b[0;32m---> 37\u001b[0m \u001b[43mloss\u001b[49m\u001b[38;5;241;43m.\u001b[39;49m\u001b[43mbackward\u001b[49m\u001b[43m(\u001b[49m\u001b[43m)\u001b[49m\n\u001b[1;32m     38\u001b[0m optimizer\u001b[38;5;241m.\u001b[39mstep()\n\u001b[1;32m     39\u001b[0m pbar\u001b[38;5;241m.\u001b[39mset_postfix({\u001b[38;5;124m'\u001b[39m\u001b[38;5;124mEpoch\u001b[39m\u001b[38;5;124m'\u001b[39m:\u001b[38;5;124mf\u001b[39m\u001b[38;5;124m'\u001b[39m\u001b[38;5;132;01m{\u001b[39;00mepoch\u001b[38;5;241m+\u001b[39m\u001b[38;5;241m1\u001b[39m\u001b[38;5;132;01m}\u001b[39;00m\u001b[38;5;124m/\u001b[39m\u001b[38;5;132;01m{\u001b[39;00mnum_epochs\u001b[38;5;132;01m}\u001b[39;00m\u001b[38;5;124m, Loss: \u001b[39m\u001b[38;5;132;01m{\u001b[39;00mloss\u001b[38;5;241m.\u001b[39mitem()\u001b[38;5;132;01m:\u001b[39;00m\u001b[38;5;124m.4f\u001b[39m\u001b[38;5;132;01m}\u001b[39;00m\u001b[38;5;124m'\u001b[39m})\n",
      "File \u001b[0;32m~/.conda/envs/deepV_a100/lib/python3.10/site-packages/torch/_tensor.py:492\u001b[0m, in \u001b[0;36mTensor.backward\u001b[0;34m(self, gradient, retain_graph, create_graph, inputs)\u001b[0m\n\u001b[1;32m    482\u001b[0m \u001b[38;5;28;01mif\u001b[39;00m has_torch_function_unary(\u001b[38;5;28mself\u001b[39m):\n\u001b[1;32m    483\u001b[0m     \u001b[38;5;28;01mreturn\u001b[39;00m handle_torch_function(\n\u001b[1;32m    484\u001b[0m         Tensor\u001b[38;5;241m.\u001b[39mbackward,\n\u001b[1;32m    485\u001b[0m         (\u001b[38;5;28mself\u001b[39m,),\n\u001b[0;32m   (...)\u001b[0m\n\u001b[1;32m    490\u001b[0m         inputs\u001b[38;5;241m=\u001b[39minputs,\n\u001b[1;32m    491\u001b[0m     )\n\u001b[0;32m--> 492\u001b[0m \u001b[43mtorch\u001b[49m\u001b[38;5;241;43m.\u001b[39;49m\u001b[43mautograd\u001b[49m\u001b[38;5;241;43m.\u001b[39;49m\u001b[43mbackward\u001b[49m\u001b[43m(\u001b[49m\n\u001b[1;32m    493\u001b[0m \u001b[43m    \u001b[49m\u001b[38;5;28;43mself\u001b[39;49m\u001b[43m,\u001b[49m\u001b[43m \u001b[49m\u001b[43mgradient\u001b[49m\u001b[43m,\u001b[49m\u001b[43m \u001b[49m\u001b[43mretain_graph\u001b[49m\u001b[43m,\u001b[49m\u001b[43m \u001b[49m\u001b[43mcreate_graph\u001b[49m\u001b[43m,\u001b[49m\u001b[43m \u001b[49m\u001b[43minputs\u001b[49m\u001b[38;5;241;43m=\u001b[39;49m\u001b[43minputs\u001b[49m\n\u001b[1;32m    494\u001b[0m \u001b[43m\u001b[49m\u001b[43m)\u001b[49m\n",
      "File \u001b[0;32m~/.conda/envs/deepV_a100/lib/python3.10/site-packages/torch/autograd/__init__.py:251\u001b[0m, in \u001b[0;36mbackward\u001b[0;34m(tensors, grad_tensors, retain_graph, create_graph, grad_variables, inputs)\u001b[0m\n\u001b[1;32m    246\u001b[0m     retain_graph \u001b[38;5;241m=\u001b[39m create_graph\n\u001b[1;32m    248\u001b[0m \u001b[38;5;66;03m# The reason we repeat the same comment below is that\u001b[39;00m\n\u001b[1;32m    249\u001b[0m \u001b[38;5;66;03m# some Python versions print out the first line of a multi-line function\u001b[39;00m\n\u001b[1;32m    250\u001b[0m \u001b[38;5;66;03m# calls in the traceback and some print out the last line\u001b[39;00m\n\u001b[0;32m--> 251\u001b[0m \u001b[43mVariable\u001b[49m\u001b[38;5;241;43m.\u001b[39;49m\u001b[43m_execution_engine\u001b[49m\u001b[38;5;241;43m.\u001b[39;49m\u001b[43mrun_backward\u001b[49m\u001b[43m(\u001b[49m\u001b[43m  \u001b[49m\u001b[38;5;66;43;03m# Calls into the C++ engine to run the backward pass\u001b[39;49;00m\n\u001b[1;32m    252\u001b[0m \u001b[43m    \u001b[49m\u001b[43mtensors\u001b[49m\u001b[43m,\u001b[49m\n\u001b[1;32m    253\u001b[0m \u001b[43m    \u001b[49m\u001b[43mgrad_tensors_\u001b[49m\u001b[43m,\u001b[49m\n\u001b[1;32m    254\u001b[0m \u001b[43m    \u001b[49m\u001b[43mretain_graph\u001b[49m\u001b[43m,\u001b[49m\n\u001b[1;32m    255\u001b[0m \u001b[43m    \u001b[49m\u001b[43mcreate_graph\u001b[49m\u001b[43m,\u001b[49m\n\u001b[1;32m    256\u001b[0m \u001b[43m    \u001b[49m\u001b[43minputs\u001b[49m\u001b[43m,\u001b[49m\n\u001b[1;32m    257\u001b[0m \u001b[43m    \u001b[49m\u001b[43mallow_unreachable\u001b[49m\u001b[38;5;241;43m=\u001b[39;49m\u001b[38;5;28;43;01mTrue\u001b[39;49;00m\u001b[43m,\u001b[49m\n\u001b[1;32m    258\u001b[0m \u001b[43m    \u001b[49m\u001b[43maccumulate_grad\u001b[49m\u001b[38;5;241;43m=\u001b[39;49m\u001b[38;5;28;43;01mTrue\u001b[39;49;00m\u001b[43m,\u001b[49m\n\u001b[1;32m    259\u001b[0m \u001b[43m\u001b[49m\u001b[43m)\u001b[49m\n",
      "\u001b[0;31mKeyboardInterrupt\u001b[0m: "
     ]
    }
   ],
   "source": [
    "import torch.optim as optim\n",
    "from tqdm import tqdm\n",
    "\n",
    "class Config:\n",
    "    n_layer: int = 3\n",
    "    input_dim: int = 640\n",
    "    dropout: float = 0.0\n",
    "    bias: bool = False\n",
    "    n_labels: int = 17\n",
    "    pooling : str = 'mean'\n",
    "    binary_dim: int = 1448\n",
    "    norm_fn: nn.Module = nn.LayerNorm\n",
    "\n",
    "print('n labels:',nlabels)\n",
    "config = Config()\n",
    "config.n_labels = nlabels\n",
    "\n",
    "model = Classifier(config)\n",
    "model.to(device)\n",
    "\n",
    "num_epochs = 5\n",
    "learning_rate = 0.001\n",
    "\n",
    "# Loss function and optimizer\n",
    "criterion = nn.CrossEntropyLoss()\n",
    "optimizer = optim.Adam(model.parameters(), lr=learning_rate)\n",
    "\n",
    "# Training loop\n",
    "for epoch in range(num_epochs):\n",
    "    model.train()\n",
    "    with tqdm(enumerate(train_loader), total=len(train_loader),desc='TRAINING') as pbar:\n",
    "        for batch_idx, (data1, data2, target) in pbar:\n",
    "            optimizer.zero_grad()\n",
    "            output = model(data1,data2)\n",
    "            # assert False\n",
    "            loss = criterion(output, target)\n",
    "            loss.backward()\n",
    "            optimizer.step()\n",
    "            pbar.set_postfix({'Epoch':f'{epoch+1}/{num_epochs}, Loss: {loss.item():.4f}'})\n",
    "            if batch_idx % 20000 == 0:\n",
    "                print('')\n",
    "\n",
    "        # Evaluation\n",
    "        model.eval()\n",
    "        correct = 0\n",
    "        total = 0\n",
    "\n",
    "        with torch.no_grad():\n",
    "            for data1,data2, target in tqdm(test_loader,desc='TESTING'):\n",
    "                output = model(data1,data2)\n",
    "                _, predicted = torch.max(output.data, 1)\n",
    "                total += target.size(0)\n",
    "                correct += (predicted == target).sum().item()\n",
    "\n",
    "        accuracy = 100 * correct / total\n",
    "        print(f'Test Accuracy: {accuracy:.2f}%, ({correct} of {total})')"
   ]
  },
  {
   "cell_type": "code",
   "execution_count": null,
   "metadata": {},
   "outputs": [],
   "source": []
  }
 ],
 "metadata": {
  "kernelspec": {
   "display_name": "deepV_a100",
   "language": "python",
   "name": "python3"
  },
  "language_info": {
   "codemirror_mode": {
    "name": "ipython",
    "version": 3
   },
   "file_extension": ".py",
   "mimetype": "text/x-python",
   "name": "python",
   "nbconvert_exporter": "python",
   "pygments_lexer": "ipython3",
   "version": "3.10.12"
  }
 },
 "nbformat": 4,
 "nbformat_minor": 2
}
