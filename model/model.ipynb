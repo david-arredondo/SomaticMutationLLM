{
 "cells": [
  {
   "cell_type": "code",
   "execution_count": 2,
   "metadata": {},
   "outputs": [],
   "source": [
    "import numpy as np\n",
    "import pandas as pd\n",
    "from io import StringIO # Python 3.\n",
    "from datasets import load_dataset,Dataset,DatasetDict,concatenate_datasets\n",
    "\n",
    "from transformers import DataCollatorWithPadding,AutoModelForSequenceClassification, Trainer, TrainingArguments,AutoTokenizer,AutoModel,AutoConfig\n",
    "from transformers.modeling_outputs import TokenClassifierOutput\n",
    "import torch\n",
    "import torch.nn as nn\n",
    "import pandas as pd\n",
    "import json\n",
    "import pickle\n",
    "from transformers import AdamW, get_scheduler\n",
    "from datasets import load_metric\n",
    "\n",
    "from sklearn.preprocessing import LabelEncoder\n",
    "from torch.nn.utils.rnn import pad_sequence\n",
    "from saveAndLoad import *\n",
    "\n",
    "from torch.utils.data import DataLoader, Subset, Dataset\n",
    "from sklearn.model_selection import train_test_split\n",
    "\n",
    "class RMSNorm(nn.Module):\n",
    "    def __init__(self, dim, eps=1e-8):\n",
    "        super(RMSNorm, self).__init__()\n",
    "        self.eps = eps\n",
    "        self.scale = nn.Parameter(torch.ones(dim))\n",
    "\n",
    "    def forward(self, x):\n",
    "        norm = x.norm(keepdim=True, dim=-1) * (x.size(-1) ** -0.5)\n",
    "        return self.scale * (x / (norm + self.eps))\n",
    "    \n",
    "class MLP(nn.Module):\n",
    "\n",
    "    def __init__(self, n_embd, dropout, bias):\n",
    "        super().__init__()\n",
    "        self.c_fc    = nn.Linear(n_embd, 4 * n_embd, bias=bias)\n",
    "        self.gelu    = nn.GELU()\n",
    "        self.c_proj  = nn.Linear(4 * n_embd, n_embd, bias=bias)\n",
    "        self.dropout = nn.Dropout(dropout)\n",
    "\n",
    "    def forward(self, x):\n",
    "        x = self.c_fc(x)\n",
    "        x = self.gelu(x)\n",
    "        x = self.c_proj(x)\n",
    "        x = self.dropout(x)\n",
    "        return x\n",
    "\n",
    "class Classifier(nn.Module):\n",
    "    def __init__(self, input_dim, n_labels, dropout=.3):\n",
    "        super(Classifier, self).__init__()\n",
    "        self.input_dim = input_dim \n",
    "        self.cls_token = nn.Parameter(torch.randn(1, 1, input_dim))  # Learnable CLS token\n",
    "        self.query = nn.Linear(input_dim, input_dim)\n",
    "        self.key = nn.Linear(input_dim, input_dim)\n",
    "        self.value = nn.Linear(input_dim, input_dim)\n",
    "        self.softmax = nn.Softmax(dim=2)\n",
    "        self.num_labels = n_labels # number of labels for classifier\n",
    "        self.classifier = nn.Linear(input_dim, n_labels) # FC Layer\n",
    "        self.dense_layer = nn.Linear(input_dim, input_dim)\n",
    "        self.rms_norm = RMSNorm(input_dim)  # RMS normalization\n",
    "        self.relu = nn.ReLU()  # ReLU non-linearity\n",
    "        self.loss_func = nn.CrossEntropyLoss() # Change this if it becomes more than binary classification\n",
    "        self.mlp = MLP(input_dim, dropout, False)\n",
    "        self.apply(self._init_weights)\n",
    "\n",
    "    def _init_weights(self, module):\n",
    "        if isinstance(module, nn.Linear):\n",
    "            torch.nn.init.normal_(module.weight, mean=0.0, std=0.02)\n",
    "            if module.bias is not None:\n",
    "                torch.nn.init.zeros_(module.bias)\n",
    "\n",
    "    def forward(self, x):\n",
    "        is_pad = x == float('-inf')\n",
    "        pad_rows = is_pad.all(dim=2)\n",
    "        batch_size = x.size(0)\n",
    "        cls_tokens = self.cls_token.expand(batch_size, -1, -1)  # Expand CLS token for each sequence in the batch\n",
    "        x = torch.cat((cls_tokens, x), dim=1)\n",
    "        \n",
    "        x = self.rms_norm(x)\n",
    "\n",
    "        queries = self.query(x)\n",
    "        keys = self.key(x)\n",
    "        values = self.value(x)\n",
    "        scores = torch.bmm(queries, keys.transpose(1, 2)) / (self.input_dim ** 0.5)\n",
    "        attention = self.softmax(scores)\n",
    "        weighted = torch.bmm(attention, values)\n",
    "\n",
    "        # Apply dense layer\n",
    "        new_vec = self.dense_layer(weighted)\n",
    "\n",
    "        x = x + new_vec\n",
    "\n",
    "        # Apply RMS normalization\n",
    "        x = self.rms_norm(x)\n",
    "\n",
    "        # Apply ReLU activation\n",
    "        x = x + self.mlp(x)\n",
    "\n",
    "        sequence_outputs = new_vec\n",
    "        classifier_input = sequence_outputs[:, 0, :].view(-1, self.input_dim)\n",
    "        logits = self.classifier(classifier_input)\n",
    "\n",
    "        return logits"
   ]
  },
  {
   "cell_type": "code",
   "execution_count": 50,
   "metadata": {},
   "outputs": [
    {
     "name": "stdout",
     "output_type": "stream",
     "text": [
      "0 data_CANCER_TYPE_DETAILED_3MinMutations_1696MinCancerType.csv\n",
      "1 data_CANCER_TYPE_3MinMutations_169MinCancerType.csv\n",
      "2 data_CANCER_TYPE_0MinMutations_169MinCancerType.csv\n",
      "3 data_CANCER_TYPE_DETAILED_0MinMutations_169MinCancerType.csv\n",
      "4 data_CANCER_TYPE_DETAILED_0MinMutations_1696MinCancerType.csv\n",
      "5 data_CANCER_TYPE_3MinMutations_1696MinCancerType.csv\n",
      "6 data_CANCER_TYPE_DETAILED_3MinMutations_169MinCancerType.csv\n",
      "7 data_CANCER_TYPE_0MinMutations_1696MinCancerType.csv\n",
      "\n",
      " data_CANCER_TYPE_DETAILED_3MinMutations_1696MinCancerType.csv\n"
     ]
    }
   ],
   "source": [
    "canonical_mut_embeddings_esm2 = np.load('../aa/canonical_mut_embeddings_esm2.npy')\n",
    "data_dir = '../labeled_data/'\n",
    "labeled_data = os.listdir(data_dir)\n",
    "for ni,i in enumerate(labeled_data):print(ni,i)\n",
    "data = labeled_data[0]\n",
    "print('\\n',data)\n",
    "data_df = pd.read_csv(data_dir+data)\n",
    "data = data_df['idxs'].values\n",
    "labels = torch.tensor(data_df['int_label'].values,dtype=torch.long)\n",
    "nlabels = len(data_df['int_label'].unique())\n",
    "device = 'cuda:1'\n",
    "\n",
    "\n",
    "\n",
    "class Dataset_MutationList(Dataset):\n",
    "    def __init__(self, data, labels, embeddings, device):\n",
    "        load_str = lambda x: list(map(int,x.split(',')))\n",
    "        self.data = [load_str(i) for i in data]\n",
    "        self.labels = labels\n",
    "        self.embeddings = embeddings\n",
    "        self.device = device\n",
    "\n",
    "    def __len__(self):\n",
    "        return len(self.data)\n",
    "\n",
    "    def __getitem__(self, idx):\n",
    "        idxs = self.data[idx]\n",
    "        emb = torch.stack([torch.tensor(self.embeddings[i],dtype=torch.float32) for i in idxs])\n",
    "        return emb.to(self.device), self.labels[idx].to(self.device)\n",
    "\n",
    "def custom_collate(batch):\n",
    "    data = [item[0] for item in batch]\n",
    "    labels = [item[1] for item in batch]\n",
    "    data = pad_sequence(data, batch_first=True, padding_value=float('-inf'))\n",
    "    labels = torch.stack(labels)\n",
    "    return data, labels\n",
    "\n",
    "# Create dataset\n",
    "dataset = Dataset_MutationList(data, labels, canonical_mut_embeddings_esm2,device)\n",
    "\n",
    "# Create DataLoader\n",
    "# dataloader = DataLoader(dataset, batch_size=100, shuffle=False, collate_fn=custom_collate)"
   ]
  },
  {
   "cell_type": "code",
   "execution_count": 52,
   "metadata": {},
   "outputs": [
    {
     "name": "stdout",
     "output_type": "stream",
     "text": [
      "17\n"
     ]
    },
    {
     "data": {
      "text/plain": [
       "0.22298445159933342"
      ]
     },
     "execution_count": 52,
     "metadata": {},
     "output_type": "execute_result"
    }
   ],
   "source": [
    "print(len(data_df['int_label'].unique()))\n",
    "sorted(data_df['int_label'].value_counts(),reverse=True)[0]/len(data_df['int_label'])"
   ]
  },
  {
   "cell_type": "code",
   "execution_count": 37,
   "metadata": {},
   "outputs": [],
   "source": [
    "test_size = .2\n",
    "random_state = 42\n",
    "batch_size = 1\n",
    "indices = list(range(len(dataset)))\n",
    "\n",
    "train_indices, test_indices = train_test_split(\n",
    "    indices, \n",
    "    test_size=test_size, \n",
    "    random_state=random_state\n",
    ")\n",
    "\n",
    "train_dataset = Subset(dataset, train_indices)\n",
    "test_dataset = Subset(dataset, test_indices)\n",
    "    \n",
    "train_loader = DataLoader(train_dataset, batch_size=batch_size, shuffle=True, collate_fn=custom_collate)\n",
    "test_loader = DataLoader(test_dataset, batch_size=batch_size, shuffle=False, collate_fn=custom_collate)"
   ]
  },
  {
   "cell_type": "code",
   "execution_count": 39,
   "metadata": {},
   "outputs": [
    {
     "name": "stdout",
     "output_type": "stream",
     "text": [
      "n labels: 53\n"
     ]
    },
    {
     "name": "stderr",
     "output_type": "stream",
     "text": [
      "TRAINING:   0%|          | 25/126309 [00:00<08:33, 245.83it/s, Epoch=1/2, Loss: 2.3743]"
     ]
    },
    {
     "name": "stdout",
     "output_type": "stream",
     "text": [
      "\n"
     ]
    },
    {
     "name": "stderr",
     "output_type": "stream",
     "text": [
      "TRAINING:  16%|█▌        | 20039/126309 [01:01<05:53, 300.49it/s, Epoch=1/2, Loss: 3.9058] "
     ]
    },
    {
     "name": "stdout",
     "output_type": "stream",
     "text": [
      "\n"
     ]
    },
    {
     "name": "stderr",
     "output_type": "stream",
     "text": [
      "TRAINING:  32%|███▏      | 40043/126309 [02:05<04:38, 310.22it/s, Epoch=1/2, Loss: 3.2580] "
     ]
    },
    {
     "name": "stdout",
     "output_type": "stream",
     "text": [
      "\n"
     ]
    },
    {
     "name": "stderr",
     "output_type": "stream",
     "text": [
      "TRAINING:  48%|████▊     | 60058/126309 [03:08<03:37, 304.73it/s, Epoch=1/2, Loss: 4.0662]"
     ]
    },
    {
     "name": "stdout",
     "output_type": "stream",
     "text": [
      "\n"
     ]
    },
    {
     "name": "stderr",
     "output_type": "stream",
     "text": [
      "TRAINING:  63%|██████▎   | 80044/126309 [04:10<02:17, 336.08it/s, Epoch=1/2, Loss: 4.9720] "
     ]
    },
    {
     "name": "stdout",
     "output_type": "stream",
     "text": [
      "\n"
     ]
    },
    {
     "name": "stderr",
     "output_type": "stream",
     "text": [
      "TRAINING:  79%|███████▉  | 100066/126309 [05:10<01:21, 323.16it/s, Epoch=1/2, Loss: 0.9754]"
     ]
    },
    {
     "name": "stdout",
     "output_type": "stream",
     "text": [
      "\n"
     ]
    },
    {
     "name": "stderr",
     "output_type": "stream",
     "text": [
      "TRAINING:  95%|█████████▌| 120049/126309 [06:10<00:18, 331.36it/s, Epoch=1/2, Loss: 3.9673] "
     ]
    },
    {
     "name": "stdout",
     "output_type": "stream",
     "text": [
      "\n"
     ]
    },
    {
     "name": "stderr",
     "output_type": "stream",
     "text": [
      "TRAINING: 100%|██████████| 126309/126309 [06:30<00:00, 323.45it/s, Epoch=1/2, Loss: 2.1586] \n",
      "TESTING: 100%|██████████| 31578/31578 [00:18<00:00, 1752.56it/s]\n"
     ]
    },
    {
     "name": "stdout",
     "output_type": "stream",
     "text": [
      "Test Accuracy: 28.28%, (8931 of 31578)\n"
     ]
    },
    {
     "name": "stderr",
     "output_type": "stream",
     "text": [
      "TRAINING:   0%|          | 30/126309 [00:00<07:14, 290.68it/s, Epoch=2/2, Loss: 2.8743]"
     ]
    },
    {
     "name": "stdout",
     "output_type": "stream",
     "text": [
      "\n"
     ]
    },
    {
     "name": "stderr",
     "output_type": "stream",
     "text": [
      "TRAINING:  16%|█▌        | 20041/126309 [01:02<05:40, 312.40it/s, Epoch=2/2, Loss: 0.9787] "
     ]
    },
    {
     "name": "stdout",
     "output_type": "stream",
     "text": [
      "\n"
     ]
    },
    {
     "name": "stderr",
     "output_type": "stream",
     "text": [
      "TRAINING:  32%|███▏      | 40048/126309 [01:59<04:13, 339.97it/s, Epoch=2/2, Loss: 2.0093] "
     ]
    },
    {
     "name": "stdout",
     "output_type": "stream",
     "text": [
      "\n"
     ]
    },
    {
     "name": "stderr",
     "output_type": "stream",
     "text": [
      "TRAINING:  48%|████▊     | 60022/126309 [03:19<06:24, 172.25it/s, Epoch=2/2, Loss: 2.9356] "
     ]
    },
    {
     "name": "stdout",
     "output_type": "stream",
     "text": [
      "\n"
     ]
    },
    {
     "name": "stderr",
     "output_type": "stream",
     "text": [
      "TRAINING:  63%|██████▎   | 80032/126309 [05:22<04:44, 162.54it/s, Epoch=2/2, Loss: 3.7510] "
     ]
    },
    {
     "name": "stdout",
     "output_type": "stream",
     "text": [
      "\n"
     ]
    },
    {
     "name": "stderr",
     "output_type": "stream",
     "text": [
      "TRAINING:  79%|███████▉  | 100019/126309 [07:26<02:32, 172.95it/s, Epoch=2/2, Loss: 3.7674]"
     ]
    },
    {
     "name": "stdout",
     "output_type": "stream",
     "text": [
      "\n"
     ]
    },
    {
     "name": "stderr",
     "output_type": "stream",
     "text": [
      "TRAINING:  95%|█████████▌| 120023/126309 [09:24<00:36, 170.86it/s, Epoch=2/2, Loss: 4.7967] "
     ]
    },
    {
     "name": "stdout",
     "output_type": "stream",
     "text": [
      "\n"
     ]
    },
    {
     "name": "stderr",
     "output_type": "stream",
     "text": [
      "TRAINING: 100%|██████████| 126309/126309 [10:00<00:00, 210.22it/s, Epoch=2/2, Loss: 1.4373] \n",
      "TESTING: 100%|██████████| 31578/31578 [02:09<00:00, 244.20it/s]"
     ]
    },
    {
     "name": "stdout",
     "output_type": "stream",
     "text": [
      "Test Accuracy: 34.69%, (10954 of 31578)\n"
     ]
    },
    {
     "name": "stderr",
     "output_type": "stream",
     "text": [
      "\n"
     ]
    }
   ],
   "source": [
    "import torch.optim as optim\n",
    "from tqdm import tqdm\n",
    "\n",
    "print('n labels:',nlabels)\n",
    "model = Classifier(input_dim=640, n_labels=nlabels)\n",
    "model.to(device)\n",
    "# model = SelfAttentionClassifier(input_dim=640, hidden_dim=640, num_classes=804)\n",
    "\n",
    "num_epochs = 2\n",
    "learning_rate = 0.001\n",
    "\n",
    "# Loss function and optimizer\n",
    "criterion = nn.CrossEntropyLoss()\n",
    "optimizer = optim.Adam(model.parameters(), lr=learning_rate)\n",
    "\n",
    "# Training loop\n",
    "for epoch in range(num_epochs):\n",
    "    model.train()\n",
    "    with tqdm(enumerate(train_loader), total=len(train_loader),desc='TRAINING') as pbar:\n",
    "        for batch_idx, (data, target) in pbar:\n",
    "            optimizer.zero_grad()\n",
    "            output = model(data)\n",
    "            # assert False\n",
    "            loss = criterion(output, target)\n",
    "            loss.backward()\n",
    "            optimizer.step()\n",
    "            pbar.set_postfix({'Epoch':f'{epoch+1}/{num_epochs}, Loss: {loss.item():.4f}'})\n",
    "            if batch_idx % 20000 == 0:\n",
    "                print('')\n",
    "\n",
    "        # Evaluation\n",
    "        model.eval()\n",
    "        correct = 0\n",
    "        total = 0\n",
    "\n",
    "        with torch.no_grad():\n",
    "            for data, target in tqdm(test_loader,desc='TESTING'):\n",
    "                output = model(data)\n",
    "                _, predicted = torch.max(output.data, 1)\n",
    "                total += target.size(0)\n",
    "                correct += (predicted == target).sum().item()\n",
    "\n",
    "        accuracy = 100 * correct / total\n",
    "        print(f'Test Accuracy: {accuracy:.2f}%, ({correct} of {total})')"
   ]
  },
  {
   "cell_type": "code",
   "execution_count": null,
   "metadata": {},
   "outputs": [],
   "source": []
  },
  {
   "cell_type": "code",
   "execution_count": null,
   "metadata": {},
   "outputs": [],
   "source": []
  }
 ],
 "metadata": {
  "kernelspec": {
   "display_name": "deepV_a100",
   "language": "python",
   "name": "python3"
  },
  "language_info": {
   "codemirror_mode": {
    "name": "ipython",
    "version": 3
   },
   "file_extension": ".py",
   "mimetype": "text/x-python",
   "name": "python",
   "nbconvert_exporter": "python",
   "pygments_lexer": "ipython3",
   "version": "3.10.12"
  }
 },
 "nbformat": 4,
 "nbformat_minor": 2
}
