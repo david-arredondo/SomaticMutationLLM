{
 "cells": [
  {
   "cell_type": "code",
   "execution_count": 1,
   "metadata": {},
   "outputs": [
    {
     "name": "stderr",
     "output_type": "stream",
     "text": [
      "/home/dandreas/.conda/envs/deepV_a100/lib/python3.10/site-packages/pandas/core/arrays/masked.py:60: UserWarning: Pandas requires version '1.3.6' or newer of 'bottleneck' (version '1.3.5' currently installed).\n",
      "  from pandas.core import (\n",
      "/home/dandreas/.conda/envs/deepV_a100/lib/python3.10/site-packages/transformers/utils/generic.py:441: FutureWarning: `torch.utils._pytree._register_pytree_node` is deprecated. Please use `torch.utils._pytree.register_pytree_node` instead.\n",
      "  _torch_pytree._register_pytree_node(\n"
     ]
    },
    {
     "name": "stdout",
     "output_type": "stream",
     "text": [
      "loading data from ../aa/tumors.pkl\n",
      "loading data from ../data_processing/consolidated_data.pkl\n",
      "loading data from ../data_processing/dna_seq_by_hgncId.pkl\n",
      "loading data from ../aa/canonical_ref.pkl\n",
      "loading data from ../aa/canonical_mut.pkl\n",
      "loading data from ../aa/assays.pkl\n"
     ]
    }
   ],
   "source": [
    "from train_setup import *"
   ]
  },
  {
   "cell_type": "code",
   "execution_count": null,
   "metadata": {},
   "outputs": [],
   "source": [
    "# snv150_df = get_snv150_df(class_data, data, tumors, seqs, ref_aa, mut_aa).to_csv('snv150_df.csv')\n",
    "# snv150_msk468_df = get_snv150_df(class_data_msk468, data, tumors, seqs, ref_aa, mut_aa).to_csv('snv150_msk468_df.csv')\n",
    "# snv150_df_withPos = get_snv150_withPos_df(class_data, data, tumors, seqs, ref_aa, mut_aa).to_csv('snv150_df_withPos.csv')\n",
    "# snv150_msk468_df_withPos = get_snv150_withPos_df(class_data_msk468, data, tumors, seqs, ref_aa, mut_aa).to_csv('snv150_msk468_df_withPos.csv')\n",
    "\n",
    "# snv150_survival_df = get_snv150_df(survival_data, data, tumors, seqs, ref_aa, mut_aa).to_csv('snv150_survival_df.csv')\n",
    "# snv150_msk468_survival_df = get_snv150_df(survival_data_msk468, data, tumors, seqs, ref_aa, mut_aa).to_csv('snv150_msk468_survival_df.csv')\n",
    "# snv150_survival_df_withPos = get_snv150_withPos_df(survival_data, data, tumors, seqs, ref_aa, mut_aa).to_csv('snv150_survival_df_withPos.csv')\n",
    "# snv150_msk468_survival_df_withPos = get_snv150_withPos_df(survival_data_msk468, data, tumors, seqs, ref_aa, mut_aa).to_csv('snv150_msk468_survival_df_withPos.csv')\n",
    "\n",
    "snv150_survival_df = pd.read_csv('snv150_survival_df.csv', index_col=0)\n",
    "snv150_msk468_survival_df = pd.read_csv('snv150_msk468_survival_df.csv', index_col=0)\n",
    "snv150_survival_df_withPos = pd.read_csv('snv150_survival_df_withPos.csv', index_col=0)\n",
    "snv150_msk468_survival_df_withPos = pd.read_csv('snv150_msk468_survival_df_withPos.csv', index_col=0)\n",
    "\n",
    "snv150_df = pd.read_csv('snv150_df.csv', index_col=0)\n",
    "snv150_msk468_df = pd.read_csv('snv150_msk468_df.csv', index_col=0)\n",
    "snv150_df_withPos = pd.read_csv('snv150_df_withPos.csv', index_col=0)\n",
    "snv150_msk468_df_withPos = pd.read_csv('snv150_msk468_df_withPos.csv', index_col=0)"
   ]
  },
  {
   "cell_type": "code",
   "execution_count": null,
   "metadata": {},
   "outputs": [
    {
     "name": "stderr",
     "output_type": "stream",
     "text": [
      "100%|██████████| 143530/143530 [00:07<00:00, 19633.70it/s]\n"
     ]
    }
   ],
   "source": [
    "# snv150_dfs_with_somatt = get_snv150_df(class_data, data, tumors, seqs, ref_aa, mut_aa, return_somatt_df=True)\n",
    "# snv150_msk468_dfs_with_somatt = get_snv150_df(class_data_msk468, data, tumors, seqs, ref_aa, mut_aa, return_somatt_df=True)\n",
    "# snv150_dfs_withPos_with_somatt = get_snv150_withPos_df(class_data, data, tumors, seqs, ref_aa, mut_aa,  return_somatt_df=True)\n",
    "# snv150_msk468_dfs_withPos_with_somatt = get_snv150_withPos_df(class_data_msk468, data, tumors, seqs, ref_aa, mut_aa,  return_somatt_df=True)\n",
    "\n",
    "# snv150_survival_dfs_with_somatt = get_snv150_df(survival_data, data, tumors, seqs, ref_aa, mut_aa,  return_somatt_df=True)\n",
    "# snv150_msk468_survival_dfs_with_somatt = get_snv150_df(survival_data_msk468, data, tumors, seqs, ref_aa, mut_aa,  return_somatt_df=True)\n",
    "# snv150_survival_dfs_withPos_with_somatt = get_snv150_withPos_df(survival_data, data, tumors, seqs, ref_aa, mut_aa,  return_somatt_df=True)\n",
    "# snv150_msk468_survival_dfs_withPos_with_somatt = get_snv150_withPos_df(survival_data_msk468, data, tumors, seqs, ref_aa, mut_aa,  return_somatt_df=True)"
   ]
  },
  {
   "cell_type": "code",
   "execution_count": 4,
   "metadata": {},
   "outputs": [
    {
     "name": "stdout",
     "output_type": "stream",
     "text": [
      "Accuracy: 0.31791263150560856\n",
      "                              precision    recall  f1-score   support\n",
      "\n",
      "              Bladder Cancer       0.39      0.35      0.37       992\n",
      "               Breast Cancer       0.26      0.34      0.29      3084\n",
      "   Cancer of Unknown Primary       0.08      0.01      0.02      1110\n",
      "           Colorectal Cancer       0.30      0.48      0.37      3441\n",
      "          Endometrial Cancer       0.31      0.13      0.18      1199\n",
      "      Esophagogastric Cancer       0.13      0.03      0.05       957\n",
      "                      Glioma       0.26      0.25      0.25      2252\n",
      "        Head and Neck Cancer       0.03      0.00      0.01       407\n",
      "        Hepatobiliary Cancer       0.11      0.03      0.05       720\n",
      "                    Leukemia       0.28      0.19      0.23       808\n",
      "     Mature B-Cell Neoplasms       0.29      0.11      0.16      1137\n",
      "                    Melanoma       0.53      0.57      0.55      1357\n",
      "Myeloproliferative Neoplasms       0.49      0.59      0.54       379\n",
      "  Non-Small Cell Lung Cancer       0.38      0.63      0.47      5052\n",
      "              Ovarian Cancer       0.17      0.08      0.11      1340\n",
      "           Pancreatic Cancer       0.30      0.37      0.33      1528\n",
      "             Prostate Cancer       0.14      0.07      0.09      1145\n",
      "        Renal Cell Carcinoma       0.11      0.02      0.04       510\n",
      "         Soft Tissue Sarcoma       0.12      0.03      0.05       832\n",
      "              Thyroid Cancer       0.20      0.12      0.15       456\n",
      "\n",
      "                    accuracy                           0.32     28706\n",
      "                   macro avg       0.24      0.22      0.22     28706\n",
      "                weighted avg       0.28      0.32      0.28     28706\n",
      "\n",
      "Accuracy: 0.36189825879139637\n",
      "                            precision    recall  f1-score   support\n",
      "\n",
      "            Bladder Cancer       0.48      0.45      0.46       336\n",
      "             Breast Cancer       0.31      0.48      0.38       888\n",
      " Cancer of Unknown Primary       0.07      0.01      0.02       217\n",
      "         Colorectal Cancer       0.39      0.54      0.45       649\n",
      "        Endometrial Cancer       0.35      0.21      0.26       335\n",
      "    Esophagogastric Cancer       0.18      0.05      0.08       221\n",
      "                    Glioma       0.20      0.19      0.20       243\n",
      "      Head and Neck Cancer       0.00      0.00       nan        88\n",
      "      Hepatobiliary Cancer       0.10      0.03      0.05       174\n",
      "   Mature B-Cell Neoplasms        nan      0.00       nan         4\n",
      "                  Melanoma       0.63      0.63      0.63       233\n",
      "Non-Small Cell Lung Cancer       0.47      0.57      0.51       954\n",
      "            Ovarian Cancer       0.13      0.06      0.09       302\n",
      "         Pancreatic Cancer       0.42      0.53      0.47       432\n",
      "           Prostate Cancer       0.17      0.16      0.17       378\n",
      "      Renal Cell Carcinoma       0.16      0.04      0.07       121\n",
      "       Soft Tissue Sarcoma       0.16      0.08      0.11       195\n",
      "            Thyroid Cancer       0.37      0.42      0.39        88\n",
      "\n",
      "                  accuracy                           0.36      5858\n",
      "                 macro avg       0.27      0.25      0.27      5858\n",
      "              weighted avg       0.32      0.36      0.34      5858\n",
      "\n"
     ]
    }
   ],
   "source": [
    "from sklearn.ensemble import RandomForestClassifier\n",
    "from sklearn.model_selection import train_test_split\n",
    "from sklearn.metrics import accuracy_score, classification_report\n",
    "\n",
    "# 1) Merge label (CANCER_TYPE) onto snv150_df\n",
    "#    snv150_df is indexed by barcode, so we merge on the index vs. class_data['barcode']\n",
    "def run_rf(snv150_df):\n",
    "    df_merged = snv150_df.merge(\n",
    "        class_data[['barcode', 'CANCER_TYPE']], \n",
    "        left_index=True, \n",
    "        right_on='barcode'\n",
    "    )\n",
    "\n",
    "    # 2) Separate features (the 150 SNV columns) and the label (CANCER_TYPE).\n",
    "    X = df_merged[snv150_df.columns]  # the 150 mutation features\n",
    "    y = df_merged['CANCER_TYPE']\n",
    "\n",
    "    # 3) Split into train/test sets\n",
    "    X_train, X_test, y_train, y_test = train_test_split(\n",
    "        X, y, \n",
    "        test_size=0.2, \n",
    "        random_state=42\n",
    "    )\n",
    "\n",
    "    # 4) Train a Random Forest\n",
    "    rf = RandomForestClassifier(\n",
    "        n_estimators=100, \n",
    "        random_state=42,\n",
    "        n_jobs=-1\n",
    "    )\n",
    "    rf.fit(X_train, y_train)\n",
    "\n",
    "    # 5) Predict and evaluate\n",
    "    y_pred = rf.predict(X_test)\n",
    "\n",
    "    print(\"Accuracy:\", accuracy_score(y_test, y_pred))\n",
    "    print(classification_report(y_test, y_pred, zero_division=np.nan))\n",
    "\n",
    "run_rf(snv150_df)\n",
    "run_rf(snv150_msk468_df)"
   ]
  },
  {
   "cell_type": "code",
   "execution_count": 22,
   "metadata": {},
   "outputs": [],
   "source": [
    "import torch\n",
    "import torch.nn as nn\n",
    "import torch.optim as optim\n",
    "\n",
    "class DNN(nn.Module):\n",
    "    def __init__(self, \n",
    "                 in_features, \n",
    "                 out_features,\n",
    "                 emb_dim = 640, \n",
    "                 dropout_rate=1e-6, \n",
    "                 activation=nn.ReLU):\n",
    "        super(DNN, self).__init__()\n",
    "        \n",
    "        self.act = activation()\n",
    "        self.drop = nn.Dropout(p=dropout_rate)\n",
    "        self.out_features = out_features\n",
    "        \n",
    "        self.fc1 = nn.Linear(in_features, in_features)\n",
    "        self.fc2 = nn.Linear(in_features, emb_dim)\n",
    "        self.fc3 = nn.Linear(emb_dim, emb_dim)\n",
    "        self.norm = nn.LayerNorm(emb_dim)\n",
    "        self.fc_out = nn.Linear(emb_dim, out_features)\n",
    "\n",
    "        self.apply(self._init_weights)\n",
    "\n",
    "    def _init_weights(self, module):\n",
    "        if isinstance(module, nn.Linear):\n",
    "            torch.nn.init.normal_(module.weight, mean=0.0, std=0.02)\n",
    "            if module.bias is not None:\n",
    "                torch.nn.init.zeros_(module.bias)\n",
    "\n",
    "    def forward(self, x):\n",
    "        x = self.fc1(x)\n",
    "        x = self.act(x)\n",
    "        x = self.drop(x)\n",
    "        \n",
    "        x = self.fc2(x)\n",
    "        x = self.act(x)\n",
    "        x = self.drop(x)\n",
    "        \n",
    "        x = self.fc3(x)\n",
    "        x = self.act(x)\n",
    "        x = self.drop(x)\n",
    "\n",
    "        if self.out_features==1: x = self.norm(x)\n",
    "        \n",
    "        x = self.fc_out(x)\n",
    "        return x"
   ]
  },
  {
   "cell_type": "code",
   "execution_count": 6,
   "metadata": {},
   "outputs": [],
   "source": [
    "def run_experiment(\n",
    "    data_splits, \n",
    "    model, \n",
    "    num_epochs=100, \n",
    "    learning_rate = .001,\n",
    "    l2_penalty=.001, \n",
    "    device=\"cpu\",\n",
    "    survival = False\n",
    "    # model_type=\"sklearn\"\n",
    "):\n",
    "\n",
    "    if survival:\n",
    "        X_train, X_test, time_train, time_test, event_train, event_test = data_splits\n",
    "        criterion = negative_log_partial_likelihood\n",
    "    else:\n",
    "        X_train, X_test, y_train, y_test = data_splits\n",
    "        criterion = nn.CrossEntropyLoss()\n",
    "        X_train_tensor = torch.FloatTensor(X_train.values).to(device)\n",
    "        y_train_tensor = torch.LongTensor(y_train.factorize()[0]).to(device)\n",
    "        classes = y_train.factorize()[1]\n",
    "\n",
    "    # if model_type == \"sklearn\":\n",
    "    #     model.fit(X_train, y_train)\n",
    "    #     y_pred = model.predict(X_test)\n",
    "\n",
    "    # elif model_type == \"DNN\":\n",
    "    model.to(device)\n",
    "    \n",
    "    optimizer = optim.Adam(\n",
    "        model.parameters(), \n",
    "        lr=learning_rate, \n",
    "        weight_decay=l2_penalty\n",
    "    )\n",
    "\n",
    "    for epoch in range(num_epochs):\n",
    "        model.train()\n",
    "        optimizer.zero_grad()\n",
    "        outputs = model(X_train_tensor)\n",
    "        loss = criterion(outputs, y_train_tensor)\n",
    "        loss.backward()\n",
    "        optimizer.step()\n",
    "\n",
    "        if (epoch + 1) % 5 == 0:\n",
    "            print(f\"Epoch [{epoch+1}/{num_epochs}], Loss: {loss.item():.6f}\")\n",
    "\n",
    "    # 5b) Predict on X_test\n",
    "    model.eval()\n",
    "    with torch.no_grad():\n",
    "        X_test_tensor = torch.FloatTensor(X_test.values).to(device)\n",
    "        outputs_test = model(X_test_tensor)\n",
    "        _, predicted_labels = torch.max(outputs_test, dim=1)\n",
    "\n",
    "    # Convert predicted label indices back to the original class names\n",
    "    y_pred = classes[predicted_labels.cpu()]\n",
    "\n",
    "    # Common evaluation\n",
    "    print(\"Accuracy:\", accuracy_score(y_test, y_pred))\n",
    "    print(classification_report(y_test, y_pred, zero_division=0))"
   ]
  },
  {
   "cell_type": "code",
   "execution_count": null,
   "metadata": {},
   "outputs": [
    {
     "name": "stdout",
     "output_type": "stream",
     "text": [
      "143530 samples\n",
      "129608 unique patients\n",
      "20 labels\n",
      "\n",
      "FOLD 1\n"
     ]
    },
    {
     "name": "stderr",
     "output_type": "stream",
     "text": [
      "TRAINING:   1%|          | 2/230 [00:06<11:42,  3.08s/it, Epoch=1/2, Loss: 2.9997]\n"
     ]
    },
    {
     "ename": "KeyboardInterrupt",
     "evalue": "",
     "output_type": "error",
     "traceback": [
      "\u001b[0;31m---------------------------------------------------------------------------\u001b[0m",
      "\u001b[0;31mKeyboardInterrupt\u001b[0m                         Traceback (most recent call last)",
      "Cell \u001b[0;32mIn[4], line 1\u001b[0m\n\u001b[0;32m----> 1\u001b[0m \u001b[43mrun_fusion\u001b[49m\u001b[43m(\u001b[49m\n\u001b[1;32m      2\u001b[0m \u001b[43m    \u001b[49m\u001b[43mclass_data\u001b[49m\u001b[43m,\u001b[49m\u001b[43m \u001b[49m\n\u001b[1;32m      3\u001b[0m \u001b[43m    \u001b[49m\u001b[43msnv150_dfs_with_somatt\u001b[49m\u001b[43m,\u001b[49m\n\u001b[1;32m      4\u001b[0m \u001b[43m    \u001b[49m\u001b[43mmut_embeddings\u001b[49m\u001b[43m,\u001b[49m\n\u001b[1;32m      5\u001b[0m \u001b[43m    \u001b[49m\u001b[43mref_embeddings\u001b[49m\u001b[43m,\u001b[49m\n\u001b[1;32m      6\u001b[0m \u001b[43m    \u001b[49m\u001b[43mtumors\u001b[49m\u001b[43m,\u001b[49m\n\u001b[1;32m      7\u001b[0m \u001b[43m    \u001b[49m\u001b[43massays\u001b[49m\u001b[43m,\u001b[49m\n\u001b[1;32m      8\u001b[0m \u001b[43m    \u001b[49m\u001b[43msurvival\u001b[49m\u001b[38;5;241;43m=\u001b[39;49m\u001b[38;5;28;43;01mFalse\u001b[39;49;00m\n\u001b[1;32m      9\u001b[0m \u001b[43m    \u001b[49m\u001b[43m)\u001b[49m\n",
      "File \u001b[0;32m~/SomaticMutationLLM/muat/fusion.py:72\u001b[0m, in \u001b[0;36mrun_fusion\u001b[0;34m(class_data, dfs, mut_embeddings, ref_embeddings, tumors, assays, fusion_dim, survival, device, num_epochs, n_folds, test_size)\u001b[0m\n\u001b[1;32m     70\u001b[0m \u001b[38;5;28mprint\u001b[39m(\u001b[38;5;124mf\u001b[39m\u001b[38;5;124m'\u001b[39m\u001b[38;5;130;01m\\n\u001b[39;00m\u001b[38;5;124mFOLD \u001b[39m\u001b[38;5;132;01m{\u001b[39;00mi\u001b[38;5;241m+\u001b[39m\u001b[38;5;241m1\u001b[39m\u001b[38;5;132;01m}\u001b[39;00m\u001b[38;5;124m'\u001b[39m)\n\u001b[1;32m     71\u001b[0m \u001b[38;5;66;03m# if saveName is not None: saveName = './best_models/' + saveName.split('.')[0] + f'_fold{i+1}.pt'\u001b[39;00m\n\u001b[0;32m---> 72\u001b[0m \u001b[43mtrain_fn\u001b[49m\u001b[43m(\u001b[49m\u001b[43mmodel\u001b[49m\u001b[43m,\u001b[49m\u001b[43mnum_epochs\u001b[49m\u001b[43m,\u001b[49m\u001b[43mtrain_loader\u001b[49m\u001b[43m,\u001b[49m\u001b[43mtest_loader\u001b[49m\u001b[43m,\u001b[49m\u001b[43m \u001b[49m\u001b[43mcriterion\u001b[49m\u001b[43m,\u001b[49m\u001b[43m \u001b[49m\u001b[43moptimizer\u001b[49m\u001b[43m,\u001b[49m\u001b[43m \u001b[49m\u001b[43msaveName\u001b[49m\u001b[43m \u001b[49m\u001b[38;5;241;43m=\u001b[39;49m\u001b[43m \u001b[49m\u001b[38;5;28;43;01mNone\u001b[39;49;00m\u001b[43m)\u001b[49m\n",
      "File \u001b[0;32m~/SomaticMutationLLM/muat/dnn.py:67\u001b[0m, in \u001b[0;36mtrain_classifier\u001b[0;34m(model, num_epochs, train_loader, test_loader, criterion, optimizer, saveName)\u001b[0m\n\u001b[1;32m     65\u001b[0m     loss\u001b[38;5;241m.\u001b[39mbackward()\n\u001b[1;32m     66\u001b[0m     optimizer\u001b[38;5;241m.\u001b[39mstep()\n\u001b[0;32m---> 67\u001b[0m     pbar\u001b[38;5;241m.\u001b[39mset_postfix({\u001b[38;5;124m'\u001b[39m\u001b[38;5;124mEpoch\u001b[39m\u001b[38;5;124m'\u001b[39m:\u001b[38;5;124mf\u001b[39m\u001b[38;5;124m'\u001b[39m\u001b[38;5;132;01m{\u001b[39;00mepoch\u001b[38;5;241m+\u001b[39m\u001b[38;5;241m1\u001b[39m\u001b[38;5;132;01m}\u001b[39;00m\u001b[38;5;124m/\u001b[39m\u001b[38;5;132;01m{\u001b[39;00mnum_epochs\u001b[38;5;132;01m}\u001b[39;00m\u001b[38;5;124m, Loss: \u001b[39m\u001b[38;5;132;01m{\u001b[39;00mloss\u001b[38;5;241m.\u001b[39mitem()\u001b[38;5;132;01m:\u001b[39;00m\u001b[38;5;124m.4f\u001b[39m\u001b[38;5;132;01m}\u001b[39;00m\u001b[38;5;124m'\u001b[39m})\n\u001b[1;32m     69\u001b[0m \u001b[38;5;66;03m# Evaluation\u001b[39;00m\n\u001b[1;32m     70\u001b[0m model\u001b[38;5;241m.\u001b[39meval()\n",
      "\u001b[0;31mKeyboardInterrupt\u001b[0m: "
     ]
    }
   ],
   "source": [
    "run_fusion(\n",
    "    class_data, \n",
    "    snv150_dfs_with_somatt,\n",
    "    mut_embeddings,\n",
    "    ref_embeddings,\n",
    "    tumors,\n",
    "    assays,\n",
    "    survival=False\n",
    "    )"
   ]
  },
  {
   "cell_type": "code",
   "execution_count": 12,
   "metadata": {},
   "outputs": [
    {
     "name": "stdout",
     "output_type": "stream",
     "text": [
      "fusion dim 594\n",
      "29289 samples\n",
      "26663 unique patients\n",
      "18 labels\n",
      "\n",
      "FOLD 1\n"
     ]
    },
    {
     "name": "stderr",
     "output_type": "stream",
     "text": [
      "TRAINING: 100%|██████████| 47/47 [01:18<00:00,  1.68s/it, Epoch=1/2, Loss: 1.9503]\n",
      "TESTING: 100%|██████████| 12/12 [00:14<00:00,  1.23s/it]\n"
     ]
    },
    {
     "name": "stdout",
     "output_type": "stream",
     "text": [
      "Test Accuracy: 38.45%, (2253 of 5860)\n"
     ]
    },
    {
     "name": "stderr",
     "output_type": "stream",
     "text": [
      "TRAINING: 100%|██████████| 47/47 [01:21<00:00,  1.72s/it, Epoch=2/2, Loss: 1.6414]\n",
      "TESTING: 100%|██████████| 12/12 [00:16<00:00,  1.34s/it]"
     ]
    },
    {
     "name": "stdout",
     "output_type": "stream",
     "text": [
      "Test Accuracy: 50.24%, (2944 of 5860)\n",
      "Best Accuracy: 50.24% at epoch 1\n"
     ]
    },
    {
     "name": "stderr",
     "output_type": "stream",
     "text": [
      "\n"
     ]
    }
   ],
   "source": [
    "d = survival_data[survival_data['assay']=='MSK-IMPACT468']\n",
    "all_genes_468 = list(get_gene_indexes(d).keys())\n",
    "fusion_dim = 150 + len(all_genes_468)\n",
    "print(f'fusion dim {fusion_dim}')\n",
    "\n",
    "run_fusion(\n",
    "    class_data_msk468, \n",
    "    snv150_msk468_dfs_withPos_with_somatt,\n",
    "    mut_embeddings,\n",
    "    ref_embeddings,\n",
    "    tumors,\n",
    "    assays,\n",
    "    fusion_dim=fusion_dim,\n",
    "    num_epochs = 10,\n",
    "    survival=False\n",
    "    )"
   ]
  },
  {
   "cell_type": "code",
   "execution_count": null,
   "metadata": {},
   "outputs": [
    {
     "name": "stdout",
     "output_type": "stream",
     "text": [
      "36722 unique patients\n",
      "\n",
      "FOLD 1\n"
     ]
    },
    {
     "name": "stderr",
     "output_type": "stream",
     "text": [
      "TRAINING: 100%|██████████| 62/62 [00:01<00:00, 40.79it/s, Epoch=1/2, Loss: 4.2211]\n",
      "TESTING: 100%|██████████| 16/16 [00:00<00:00, 60.56it/s]\n"
     ]
    },
    {
     "name": "stdout",
     "output_type": "stream",
     "text": [
      "C-Index: 0.5798\n"
     ]
    },
    {
     "name": "stderr",
     "output_type": "stream",
     "text": [
      "TRAINING: 100%|██████████| 62/62 [00:01<00:00, 48.12it/s, Epoch=2/2, Loss: 4.2526]\n",
      "TESTING: 100%|██████████| 16/16 [00:00<00:00, 60.40it/s]\n"
     ]
    },
    {
     "name": "stdout",
     "output_type": "stream",
     "text": [
      "C-Index: 0.5908\n",
      "Best C-Index: 0.5908 at epoch 1\n"
     ]
    }
   ],
   "source": [
    "run_dnn(\n",
    "    class_data = survival_data, \n",
    "    df = snv150_df,\n",
    "    survival=True\n",
    "    )"
   ]
  },
  {
   "cell_type": "code",
   "execution_count": 23,
   "metadata": {},
   "outputs": [
    {
     "name": "stdout",
     "output_type": "stream",
     "text": [
      "5425 unique patients\n",
      "\n",
      "FOLD 1\n"
     ]
    },
    {
     "name": "stderr",
     "output_type": "stream",
     "text": [
      "TRAINING:   0%|          | 0/9 [00:00<?, ?it/s]"
     ]
    },
    {
     "name": "stderr",
     "output_type": "stream",
     "text": [
      "TRAINING: 100%|██████████| 9/9 [00:00<00:00, 51.73it/s, Epoch=1/2, Loss: 0.0000]\n",
      "TESTING: 100%|██████████| 3/3 [00:00<00:00, 78.56it/s]\n"
     ]
    },
    {
     "name": "stdout",
     "output_type": "stream",
     "text": [
      "C-Index: nan\n"
     ]
    },
    {
     "name": "stderr",
     "output_type": "stream",
     "text": [
      "TRAINING: 100%|██████████| 9/9 [00:00<00:00, 54.03it/s, Epoch=2/2, Loss: 0.0000]\n",
      "TESTING: 100%|██████████| 3/3 [00:00<00:00, 78.51it/s]"
     ]
    },
    {
     "name": "stdout",
     "output_type": "stream",
     "text": [
      "C-Index: nan\n",
      "Best C-Index: 0.0000 at epoch 0\n"
     ]
    },
    {
     "name": "stderr",
     "output_type": "stream",
     "text": [
      "\n"
     ]
    }
   ],
   "source": [
    "run_dnn(\n",
    "    class_data = survival_data[survival_data['assay']=='MSK-IMPACT468'],\n",
    "    df = snv150_msk468_survival_df,\n",
    "    survival=True\n",
    "    )"
   ]
  },
  {
   "cell_type": "code",
   "execution_count": 24,
   "metadata": {},
   "outputs": [
    {
     "name": "stdout",
     "output_type": "stream",
     "text": [
      "input dim 1439\n",
      "41117 unique patients\n",
      "\n",
      "FOLD 1\n"
     ]
    },
    {
     "name": "stderr",
     "output_type": "stream",
     "text": [
      "TRAINING: 100%|██████████| 69/69 [00:01<00:00, 37.65it/s, Epoch=1/2, Loss: 4.9916]\n",
      "TESTING: 100%|██████████| 18/18 [00:00<00:00, 53.07it/s]\n"
     ]
    },
    {
     "name": "stdout",
     "output_type": "stream",
     "text": [
      "C-Index: 0.6856\n"
     ]
    },
    {
     "name": "stderr",
     "output_type": "stream",
     "text": [
      "TRAINING: 100%|██████████| 69/69 [00:01<00:00, 37.77it/s, Epoch=2/2, Loss: 5.0106]\n",
      "TESTING: 100%|██████████| 18/18 [00:00<00:00, 53.00it/s]"
     ]
    },
    {
     "name": "stdout",
     "output_type": "stream",
     "text": [
      "C-Index: 0.6919\n",
      "Best C-Index: 0.6919 at epoch 1\n"
     ]
    },
    {
     "name": "stderr",
     "output_type": "stream",
     "text": [
      "\n"
     ]
    }
   ],
   "source": [
    "all_genes = list(get_gene_indexes(survival_data).keys())\n",
    "input_dim = 150 + len(all_genes)\n",
    "print(f'input dim {input_dim}')\n",
    "\n",
    "run_dnn(\n",
    "    class_data = survival_data, \n",
    "    df = snv150_survival_df_withPos,\n",
    "    input_dim = input_dim,\n",
    "    survival=True,\n",
    "    num_epochs = 2\n",
    "    )"
   ]
  },
  {
   "cell_type": "code",
   "execution_count": 25,
   "metadata": {},
   "outputs": [
    {
     "name": "stdout",
     "output_type": "stream",
     "text": [
      "input dim 594\n",
      "5425 unique patients\n",
      "\n",
      "FOLD 1\n"
     ]
    },
    {
     "name": "stderr",
     "output_type": "stream",
     "text": [
      "TRAINING: 100%|██████████| 9/9 [00:00<00:00, 51.29it/s, Epoch=1/2, Loss: 0.0000]\n",
      "TESTING: 100%|██████████| 3/3 [00:00<00:00, 74.43it/s]\n"
     ]
    },
    {
     "name": "stdout",
     "output_type": "stream",
     "text": [
      "C-Index: nan\n"
     ]
    },
    {
     "name": "stderr",
     "output_type": "stream",
     "text": [
      "TRAINING: 100%|██████████| 9/9 [00:00<00:00, 51.71it/s, Epoch=2/2, Loss: 0.0000]\n",
      "TESTING: 100%|██████████| 3/3 [00:00<00:00, 74.70it/s]"
     ]
    },
    {
     "name": "stdout",
     "output_type": "stream",
     "text": [
      "C-Index: nan\n",
      "Best C-Index: 0.0000 at epoch 0\n"
     ]
    },
    {
     "name": "stderr",
     "output_type": "stream",
     "text": [
      "\n"
     ]
    }
   ],
   "source": [
    "d = survival_data[survival_data['assay']=='MSK-IMPACT468']\n",
    "all_genes_468 = list(get_gene_indexes(d).keys())\n",
    "input_dim = 150 + len(all_genes_468)\n",
    "print(f'input dim {input_dim}')\n",
    "\n",
    "run_dnn(\n",
    "    class_data = d, \n",
    "    df = snv150_msk468_survival_df_withPos,\n",
    "    input_dim = input_dim,\n",
    "    survival=True\n",
    "    )"
   ]
  },
  {
   "cell_type": "code",
   "execution_count": 2,
   "metadata": {},
   "outputs": [
    {
     "name": "stderr",
     "output_type": "stream",
     "text": [
      "/home/dandreas/.conda/envs/deepV_a100/lib/python3.10/site-packages/pandas/core/arrays/masked.py:60: UserWarning: Pandas requires version '1.3.6' or newer of 'bottleneck' (version '1.3.5' currently installed).\n",
      "  from pandas.core import (\n",
      "/home/dandreas/.conda/envs/deepV_a100/lib/python3.10/site-packages/transformers/utils/generic.py:441: FutureWarning: `torch.utils._pytree._register_pytree_node` is deprecated. Please use `torch.utils._pytree.register_pytree_node` instead.\n",
      "  _torch_pytree._register_pytree_node(\n"
     ]
    },
    {
     "name": "stdout",
     "output_type": "stream",
     "text": [
      "loading data from ../aa/tumors.pkl\n",
      "loading data from ../data_processing/consolidated_data.pkl\n",
      "loading data from ../data_processing/dna_seq_by_hgncId.pkl\n",
      "loading data from ../aa/canonical_ref.pkl\n",
      "loading data from ../aa/canonical_mut.pkl\n",
      "loading data from ../aa/assays.pkl\n"
     ]
    },
    {
     "name": "stderr",
     "output_type": "stream",
     "text": [
      "100%|██████████| 143530/143530 [00:07<00:00, 19763.55it/s]\n",
      "100%|██████████| 143530/143530 [00:17<00:00, 8083.00it/s]\n",
      "100%|██████████| 29289/29289 [00:01<00:00, 19019.96it/s]\n",
      "100%|██████████| 29289/29289 [00:02<00:00, 13366.22it/s]\n",
      "100%|██████████| 42974/42974 [00:02<00:00, 19352.82it/s]\n",
      "100%|██████████| 42974/42974 [00:05<00:00, 8590.27it/s]\n",
      "100%|██████████| 5547/5547 [00:00<00:00, 19495.02it/s]\n",
      "100%|██████████| 5547/5547 [00:00<00:00, 13308.05it/s]\n"
     ]
    },
    {
     "name": "stdout",
     "output_type": "stream",
     "text": [
      "\n",
      "-------------------------------\n",
      "\n",
      "snv150_survival_fusion_msk468\n",
      "\n",
      "5547 samples\n",
      "5425 unique patients\n",
      "53 cancer types\n",
      "297 detailed cancer types\n"
     ]
    },
    {
     "ename": "TypeError",
     "evalue": "can't convert np.ndarray of type numpy.object_. The only supported types are: float64, float32, float16, complex64, complex128, int64, int32, int16, int8, uint64, uint32, uint16, uint8, and bool.",
     "output_type": "error",
     "traceback": [
      "\u001b[0;31m---------------------------------------------------------------------------\u001b[0m",
      "\u001b[0;31mTypeError\u001b[0m                                 Traceback (most recent call last)",
      "Cell \u001b[0;32mIn[2], line 56\u001b[0m\n\u001b[1;32m     51\u001b[0m         pos \u001b[38;5;241m=\u001b[39m \u001b[38;5;129;01mnot\u001b[39;00m pos\n\u001b[1;32m     53\u001b[0m \u001b[38;5;66;03m# run(df_class, class_data, False, lr = .001, e = 15, names = ['snv150_class_fusion','snv150_pos_class_fusion'])\u001b[39;00m\n\u001b[1;32m     54\u001b[0m \u001b[38;5;66;03m# run(df_class_msk, class_data_msk468, False, lr = .001, e = 15, names = ['snv150_class_fusion_msk468','snv150_pos_class_fusion_msk468'])   \u001b[39;00m\n\u001b[1;32m     55\u001b[0m \u001b[38;5;66;03m# run(df_surv, survival_data, True, lr = .0001, e = 5, names = ['snv150_survival_fusion','snv150_pos_survival_fusion'])\u001b[39;00m\n\u001b[0;32m---> 56\u001b[0m \u001b[43mrun\u001b[49m\u001b[43m(\u001b[49m\u001b[43mdf_surv_msk\u001b[49m\u001b[43m,\u001b[49m\u001b[43m \u001b[49m\u001b[43msurvival_data_msk468\u001b[49m\u001b[43m,\u001b[49m\u001b[43m \u001b[49m\u001b[38;5;28;43;01mTrue\u001b[39;49;00m\u001b[43m,\u001b[49m\u001b[43m \u001b[49m\u001b[43mlr\u001b[49m\u001b[43m \u001b[49m\u001b[38;5;241;43m=\u001b[39;49m\u001b[43m \u001b[49m\u001b[38;5;241;43m.0001\u001b[39;49m\u001b[43m,\u001b[49m\u001b[43m \u001b[49m\u001b[43me\u001b[49m\u001b[43m \u001b[49m\u001b[38;5;241;43m=\u001b[39;49m\u001b[43m \u001b[49m\u001b[38;5;241;43m5\u001b[39;49m\u001b[43m,\u001b[49m\u001b[43m \u001b[49m\u001b[43mnames\u001b[49m\u001b[43m \u001b[49m\u001b[38;5;241;43m=\u001b[39;49m\u001b[43m \u001b[49m\u001b[43m[\u001b[49m\u001b[38;5;124;43m'\u001b[39;49m\u001b[38;5;124;43msnv150_survival_fusion_msk468\u001b[39;49m\u001b[38;5;124;43m'\u001b[39;49m\u001b[43m,\u001b[49m\u001b[38;5;124;43m'\u001b[39;49m\u001b[38;5;124;43msnv150_pos_survival_fusion_msk468\u001b[39;49m\u001b[38;5;124;43m'\u001b[39;49m\u001b[43m]\u001b[49m\u001b[43m)\u001b[49m\n",
      "Cell \u001b[0;32mIn[2], line 38\u001b[0m, in \u001b[0;36mrun\u001b[0;34m(dfs, d, surv, e, names, lr)\u001b[0m\n\u001b[1;32m     36\u001b[0m \u001b[38;5;28mprint\u001b[39m(\u001b[38;5;124mf\u001b[39m\u001b[38;5;124m'\u001b[39m\u001b[38;5;130;01m\\n\u001b[39;00m\u001b[38;5;124m-------------------------------\u001b[39m\u001b[38;5;130;01m\\n\u001b[39;00m\u001b[38;5;130;01m\\n\u001b[39;00m\u001b[38;5;132;01m{\u001b[39;00mn\u001b[38;5;132;01m}\u001b[39;00m\u001b[38;5;130;01m\\n\u001b[39;00m\u001b[38;5;124m'\u001b[39m)\n\u001b[1;32m     37\u001b[0m fusion_dim \u001b[38;5;241m=\u001b[39m get_fusion_dim(d, pos \u001b[38;5;241m=\u001b[39m pos)\n\u001b[0;32m---> 38\u001b[0m \u001b[43mrun_fusion\u001b[49m\u001b[43m(\u001b[49m\n\u001b[1;32m     39\u001b[0m \u001b[43m    \u001b[49m\u001b[43md\u001b[49m\u001b[43m,\u001b[49m\u001b[43m \u001b[49m\n\u001b[1;32m     40\u001b[0m \u001b[43m    \u001b[49m\u001b[43mc\u001b[49m\u001b[43m,\u001b[49m\n\u001b[1;32m     41\u001b[0m \u001b[43m    \u001b[49m\u001b[43mmut_embeddings\u001b[49m\u001b[43m,\u001b[49m\n\u001b[1;32m     42\u001b[0m \u001b[43m    \u001b[49m\u001b[43mref_embeddings\u001b[49m\u001b[43m,\u001b[49m\n\u001b[1;32m     43\u001b[0m \u001b[43m    \u001b[49m\u001b[43mtumors\u001b[49m\u001b[43m,\u001b[49m\n\u001b[1;32m     44\u001b[0m \u001b[43m    \u001b[49m\u001b[43massays\u001b[49m\u001b[43m,\u001b[49m\n\u001b[1;32m     45\u001b[0m \u001b[43m    \u001b[49m\u001b[43mfusion_dim\u001b[49m\u001b[38;5;241;43m=\u001b[39;49m\u001b[43mfusion_dim\u001b[49m\u001b[43m,\u001b[49m\n\u001b[1;32m     46\u001b[0m \u001b[43m    \u001b[49m\u001b[43msurvival\u001b[49m\u001b[38;5;241;43m=\u001b[39;49m\u001b[43msurv\u001b[49m\u001b[43m,\u001b[49m\n\u001b[1;32m     47\u001b[0m \u001b[43m    \u001b[49m\u001b[43mnum_epochs\u001b[49m\u001b[38;5;241;43m=\u001b[39;49m\u001b[43me\u001b[49m\u001b[43m,\u001b[49m\n\u001b[1;32m     48\u001b[0m \u001b[43m    \u001b[49m\u001b[43msaveName\u001b[49m\u001b[43m \u001b[49m\u001b[38;5;241;43m=\u001b[39;49m\u001b[43m \u001b[49m\u001b[43mn\u001b[49m\u001b[43m,\u001b[49m\n\u001b[1;32m     49\u001b[0m \u001b[43m    \u001b[49m\u001b[43mlr\u001b[49m\u001b[43m \u001b[49m\u001b[38;5;241;43m=\u001b[39;49m\u001b[43m \u001b[49m\u001b[43mlr\u001b[49m\n\u001b[1;32m     50\u001b[0m \u001b[43m    \u001b[49m\u001b[43m)\u001b[49m\n\u001b[1;32m     51\u001b[0m pos \u001b[38;5;241m=\u001b[39m \u001b[38;5;129;01mnot\u001b[39;00m pos\n",
      "File \u001b[0;32m~/SomaticMutationLLM/muat/fusion.py:62\u001b[0m, in \u001b[0;36mrun_fusion\u001b[0;34m(class_data, dfs, mut_embeddings, ref_embeddings, tumors, assays, fusion_dim, survival, device, num_epochs, n_folds, test_size, lr, saveName)\u001b[0m\n\u001b[1;32m     55\u001b[0m df_merged \u001b[38;5;241m=\u001b[39m df\u001b[38;5;241m.\u001b[39mmerge(\n\u001b[1;32m     56\u001b[0m     class_data[to_merge], \n\u001b[1;32m     57\u001b[0m     left_index\u001b[38;5;241m=\u001b[39m\u001b[38;5;28;01mTrue\u001b[39;00m, \n\u001b[1;32m     58\u001b[0m     right_on\u001b[38;5;241m=\u001b[39m\u001b[38;5;124m'\u001b[39m\u001b[38;5;124mbarcode\u001b[39m\u001b[38;5;124m'\u001b[39m\n\u001b[1;32m     59\u001b[0m     )\n\u001b[1;32m     61\u001b[0m dfs \u001b[38;5;241m=\u001b[39m (df_merged, somatt_df)\n\u001b[0;32m---> 62\u001b[0m dataset \u001b[38;5;241m=\u001b[39m \u001b[43mdataset_class\u001b[49m\u001b[43m(\u001b[49m\u001b[43mdfs\u001b[49m\u001b[43m,\u001b[49m\u001b[43m \u001b[49m\u001b[43mmut_embeddings\u001b[49m\u001b[43m,\u001b[49m\u001b[43m \u001b[49m\u001b[43mref_embeddings\u001b[49m\u001b[43m,\u001b[49m\u001b[43m \u001b[49m\u001b[43mtumors\u001b[49m\u001b[43m,\u001b[49m\u001b[43m \u001b[49m\u001b[43massays\u001b[49m\u001b[43m,\u001b[49m\u001b[43m \u001b[49m\u001b[43mdevice\u001b[49m\u001b[43m)\u001b[49m        \n\u001b[1;32m     63\u001b[0m folds \u001b[38;5;241m=\u001b[39m getPatientGroupedLoaders(dataset, df_merged, n_folds\u001b[38;5;241m=\u001b[39mn_folds, test_size \u001b[38;5;241m=\u001b[39m test_size, batch_size \u001b[38;5;241m=\u001b[39m \u001b[38;5;241m500\u001b[39m, collate\u001b[38;5;241m=\u001b[39mcollate_fn)\n\u001b[1;32m     65\u001b[0m \u001b[38;5;28;01mfor\u001b[39;00m i, (train_loader, test_loader) \u001b[38;5;129;01min\u001b[39;00m \u001b[38;5;28menumerate\u001b[39m(folds):\n",
      "File \u001b[0;32m~/SomaticMutationLLM/muat/../model/custom_dataset.py:309\u001b[0m, in \u001b[0;36mDataset_Assay_Survival_Fusion.__init__\u001b[0;34m(self, data_dfs, mut_embeddings, ref_embeddings, tumors, assays, device)\u001b[0m\n\u001b[1;32m    306\u001b[0m \u001b[38;5;28mself\u001b[39m\u001b[38;5;241m.\u001b[39mref_map \u001b[38;5;241m=\u001b[39m {i[\u001b[38;5;241m5\u001b[39m]:i[\u001b[38;5;241m4\u001b[39m] \u001b[38;5;28;01mfor\u001b[39;00m j \u001b[38;5;129;01min\u001b[39;00m tumors\u001b[38;5;241m.\u001b[39mvalues() \u001b[38;5;28;01mfor\u001b[39;00m i \u001b[38;5;129;01min\u001b[39;00m j \u001b[38;5;28;01mfor\u001b[39;00m k \u001b[38;5;129;01min\u001b[39;00m i}\n\u001b[1;32m    307\u001b[0m \u001b[38;5;28mself\u001b[39m\u001b[38;5;241m.\u001b[39mdevice \u001b[38;5;241m=\u001b[39m device\n\u001b[0;32m--> 309\u001b[0m \u001b[38;5;28mself\u001b[39m\u001b[38;5;241m.\u001b[39mX \u001b[38;5;241m=\u001b[39m \u001b[43mtorch\u001b[49m\u001b[38;5;241;43m.\u001b[39;49m\u001b[43mtensor\u001b[49m\u001b[43m(\u001b[49m\u001b[43mdata_df\u001b[49m\u001b[38;5;241;43m.\u001b[39;49m\u001b[43mdrop\u001b[49m\u001b[43m(\u001b[49m\u001b[43mcolumns\u001b[49m\u001b[38;5;241;43m=\u001b[39;49m\u001b[43m[\u001b[49m\u001b[38;5;124;43m'\u001b[39;49m\u001b[38;5;124;43mtime\u001b[39;49m\u001b[38;5;124;43m'\u001b[39;49m\u001b[43m,\u001b[49m\u001b[38;5;124;43m'\u001b[39;49m\u001b[38;5;124;43mcensor\u001b[39;49m\u001b[38;5;124;43m'\u001b[39;49m\u001b[43m,\u001b[49m\u001b[38;5;124;43m'\u001b[39;49m\u001b[38;5;124;43mbarcode\u001b[39;49m\u001b[38;5;124;43m'\u001b[39;49m\u001b[43m,\u001b[49m\u001b[38;5;124;43m'\u001b[39;49m\u001b[38;5;124;43mpatient_id\u001b[39;49m\u001b[38;5;124;43m'\u001b[39;49m\u001b[43m]\u001b[49m\u001b[43m)\u001b[49m\u001b[38;5;241;43m.\u001b[39;49m\u001b[43mvalues\u001b[49m\u001b[43m,\u001b[49m\u001b[43mdtype\u001b[49m\u001b[38;5;241;43m=\u001b[39;49m\u001b[43mtorch\u001b[49m\u001b[38;5;241;43m.\u001b[39;49m\u001b[43mfloat32\u001b[49m\u001b[43m)\u001b[49m\n",
      "\u001b[0;31mTypeError\u001b[0m: can't convert np.ndarray of type numpy.object_. The only supported types are: float64, float32, float16, complex64, complex128, int64, int32, int16, int8, uint64, uint32, uint16, uint8, and bool."
     ]
    }
   ],
   "source": [
    "# from train_setup import *\n",
    "\n",
    "data_snv150 = lambda x: get_snv150_df(x, data, tumors, seqs, ref_aa, mut_aa, return_somatt_df=True)\n",
    "data_snv150_pos = lambda x: get_snv150_withPos_df(x, data, tumors, seqs, ref_aa, mut_aa, return_somatt_df=True)\n",
    "\n",
    "# snv\n",
    "df_class = [\n",
    "    data_snv150(class_data), \n",
    "    data_snv150_pos(class_data)\n",
    "]\n",
    "\n",
    "df_class_msk = [\n",
    "    data_snv150(class_data_msk468),\n",
    "    data_snv150_pos(class_data_msk468)\n",
    "] \n",
    "\n",
    "df_surv = [\n",
    "    data_snv150(survival_data),\n",
    "    data_snv150_pos(survival_data)\n",
    "]\n",
    "\n",
    "df_surv_msk = [\n",
    "    data_snv150(survival_data_msk468),\n",
    "    data_snv150_pos(survival_data_msk468)\n",
    "]\n",
    "\n",
    "def get_fusion_dim(d,pos=False):\n",
    "    if not pos: return 150\n",
    "    all_genes = list(get_gene_indexes(d, tumors, data, seqs, ref_aa, mut_aa).keys())\n",
    "    return 150 + len(all_genes)\n",
    "\n",
    "\n",
    "def run(dfs, d, surv, e, names, lr = None):\n",
    "    pos = False\n",
    "    for c,n in zip(dfs,names):\n",
    "        print(f'\\n-------------------------------\\n\\n{n}\\n')\n",
    "        fusion_dim = get_fusion_dim(d, pos = pos)\n",
    "        run_fusion(\n",
    "            d, \n",
    "            c,\n",
    "            mut_embeddings,\n",
    "            ref_embeddings,\n",
    "            tumors,\n",
    "            assays,\n",
    "            fusion_dim=fusion_dim,\n",
    "            survival=surv,\n",
    "            num_epochs=e,\n",
    "            saveName = n,\n",
    "            lr = lr\n",
    "            )\n",
    "        pos = not pos\n",
    "\n",
    "# run(df_class, class_data, False, lr = .001, e = 15, names = ['snv150_class_fusion','snv150_pos_class_fusion'])\n",
    "# run(df_class_msk, class_data_msk468, False, lr = .001, e = 15, names = ['snv150_class_fusion_msk468','snv150_pos_class_fusion_msk468'])   \n",
    "# run(df_surv, survival_data, True, lr = .0001, e = 5, names = ['snv150_survival_fusion','snv150_pos_survival_fusion'])\n",
    "run(df_surv_msk, survival_data_msk468, True, lr = .0001, e = 5, names = ['snv150_survival_fusion_msk468','snv150_pos_survival_fusion_msk468'])"
   ]
  },
  {
   "cell_type": "code",
   "execution_count": null,
   "metadata": {},
   "outputs": [],
   "source": []
  }
 ],
 "metadata": {
  "kernelspec": {
   "display_name": "deepV_a100",
   "language": "python",
   "name": "python3"
  },
  "language_info": {
   "codemirror_mode": {
    "name": "ipython",
    "version": 3
   },
   "file_extension": ".py",
   "mimetype": "text/x-python",
   "name": "python",
   "nbconvert_exporter": "python",
   "pygments_lexer": "ipython3",
   "version": "3.10.12"
  }
 },
 "nbformat": 4,
 "nbformat_minor": 2
}
