{
 "cells": [
  {
   "cell_type": "markdown",
   "metadata": {},
   "source": [
    "# VCF"
   ]
  },
  {
   "cell_type": "code",
   "execution_count": 1,
   "metadata": {},
   "outputs": [
    {
     "name": "stdout",
     "output_type": "stream",
     "text": [
      "loading data from ../aa/tumors.pkl\n",
      "loading data from ../data_processing/consolidated_data.pkl\n",
      "loading data from ../data_processing/dna_seq_by_hgncId.pkl\n",
      "loading data from ../aa/canonical_ref.pkl\n",
      "loading data from ../aa/canonical_mut.pkl\n"
     ]
    }
   ],
   "source": [
    "import pandas as pd\n",
    "from io import StringIO\n",
    "import gzip\n",
    "import numpy as np\n",
    "from saveAndLoad import *\n",
    "\n",
    "tumors = pickleLoad('../aa/tumors.pkl')\n",
    "data = pickleLoad('../data_processing/consolidated_data.pkl')\n",
    "seqs = pickleLoad('../data_processing/dna_seq_by_hgncId.pkl')\n",
    "ref_aa = pickleLoad('../aa/canonical_ref.pkl')\n",
    "mut_aa = pickleLoad('../aa/canonical_mut.pkl')"
   ]
  },
  {
   "cell_type": "code",
   "execution_count": 5,
   "metadata": {},
   "outputs": [
    {
     "name": "stdout",
     "output_type": "stream",
     "text": [
      "##fileformat=VCFv4.1\n",
      "#CHROM\tPOS\tID\tREF\tALT\tQUAL\tFILTER\tINFO\n",
      "1\t115256529\t.\tT\tC\t.\t.\tVariant_Classification=Missense_Mutation\n",
      "3\t41266080\t.\tA\tG\t.\t.\tVariant_Classification=Missense_Mutation\n",
      "3\t41266101\t.\tC\tT\t.\t.\tVariant_Classification=Missense_Mutation\n",
      "3\t178916944\t.\tA\tG\t.\t.\tVariant_Classification=Missense_Mutation\n",
      "3\t178952085\t.\tA\tG\t.\t.\tVariant_Classification=Missense_Mutation\n",
      "4\t55593673\t.\tA\tG\t.\t.\tVariant_Classification=Missense_Mutation\n",
      "5\t112175253\t.\tG\tC\t.\t.\tVariant_Classification=Missense_Mutation\n",
      "7\t55249071\t.\tC\tT\t.\t.\tVariant_Classification=Missense_Mutation\n",
      "7\t140453136\t.\tA\tT\t.\t.\tVariant_Classification=Missense_Mutation\n",
      "9\t21971153\t.\tC\tA\t.\t.\tVariant_Classification=Nonsense_Mutation\n",
      "11\t108123578\t.\tG\tT\t.\t.\tVariant_Classification=Missense_Mutation\n",
      "12\t25378636\t.\tG\tT\t.\t.\tVariant_Classification=Missense_Mutation\n",
      "12\t25398285\t.\tC\tA\t.\t.\tVariant_Classification=Missense_Mutation\n",
      "14\t105246455\t.\tC\tT\t.\t.\tVariant_Classification=Missense_Mutation\n",
      "14\t105246551\t.\tC\tT\t.\t.\tVariant_Classification=Missense_Mutation\n",
      "17\t7577120\t.\tC\tT\t.\t.\tVariant_Classification=Missense_Mutation\n",
      "17\t37880998\t.\tG\tT\t.\t.\tVariant_Classification=Missense_Mutation\n",
      "\n"
     ]
    }
   ],
   "source": [
    "def parse_chrom(chrom):\n",
    "    \"\"\"\n",
    "    Convert chromosome strings into numeric values for sorting.\n",
    "    E.g., 'chr1' -> 1, 'chrX' -> 23, 'chrY' -> 24, etc.\n",
    "    Adjust as needed if your chromosome naming is different.\n",
    "    \"\"\"\n",
    "    c = chrom.replace('chr', '').upper()  # remove 'chr' prefix\n",
    "    if c == 'X':\n",
    "        return 23\n",
    "    elif c == 'Y':\n",
    "        return 24\n",
    "    else:\n",
    "        return int(c)  # e.g., '1' -> 1, '10' -> 10\n",
    "\n",
    "def to_vcf(tumors, barcode, data, seqs, ref_aa, mut_aa, save=False, snv_only=False, gz = True, vcf = True, out_folder_0 = \"/data/dandreas/SomaticMutationsLLM/vcf_1_00percentMinCancerType/\"):\n",
    "    \n",
    "    # Collect all final VCF rows before sorting\n",
    "    unsorted_records = []\n",
    "\n",
    "    # Grab the indexes from the tumors structure\n",
    "    data_idxs = [i[-1] for i in tumors[barcode]]\n",
    "    ref_idxs = [i[4] for i in tumors[barcode]]\n",
    "    mut_idxs = [i[5] for i in tumors[barcode]]\n",
    "\n",
    "    # ---------------------------------------------------------\n",
    "    # Build up each VCF record, adjusting pos if needed\n",
    "    # ---------------------------------------------------------\n",
    "    for data_idx, ref_idx, mut_idx in zip(data_idxs, ref_idxs, mut_idxs):\n",
    "        start,end,chrom,build,variant_class,isoforms,hgncId,gene_start,gene_end,ref_allele,strand,mutation,bc = data[data_idx]\n",
    "\n",
    "        # Pull reference and mutant amino acids\n",
    "        ref_seq, mut_seq = ref_aa[ref_idx], mut_aa[mut_idx]\n",
    "        if (ref_seq is None) or (mut_seq is None):\n",
    "            continue\n",
    "        if '*' in ref_seq: \n",
    "            continue\n",
    "\n",
    "        # Prepare the position, ref, alt, etc.\n",
    "        pos = start\n",
    "        ref = ref_allele\n",
    "        alt = mutation\n",
    "        record_id = \".\"\n",
    "        qual = \".\"\n",
    "        vcf_filter = \".\"\n",
    "        info = f\"Variant_Classification={variant_class}\"\n",
    "        \n",
    "        # Retrieve the entire reference DNA sequence for this gene\n",
    "        gene_dna_seq = seqs[(build, chrom)][hgncId]\n",
    "\n",
    "        # Sanity-check that the base in gene_dna_seq matches ref_allele\n",
    "        if len(ref_allele) == 1:\n",
    "            assert gene_dna_seq[pos - gene_start] == ref_allele, data[data_idx]\n",
    "\n",
    "        # If one of them is empty (insertion), shift coordinate by 1\n",
    "        if '' in [ref_allele, mutation]:\n",
    "            pos -= 1\n",
    "            anchor = gene_dna_seq[pos - gene_start]\n",
    "            ref = anchor + ref\n",
    "            alt = anchor + alt\n",
    "        \n",
    "        # Store the final record\n",
    "        unsorted_records.append((chrom, pos, record_id, ref, alt, qual, vcf_filter, info))\n",
    "\n",
    "    # ---------------------------------------------------------\n",
    "    # Now sort the records by chromosome (numeric) and position\n",
    "    # ---------------------------------------------------------\n",
    "    sorted_records = sorted(\n",
    "        unsorted_records,\n",
    "        key=lambda row: (parse_chrom(row[0]), row[1])\n",
    "    )\n",
    "\n",
    "    # ---------------------------------------------------------\n",
    "    # Build the final VCF text\n",
    "    # ---------------------------------------------------------\n",
    "    output = []\n",
    "    output.append(\"##fileformat=VCFv4.1\")\n",
    "    output.append(\"#CHROM\\tPOS\\tID\\tREF\\tALT\\tQUAL\\tFILTER\\tINFO\")\n",
    "    output0 = output.copy()\n",
    "\n",
    "    for (chrom, pos, record_id, ref, alt, qual, vcf_filter, info) in sorted_records:\n",
    "        snv = len(ref) == 1 and len(alt) == 1\n",
    "        if snv_only and not snv: continue\n",
    "        vcf_line = \"\\t\".join([chrom, str(pos), record_id, ref, alt, qual, vcf_filter, info])\n",
    "        output.append(vcf_line)\n",
    "\n",
    "    if output == output0: return None\n",
    "\n",
    "    # Join into a single text block\n",
    "    vcf_content = \"\\n\".join(output) + \"\\n\"\n",
    "\n",
    "    # Optionally save as gzipped VCF\n",
    "    if save:\n",
    "        out_folder_0 = out_folder_0\n",
    "        out_file_0 = f\"{barcode}\"\n",
    "        if snv_only: \n",
    "            out_file_0 = out_file_0 + '_snv'\n",
    "            out_folder_0 = out_folder_0.replace(\"pe/\", \"pe_snv/\")\n",
    "        if gz:\n",
    "            out_folder = out_folder_0[:-1] + \"_gz/\"\n",
    "            out_file = out_file_0 + \".vcf.gz\"\n",
    "            out_path = out_folder + out_file\n",
    "            ensureDirectoryExists(out_folder)\n",
    "            with gzip.open(out_path, \"wt\") as gz_out:\n",
    "                gz_out.write(vcf_content)\n",
    "        if vcf:\n",
    "            out_folder = out_folder_0[:-1] + \"_vcf/\"\n",
    "            out_file = out_file_0 + \".vcf\"\n",
    "            out_path = out_folder + out_file\n",
    "            ensureDirectoryExists(out_folder)\n",
    "            with open(out_path.replace(\".gz\", \"\"), \"w\") as vcf_out:\n",
    "                vcf_out.write(vcf_content)\n",
    "\n",
    "    return vcf_content\n",
    "\n",
    "\n",
    "# -------------------------------------------------\n",
    "# Example\n",
    "# -------------------------------------------------\n",
    "\n",
    "barcode = 'GENIE-JHU-00006-00185'\n",
    "# barcode = 'GENIE-PROV-e940916f5e-94747919c3' #None\n",
    "vcf_string = to_vcf(tumors, barcode, data, seqs, ref_aa, mut_aa, save=False, snv_only=True, gz=True, vcf=True)\n",
    "print(vcf_string)"
   ]
  },
  {
   "cell_type": "code",
   "execution_count": null,
   "metadata": {},
   "outputs": [
    {
     "name": "stdout",
     "output_type": "stream",
     "text": [
      "In_Frame_Ins \t HGNC:11110  CCC\n",
      "Missense_Mutation \t HGNC:11110 A C\n",
      "Frame_Shift_Ins \t HGNC:11110 A CC\n",
      "Frame_Shift_Ins \t HGNC:11110  C\n",
      "Frame_Shift_Ins \t HGNC:11110 A CCC\n",
      "Frame_Shift_Ins \t HGNC:11110  CC\n",
      "Silent \t HGNC:23805 G A\n",
      "Missense_Mutation \t HGNC:6693 T C\n",
      "Missense_Mutation \t HGNC:5382 C T\n",
      "Missense_Mutation \t HGNC:7127 G A\n",
      "Missense_Mutation \t HGNC:30064 C T\n",
      "Missense_Mutation \t HGNC:11086 A G\n",
      "Silent \t HGNC:8803 A G\n",
      "Silent \t HGNC:8803 G A\n",
      "Missense_Mutation \t HGNC:6342 T G\n",
      "Missense_Mutation \t HGNC:6342 T G\n",
      "Silent \t HGNC:6119 C T\n",
      "Missense_Mutation \t HGNC:3236 G A\n",
      "Missense_Mutation \t HGNC:7029 C T\n",
      "Missense_Mutation \t HGNC:30939 TAT CAG\n",
      "Nonsense_Mutation \t HGNC:7881  T\n",
      "Silent \t HGNC:7881 G C\n",
      "Missense_Mutation \t HGNC:3587 A G\n",
      "Missense_Mutation \t HGNC:15998 T G\n",
      "Missense_Mutation \t HGNC:6126 G A\n",
      "Silent \t HGNC:6861 G A\n",
      "Missense_Mutation \t HGNC:391 C T\n",
      "Silent \t HGNC:14010 T C\n",
      "Missense_Mutation \t HGNC:2348 C T\n",
      "Missense_Mutation \t HGNC:11998 C T\n",
      "Missense_Mutation \t HGNC:5112 A T\n",
      "Nonsense_Mutation \t HGNC:14214 C T\n"
     ]
    }
   ],
   "source": [
    "for i in tumors['GENIE-UCSF-592864-44573T']:\n",
    "    start,end,chrom,build,variant_class,isoforms,hgncId,gene_start,gene_end,ref_allele,strand,mutation,bc = data[i[-1]]\n",
    "    print(variant_class,'\\t',hgncId,ref_allele,mutation)"
   ]
  },
  {
   "cell_type": "code",
   "execution_count": null,
   "metadata": {},
   "outputs": [
    {
     "name": "stderr",
     "output_type": "stream",
     "text": [
      "100%|██████████| 143530/143530 [00:12<00:00, 11237.05it/s]\n"
     ]
    }
   ],
   "source": [
    "from tqdm import tqdm\n",
    "class_data = pd.read_csv('../labeled_data/data_1_00percentMinCancerType.csv')\n",
    "barcodes = class_data['barcode'].values\n",
    "\n",
    "for barcode in tqdm(barcodes):\n",
    "    vcf_string = to_vcf(tumors, barcode, data, seqs, ref_aa, mut_aa, save=True)"
   ]
  },
  {
   "cell_type": "code",
   "execution_count": null,
   "metadata": {},
   "outputs": [],
   "source": [
    "filenames = os.listdir('/data/dandreas/SomaticMutationsLLM/vcf_1_00percentMinCancerType/')\n",
    "path = '/data/dandreas/SomaticMutationsLLM/vcf_1_00percentMinCancerType/'\n",
    "with open('/data/dandreas/SomaticMutationsLLM/filenames_vcf_1_00percentMinCancerType.tsv', 'w') as f:\n",
    "    f.write('path\\n')\n",
    "    for filename in filenames:\n",
    "        f.write(f'{path}{filename}\\n')"
   ]
  },
  {
   "cell_type": "code",
   "execution_count": null,
   "metadata": {},
   "outputs": [],
   "source": [
    "j=0\n",
    "for ni,i in enumerate(filenames):\n",
    "    if 'GENIE-DFCI-007014-8417.gc.genic.vcf.gz'==i:\n",
    "        print(ni,f'{ni/len(filenames)*100:.2f}%')"
   ]
  },
  {
   "cell_type": "code",
   "execution_count": null,
   "metadata": {},
   "outputs": [
    {
     "name": "stderr",
     "output_type": "stream",
     "text": [
      "100%|██████████| 143530/143530 [02:18<00:00, 1034.09it/s]\n"
     ]
    }
   ],
   "source": [
    "## SNV ONLY\n",
    "from tqdm import tqdm\n",
    "class_data = pd.read_csv('../labeled_data/data_1_00percentMinCancerType.csv')\n",
    "barcodes = class_data['barcode'].values\n",
    "\n",
    "folder = '/data/dandreas/SomaticMutationsLLM/vcf_for_cosmic_test/'\n",
    "for n,barcode in tqdm(enumerate(barcodes),total=len(barcodes)):\n",
    "    f = folder + f'{int(n/1000)}/'\n",
    "    vcf_string = to_vcf(tumors, barcode, data, seqs, ref_aa, mut_aa, save=True, gz = False, snv_only=True, out_folder_0 = f)\n",
    "    if vcf_string is None: continue\n",
    "    x = pd.read_csv(StringIO(vcf_string), sep='\\t', skiprows=1)\n",
    "    all_ref = x['REF'].apply(lambda x: len(x) == 1).all()\n",
    "    all_alt = x['ALT'].apply(lambda x: len(x) == 1).all()\n",
    "    assert all_ref and all_alt\n",
    "\n",
    "# path = '/data/dandreas/SomaticMutationsLLM/vcf_1_00percentMinCancerType_snv_gz/'\n",
    "# filenames = os.listdir(path)\n",
    "# with open('/data/dandreas/SomaticMutationsLLM/filenames_vcf_1_00percentMinCancerType_snv.tsv', 'w') as f:\n",
    "#     f.write('path\\n')\n",
    "#     for filename in filenames:\n",
    "#         f.write(f'{path}{filename}\\n')"
   ]
  },
  {
   "cell_type": "code",
   "execution_count": 6,
   "metadata": {},
   "outputs": [
    {
     "name": "stderr",
     "output_type": "stream",
     "text": [
      "100%|██████████| 14353/14353 [00:13<00:00, 1040.38it/s]\n"
     ]
    }
   ],
   "source": [
    "## SNV ONLY 10% SUBSET\n",
    "from tqdm import tqdm\n",
    "class_data = pd.read_csv('../labeled_data/data_1_00percentMinCancerType.csv')\n",
    "barcodes = class_data['barcode'].values\n",
    "\n",
    "folder = '/data/dandreas/SomaticMutationsLLM/vcf_for_cosmic_10percent/'\n",
    "barcodes_subset = np.random.choice(barcodes, int(len(barcodes)/10), replace=False)\n",
    "for n,barcode in tqdm(enumerate(barcodes_subset),total=len(barcodes_subset)):\n",
    "    f = folder #+ f'{int(n/1000)}/'\n",
    "    vcf_string = to_vcf(tumors, barcode, data, seqs, ref_aa, mut_aa, save=True, gz = False, snv_only=True, out_folder_0 = f)\n",
    "    if vcf_string is None: continue\n",
    "    x = pd.read_csv(StringIO(vcf_string), sep='\\t', skiprows=1)\n",
    "    all_ref = x['REF'].apply(lambda x: len(x) == 1).all()\n",
    "    all_alt = x['ALT'].apply(lambda x: len(x) == 1).all()\n",
    "    assert all_ref and all_alt\n",
    "\n",
    "# path = '/data/dandreas/SomaticMutationsLLM/vcf_1_00percentMinCancerType_snv_gz/'\n",
    "# filenames = os.listdir(path)\n",
    "# with open('/data/dandreas/SomaticMutationsLLM/filenames_vcf_1_00percentMinCancerType_snv.tsv', 'w') as f:\n",
    "#     f.write('path\\n')\n",
    "#     for filename in filenames:\n",
    "#         f.write(f'{path}{filename}\\n')"
   ]
  }
 ],
 "metadata": {
  "kernelspec": {
   "display_name": "esm3",
   "language": "python",
   "name": "python3"
  },
  "language_info": {
   "codemirror_mode": {
    "name": "ipython",
    "version": 3
   },
   "file_extension": ".py",
   "mimetype": "text/x-python",
   "name": "python",
   "nbconvert_exporter": "python",
   "pygments_lexer": "ipython3",
   "version": "3.10.16"
  }
 },
 "nbformat": 4,
 "nbformat_minor": 2
}
